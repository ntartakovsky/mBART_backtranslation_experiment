{
  "cells": [
    {
      "cell_type": "markdown",
      "source": [
        "# Model Evaluation"
      ],
      "metadata": {
        "id": "RgqWmtfFUVcw"
      }
    },
    {
      "cell_type": "code",
      "execution_count": 1,
      "metadata": {
        "colab": {
          "base_uri": "https://localhost:8080/"
        },
        "id": "N4RTEFwc3WNd",
        "outputId": "746a86f1-fe68-4442-a198-d90e664ab200"
      },
      "outputs": [
        {
          "output_type": "stream",
          "name": "stdout",
          "text": [
            "\u001b[2K     \u001b[90m━━━━━━━━━━━━━━━━━━━━━━━━━━━━━━━━━━━━━━━━\u001b[0m \u001b[32m6.8/6.8 MB\u001b[0m \u001b[31m93.7 MB/s\u001b[0m eta \u001b[36m0:00:00\u001b[0m\n",
            "\u001b[2K     \u001b[90m━━━━━━━━━━━━━━━━━━━━━━━━━━━━━━━━━━━━━━\u001b[0m \u001b[32m200.1/200.1 kB\u001b[0m \u001b[31m24.6 MB/s\u001b[0m eta \u001b[36m0:00:00\u001b[0m\n",
            "\u001b[2K     \u001b[90m━━━━━━━━━━━━━━━━━━━━━━━━━━━━━━━━━━━━━━━━\u001b[0m \u001b[32m7.8/7.8 MB\u001b[0m \u001b[31m107.9 MB/s\u001b[0m eta \u001b[36m0:00:00\u001b[0m\n",
            "\u001b[2K     \u001b[90m━━━━━━━━━━━━━━━━━━━━━━━━━━━━━━━━━━━━━━\u001b[0m \u001b[32m468.7/468.7 kB\u001b[0m \u001b[31m35.9 MB/s\u001b[0m eta \u001b[36m0:00:00\u001b[0m\n",
            "\u001b[2K     \u001b[90m━━━━━━━━━━━━━━━━━━━━━━━━━━━━━━━━━━━━━━━━\u001b[0m \u001b[32m1.0/1.0 MB\u001b[0m \u001b[31m71.2 MB/s\u001b[0m eta \u001b[36m0:00:00\u001b[0m\n",
            "\u001b[2K     \u001b[90m━━━━━━━━━━━━━━━━━━━━━━━━━━━━━━━━━━━━━━\u001b[0m \u001b[32m110.5/110.5 kB\u001b[0m \u001b[31m15.8 MB/s\u001b[0m eta \u001b[36m0:00:00\u001b[0m\n",
            "\u001b[2K     \u001b[90m━━━━━━━━━━━━━━━━━━━━━━━━━━━━━━━━━━━━━━\u001b[0m \u001b[32m132.9/132.9 kB\u001b[0m \u001b[31m17.8 MB/s\u001b[0m eta \u001b[36m0:00:00\u001b[0m\n",
            "\u001b[2K     \u001b[90m━━━━━━━━━━━━━━━━━━━━━━━━━━━━━━━━━━━━━━\u001b[0m \u001b[32m212.2/212.2 kB\u001b[0m \u001b[31m28.1 MB/s\u001b[0m eta \u001b[36m0:00:00\u001b[0m\n",
            "\u001b[2K     \u001b[90m━━━━━━━━━━━━━━━━━━━━━━━━━━━━━━━━━━━━━━\u001b[0m \u001b[32m158.8/158.8 kB\u001b[0m \u001b[31m21.2 MB/s\u001b[0m eta \u001b[36m0:00:00\u001b[0m\n",
            "\u001b[2K     \u001b[90m━━━━━━━━━━━━━━━━━━━━━━━━━━━━━━━━━━━━━━\u001b[0m \u001b[32m264.6/264.6 kB\u001b[0m \u001b[31m28.2 MB/s\u001b[0m eta \u001b[36m0:00:00\u001b[0m\n",
            "\u001b[2K     \u001b[90m━━━━━━━━━━━━━━━━━━━━━━━━━━━━━━━━━━━━━━\u001b[0m \u001b[32m114.2/114.2 kB\u001b[0m \u001b[31m16.5 MB/s\u001b[0m eta \u001b[36m0:00:00\u001b[0m\n",
            "\u001b[2K     \u001b[90m━━━━━━━━━━━━━━━━━━━━━━━━━━━━━━━━━━━━━━━━\u001b[0m \u001b[32m1.3/1.3 MB\u001b[0m \u001b[31m57.6 MB/s\u001b[0m eta \u001b[36m0:00:00\u001b[0m\n",
            "\u001b[?25h"
          ]
        }
      ],
      "source": [
        "!pip install transformers --quiet\n",
        "!pip install datasets --quiet\n",
        "!pip install sentencepiece --quiet\n",
        "!pip install torch --quiet"
      ]
    },
    {
      "cell_type": "code",
      "execution_count": 2,
      "metadata": {
        "colab": {
          "base_uri": "https://localhost:8080/"
        },
        "id": "iGmJ5gtdEg56",
        "outputId": "566140e1-c326-4dc5-ff9a-48870fa6f716"
      },
      "outputs": [
        {
          "output_type": "stream",
          "name": "stdout",
          "text": [
            "Mounted at /content/drive\n"
          ]
        }
      ],
      "source": [
        "from google.colab import drive\n",
        "drive.mount('/content/drive')"
      ]
    },
    {
      "cell_type": "code",
      "execution_count": 3,
      "metadata": {
        "id": "tCVmEBspEg8a"
      },
      "outputs": [],
      "source": [
        "from transformers import AutoTokenizer, AutoModelForSeq2SeqLM\n",
        "from transformers import MBartForConditionalGeneration, MBartTokenizer, MBart50TokenizerFast\n",
        "from transformers import M2M100ForConditionalGeneration, M2M100Tokenizer\n",
        "\n",
        "from datasets import load_dataset\n",
        "import pandas as pd\n",
        "import nltk\n",
        "import copy"
      ]
    },
    {
      "cell_type": "code",
      "execution_count": 4,
      "metadata": {
        "id": "iB6QBZMnEg-n"
      },
      "outputs": [],
      "source": [
        "%%capture\n",
        "sw_test_flores = load_dataset(\"facebook/flores\", 'swh_Latn')\n",
        "en_test_flores = load_dataset(\"facebook/flores\", 'eng_Latn')\n",
        "\n",
        "src_eval_texts = sw_test_flores['dev']['sentence'] + sw_test_flores['devtest']['sentence']\n",
        "tgt_eval_texts = en_test_flores['dev']['sentence'] + en_test_flores['devtest']['sentence']\n",
        "\n",
        "src_lang, tgt_lang = 'sw_KE', 'en_XX'"
      ]
    },
    {
      "cell_type": "code",
      "execution_count": 5,
      "metadata": {
        "id": "6OF6075uEhAp"
      },
      "outputs": [],
      "source": [
        "%%capture\n",
        "# baseline_model = MBartForConditionalGeneration.from_pretrained(\"facebook/mbart-large-50-many-to-many-mmt\")\n",
        "tokenizer = MBart50TokenizerFast.from_pretrained(\"facebook/mbart-large-50-many-to-many-mmt\", src_lang=\"sw_KE\", tgt_lang=\"en_XX\")"
      ]
    },
    {
      "cell_type": "markdown",
      "metadata": {
        "id": "-HZhk-YcE2nm"
      },
      "source": [
        "## Model Evaluation"
      ]
    },
    {
      "cell_type": "code",
      "execution_count": 6,
      "metadata": {
        "id": "HJiIVXgBEhCq"
      },
      "outputs": [],
      "source": [
        "import torch\n",
        "from torch.utils.data import Dataset, DataLoader\n",
        "import nltk.translate.bleu_score\n",
        "\n",
        "class EvalDataset(Dataset):\n",
        "    def __init__(self, src_eval_texts, tokenizer, src_lang):\n",
        "        self.src_eval_texts = src_eval_texts\n",
        "        self.tokenizer = tokenizer\n",
        "        self.src_lang = src_lang\n",
        "\n",
        "    def __len__(self):\n",
        "        return len(self.src_eval_texts)\n",
        "\n",
        "    def __getitem__(self, idx):\n",
        "        self.tokenizer.src_lang = self.src_lang\n",
        "        src_eval_texts = self.src_eval_texts[idx]\n",
        "        # inputs = self.tokenizer(self.src_eval_texts[idx], return_tensors=\"pt\", padding='max_length', max_length=32, truncation=True)\n",
        "\n",
        "        return src_eval_texts\n",
        "\n",
        "def evaluate_model(src_eval_texts, tgt_eval_texts, src_lang, tgt_lang, model, tokenizer, batch_size=16, device='cuda'):\n",
        "    if torch.cuda.is_available() and device == 'cuda':\n",
        "        device = torch.device('cuda')\n",
        "        model.to(device)\n",
        "        print('on gpu')\n",
        "    else:\n",
        "        device = torch.device('cpu')\n",
        "        print('on cpu')\n",
        "\n",
        "    eval_dataset = EvalDataset(src_eval_texts, tokenizer, src_lang)\n",
        "    eval_dataloader = DataLoader(eval_dataset, batch_size=batch_size)\n",
        "\n",
        "    model.eval()\n",
        "    predicted = []\n",
        "    nltk_bleu_scores = []\n",
        "\n",
        "    with torch.no_grad():\n",
        "        evaluated = 0\n",
        "        for batch_idx, src_eval_texts in enumerate(eval_dataloader):\n",
        "            # print(inputs)\n",
        "            inputs = tokenizer(src_eval_texts, return_tensors=\"pt\", padding='max_length', max_length=32, truncation=True)\n",
        "            inputs = {k: v.to(device) for k, v in inputs.items()}\n",
        "            # inputs = {k: v[0] for k, v in inputs.items()}\n",
        "            # print(inputs)\n",
        "            # print(len(inputs))\n",
        "            translated_tokens = model.generate(**inputs, forced_bos_token_id=tokenizer.lang_code_to_id[tgt_lang])\n",
        "            outputs = tokenizer.batch_decode(translated_tokens, skip_special_tokens=True)\n",
        "\n",
        "            for i, output in enumerate(outputs):\n",
        "                tgt_idx = batch_idx * batch_size + i\n",
        "                predicted.append(output)\n",
        "                BLEUscore = nltk.translate.bleu_score.sentence_bleu([tgt_eval_texts[tgt_idx].split()], output.split())\n",
        "                nltk_bleu_scores.append(BLEUscore)\n",
        "            evaluated += batch_size\n",
        "            print('evaluated: ',evaluated)\n",
        "    return predicted, nltk_bleu_scores\n"
      ]
    },
    {
      "cell_type": "code",
      "execution_count": 7,
      "metadata": {
        "id": "ztSvkf98FKST"
      },
      "outputs": [],
      "source": [
        "def evaluate_pipeline(src_eval_texts, tgt_eval_texts, model_path, tokenizer, model_type):\n",
        "\n",
        "  model = MBartForConditionalGeneration.from_pretrained(model_path)\n",
        "  print('model loaded')\n",
        "  if 'facebook' in model_path:\n",
        "    datasize = ''\n",
        "  else:\n",
        "    datasize = model_path.split('_')[-2]\n",
        "  print(datasize)\n",
        "  print(model_type)\n",
        "  predicted, nltk_bleu_scores = evaluate_model(src_eval_texts, tgt_eval_texts, src_lang, tgt_lang, model, tokenizer)\n",
        "  results = pd.DataFrame([src_eval_texts, tgt_eval_texts, predicted, nltk_bleu_scores]).T\n",
        "  results.columns = ['source', 'target', 'predicted', 'bleu']\n",
        "  results.to_csv(f'/content/drive/MyDrive/W266 Final Project/{model_type}_results_{datasize}.csv')\n",
        "  return results\n"
      ]
    },
    {
      "cell_type": "markdown",
      "source": [
        "## Single Output"
      ],
      "metadata": {
        "id": "jT7OAz1fQKPn"
      }
    },
    {
      "cell_type": "code",
      "source": [
        "# baseline_model.to('cpu')\n",
        "# sw_sentence = 'Mnamo Jumatatu, wanasayansi kutoka Shule ya Tiba ya Chuo Kikuu cha Stanford walitangaza uvumbuzi wa kifaa kipya cha utambuzi ambacho kinaweza kupanga seli kwa aina: kidude kidogo kinachoweza kuchapwa, na ambacho kinaweza kutengenezwa kwa kutumia printa ya kawaida ya kupuliza rangi, yawezekana kwa takribani senti moja ya Marekani kwa kila moja.'\n",
        "\n",
        "# inputs = tokenizer(sw_sentence, return_tensors=\"pt\", padding='max_length', max_length=32, truncation=True)\n",
        "\n",
        "# translated_tokens = baseline_model.generate(**inputs, forced_bos_token_id=tokenizer.lang_code_to_id[tgt_lang])\n",
        "# outputs = tokenizer.batch_decode(translated_tokens, skip_special_tokens=True)\n",
        "# outputs\n",
        "\n",
        "# sw_sentence = 'Al Gore na Jenerali Tommy Franks kwa kawaida walinjuga mbali vichwa vya habari (Gore alijipata kwenye vichwa vya habari wakati Onion aliripoti kuwa yeye na Tipper walishiriki ngono baada ya kushindwa kwenye uchaguzi wa chuo).'\n",
        "\n",
        "# inputs = tokenizer(sw_sentence, return_tensors=\"pt\", padding='max_length', max_length=32, truncation=True)\n",
        "\n",
        "# translated_tokens = baseline_model.generate(**inputs, forced_bos_token_id=tokenizer.lang_code_to_id[tgt_lang])\n",
        "# outputs = tokenizer.batch_decode(translated_tokens, skip_special_tokens=True)\n",
        "# outputs"
      ],
      "metadata": {
        "id": "7YUXglidQL9p"
      },
      "execution_count": null,
      "outputs": []
    },
    {
      "cell_type": "markdown",
      "source": [
        "# Baseline Results"
      ],
      "metadata": {
        "id": "56abd3cpZ6jp"
      }
    },
    {
      "cell_type": "markdown",
      "metadata": {
        "id": "-8TYXY0yFKxi"
      },
      "source": [
        "## Baseline Model"
      ]
    },
    {
      "cell_type": "code",
      "execution_count": null,
      "metadata": {
        "id": "D23gctjaFKQD"
      },
      "outputs": [],
      "source": [
        "baseline_model_path = \"facebook/mbart-large-50-many-to-many-mmt\"\n",
        "\n",
        "baseline_results = evaluate_pipeline(src_eval_texts, tgt_eval_texts, baseline_model_path, tokenizer, 'baseline')"
      ]
    },
    {
      "cell_type": "code",
      "execution_count": null,
      "metadata": {
        "id": "ozNOh1xUFKN-",
        "colab": {
          "base_uri": "https://localhost:8080/",
          "height": 424
        },
        "outputId": "8904edd6-47fe-4ae8-ef5c-2f20bc17f267"
      },
      "outputs": [
        {
          "output_type": "execute_result",
          "data": {
            "text/plain": [
              "                                                 source  \\\n",
              "0     Mnamo Jumatatu, wanasayansi kutoka Shule ya Ti...   \n",
              "1     Watafiti wakuu wanasema hili linaweza kuleta u...   \n",
              "2     JAS 39C Gripen ilianguka kwenye barabara kuu k...   \n",
              "3     Rubani alitambuliwa kama Kiongozi wa Kikosi Di...   \n",
              "4     Vyombo vya habari vya ndani vinaripoti kwamba ...   \n",
              "...                                                 ...   \n",
              "2004  Kwa kuwa maeneo hayo hayana idadi kubwa ya wat...   \n",
              "2005  Desturi ya kazi ya Kijapani ni ya kimfumo na r...   \n",
              "2006  Suti ni mavazi ya kawaida ya kibiashara, na wa...   \n",
              "2007  Ulinganifu katika mahali pa kazi ni muhimu, ku...   \n",
              "2008  Mara kwa mara wafanyakazi hupata kibali cha ma...   \n",
              "\n",
              "                                                 target  \\\n",
              "0     On Monday, scientists from the Stanford Univer...   \n",
              "1     Lead researchers say this may bring early dete...   \n",
              "2     The JAS 39C Gripen crashed onto a runway at ar...   \n",
              "3     The pilot was identified as Squadron Leader Di...   \n",
              "4     Local media reports an airport fire vehicle ro...   \n",
              "...                                                 ...   \n",
              "2004  As the areas are sparsely populated, and light...   \n",
              "2005  Japanese work culture is more hierarchical and...   \n",
              "2006  Suits are standard business attire, and cowork...   \n",
              "2007  Workplace harmony is crucial, emphasizing grou...   \n",
              "2008  Workers must often get their superiors' approv...   \n",
              "\n",
              "                                              predicted      bleu  \n",
              "0     We had hundreds of people from all over the wo...       0.0  \n",
              "1     The last thing I heard about my month was some...       0.0  \n",
              "2     JAS 39C The JAS 39C Gripen was caught on a sin...  0.101452  \n",
              "3     Rubani is also found in the daytime fruits of ...       0.0  \n",
              "4     Production and distribution of wines and spiri...         0  \n",
              "...                                                 ...       ...  \n",
              "2004  In addition to non-Arabic languages, Arabic-sp...       0.0  \n",
              "2005  The thrill of casinos in Japan is not just a s...       0.0  \n",
              "2006  It's not a waste of time to wash your kidneys,...       0.0  \n",
              "2007  Using the same in the mornings and evenings of...       0.0  \n",
              "2008  And I loved it so badly that I literally wrote...       0.0  \n",
              "\n",
              "[2009 rows x 4 columns]"
            ],
            "text/html": [
              "\n",
              "  <div id=\"df-ecb77b0d-dcb8-47f9-bc81-72ea216efc37\">\n",
              "    <div class=\"colab-df-container\">\n",
              "      <div>\n",
              "<style scoped>\n",
              "    .dataframe tbody tr th:only-of-type {\n",
              "        vertical-align: middle;\n",
              "    }\n",
              "\n",
              "    .dataframe tbody tr th {\n",
              "        vertical-align: top;\n",
              "    }\n",
              "\n",
              "    .dataframe thead th {\n",
              "        text-align: right;\n",
              "    }\n",
              "</style>\n",
              "<table border=\"1\" class=\"dataframe\">\n",
              "  <thead>\n",
              "    <tr style=\"text-align: right;\">\n",
              "      <th></th>\n",
              "      <th>source</th>\n",
              "      <th>target</th>\n",
              "      <th>predicted</th>\n",
              "      <th>bleu</th>\n",
              "    </tr>\n",
              "  </thead>\n",
              "  <tbody>\n",
              "    <tr>\n",
              "      <th>0</th>\n",
              "      <td>Mnamo Jumatatu, wanasayansi kutoka Shule ya Ti...</td>\n",
              "      <td>On Monday, scientists from the Stanford Univer...</td>\n",
              "      <td>We had hundreds of people from all over the wo...</td>\n",
              "      <td>0.0</td>\n",
              "    </tr>\n",
              "    <tr>\n",
              "      <th>1</th>\n",
              "      <td>Watafiti wakuu wanasema hili linaweza kuleta u...</td>\n",
              "      <td>Lead researchers say this may bring early dete...</td>\n",
              "      <td>The last thing I heard about my month was some...</td>\n",
              "      <td>0.0</td>\n",
              "    </tr>\n",
              "    <tr>\n",
              "      <th>2</th>\n",
              "      <td>JAS 39C Gripen ilianguka kwenye barabara kuu k...</td>\n",
              "      <td>The JAS 39C Gripen crashed onto a runway at ar...</td>\n",
              "      <td>JAS 39C The JAS 39C Gripen was caught on a sin...</td>\n",
              "      <td>0.101452</td>\n",
              "    </tr>\n",
              "    <tr>\n",
              "      <th>3</th>\n",
              "      <td>Rubani alitambuliwa kama Kiongozi wa Kikosi Di...</td>\n",
              "      <td>The pilot was identified as Squadron Leader Di...</td>\n",
              "      <td>Rubani is also found in the daytime fruits of ...</td>\n",
              "      <td>0.0</td>\n",
              "    </tr>\n",
              "    <tr>\n",
              "      <th>4</th>\n",
              "      <td>Vyombo vya habari vya ndani vinaripoti kwamba ...</td>\n",
              "      <td>Local media reports an airport fire vehicle ro...</td>\n",
              "      <td>Production and distribution of wines and spiri...</td>\n",
              "      <td>0</td>\n",
              "    </tr>\n",
              "    <tr>\n",
              "      <th>...</th>\n",
              "      <td>...</td>\n",
              "      <td>...</td>\n",
              "      <td>...</td>\n",
              "      <td>...</td>\n",
              "    </tr>\n",
              "    <tr>\n",
              "      <th>2004</th>\n",
              "      <td>Kwa kuwa maeneo hayo hayana idadi kubwa ya wat...</td>\n",
              "      <td>As the areas are sparsely populated, and light...</td>\n",
              "      <td>In addition to non-Arabic languages, Arabic-sp...</td>\n",
              "      <td>0.0</td>\n",
              "    </tr>\n",
              "    <tr>\n",
              "      <th>2005</th>\n",
              "      <td>Desturi ya kazi ya Kijapani ni ya kimfumo na r...</td>\n",
              "      <td>Japanese work culture is more hierarchical and...</td>\n",
              "      <td>The thrill of casinos in Japan is not just a s...</td>\n",
              "      <td>0.0</td>\n",
              "    </tr>\n",
              "    <tr>\n",
              "      <th>2006</th>\n",
              "      <td>Suti ni mavazi ya kawaida ya kibiashara, na wa...</td>\n",
              "      <td>Suits are standard business attire, and cowork...</td>\n",
              "      <td>It's not a waste of time to wash your kidneys,...</td>\n",
              "      <td>0.0</td>\n",
              "    </tr>\n",
              "    <tr>\n",
              "      <th>2007</th>\n",
              "      <td>Ulinganifu katika mahali pa kazi ni muhimu, ku...</td>\n",
              "      <td>Workplace harmony is crucial, emphasizing grou...</td>\n",
              "      <td>Using the same in the mornings and evenings of...</td>\n",
              "      <td>0.0</td>\n",
              "    </tr>\n",
              "    <tr>\n",
              "      <th>2008</th>\n",
              "      <td>Mara kwa mara wafanyakazi hupata kibali cha ma...</td>\n",
              "      <td>Workers must often get their superiors' approv...</td>\n",
              "      <td>And I loved it so badly that I literally wrote...</td>\n",
              "      <td>0.0</td>\n",
              "    </tr>\n",
              "  </tbody>\n",
              "</table>\n",
              "<p>2009 rows × 4 columns</p>\n",
              "</div>\n",
              "      <button class=\"colab-df-convert\" onclick=\"convertToInteractive('df-ecb77b0d-dcb8-47f9-bc81-72ea216efc37')\"\n",
              "              title=\"Convert this dataframe to an interactive table.\"\n",
              "              style=\"display:none;\">\n",
              "        \n",
              "  <svg xmlns=\"http://www.w3.org/2000/svg\" height=\"24px\"viewBox=\"0 0 24 24\"\n",
              "       width=\"24px\">\n",
              "    <path d=\"M0 0h24v24H0V0z\" fill=\"none\"/>\n",
              "    <path d=\"M18.56 5.44l.94 2.06.94-2.06 2.06-.94-2.06-.94-.94-2.06-.94 2.06-2.06.94zm-11 1L8.5 8.5l.94-2.06 2.06-.94-2.06-.94L8.5 2.5l-.94 2.06-2.06.94zm10 10l.94 2.06.94-2.06 2.06-.94-2.06-.94-.94-2.06-.94 2.06-2.06.94z\"/><path d=\"M17.41 7.96l-1.37-1.37c-.4-.4-.92-.59-1.43-.59-.52 0-1.04.2-1.43.59L10.3 9.45l-7.72 7.72c-.78.78-.78 2.05 0 2.83L4 21.41c.39.39.9.59 1.41.59.51 0 1.02-.2 1.41-.59l7.78-7.78 2.81-2.81c.8-.78.8-2.07 0-2.86zM5.41 20L4 18.59l7.72-7.72 1.47 1.35L5.41 20z\"/>\n",
              "  </svg>\n",
              "      </button>\n",
              "      \n",
              "  <style>\n",
              "    .colab-df-container {\n",
              "      display:flex;\n",
              "      flex-wrap:wrap;\n",
              "      gap: 12px;\n",
              "    }\n",
              "\n",
              "    .colab-df-convert {\n",
              "      background-color: #E8F0FE;\n",
              "      border: none;\n",
              "      border-radius: 50%;\n",
              "      cursor: pointer;\n",
              "      display: none;\n",
              "      fill: #1967D2;\n",
              "      height: 32px;\n",
              "      padding: 0 0 0 0;\n",
              "      width: 32px;\n",
              "    }\n",
              "\n",
              "    .colab-df-convert:hover {\n",
              "      background-color: #E2EBFA;\n",
              "      box-shadow: 0px 1px 2px rgba(60, 64, 67, 0.3), 0px 1px 3px 1px rgba(60, 64, 67, 0.15);\n",
              "      fill: #174EA6;\n",
              "    }\n",
              "\n",
              "    [theme=dark] .colab-df-convert {\n",
              "      background-color: #3B4455;\n",
              "      fill: #D2E3FC;\n",
              "    }\n",
              "\n",
              "    [theme=dark] .colab-df-convert:hover {\n",
              "      background-color: #434B5C;\n",
              "      box-shadow: 0px 1px 3px 1px rgba(0, 0, 0, 0.15);\n",
              "      filter: drop-shadow(0px 1px 2px rgba(0, 0, 0, 0.3));\n",
              "      fill: #FFFFFF;\n",
              "    }\n",
              "  </style>\n",
              "\n",
              "      <script>\n",
              "        const buttonEl =\n",
              "          document.querySelector('#df-ecb77b0d-dcb8-47f9-bc81-72ea216efc37 button.colab-df-convert');\n",
              "        buttonEl.style.display =\n",
              "          google.colab.kernel.accessAllowed ? 'block' : 'none';\n",
              "\n",
              "        async function convertToInteractive(key) {\n",
              "          const element = document.querySelector('#df-ecb77b0d-dcb8-47f9-bc81-72ea216efc37');\n",
              "          const dataTable =\n",
              "            await google.colab.kernel.invokeFunction('convertToInteractive',\n",
              "                                                     [key], {});\n",
              "          if (!dataTable) return;\n",
              "\n",
              "          const docLinkHtml = 'Like what you see? Visit the ' +\n",
              "            '<a target=\"_blank\" href=https://colab.research.google.com/notebooks/data_table.ipynb>data table notebook</a>'\n",
              "            + ' to learn more about interactive tables.';\n",
              "          element.innerHTML = '';\n",
              "          dataTable['output_type'] = 'display_data';\n",
              "          await google.colab.output.renderOutput(dataTable, element);\n",
              "          const docLink = document.createElement('div');\n",
              "          docLink.innerHTML = docLinkHtml;\n",
              "          element.appendChild(docLink);\n",
              "        }\n",
              "      </script>\n",
              "    </div>\n",
              "  </div>\n",
              "  "
            ]
          },
          "metadata": {},
          "execution_count": 24
        }
      ],
      "source": [
        "baseline_results"
      ]
    },
    {
      "cell_type": "code",
      "source": [
        "baseline_results['bleu'].mean()"
      ],
      "metadata": {
        "colab": {
          "base_uri": "https://localhost:8080/"
        },
        "id": "Nsd7dl1AQxMe",
        "outputId": "858c2cc7-96ee-450f-91be-64453d5a0f7d"
      },
      "execution_count": null,
      "outputs": [
        {
          "output_type": "execute_result",
          "data": {
            "text/plain": [
              "0.004043805168329893"
            ]
          },
          "metadata": {},
          "execution_count": 25
        }
      ]
    },
    {
      "cell_type": "code",
      "execution_count": null,
      "metadata": {
        "colab": {
          "base_uri": "https://localhost:8080/"
        },
        "id": "WWNqGqFHGksN",
        "outputId": "cf47e816-8cc1-43dd-e3a3-0e7091811776"
      },
      "outputs": [
        {
          "data": {
            "text/plain": [
              "0.004043805168329893"
            ]
          },
          "execution_count": 88,
          "metadata": {},
          "output_type": "execute_result"
        }
      ],
      "source": [
        "# previous results\n",
        "baseline_results['bleu'].mean()"
      ]
    },
    {
      "cell_type": "code",
      "execution_count": null,
      "metadata": {
        "colab": {
          "base_uri": "https://localhost:8080/",
          "height": 206
        },
        "id": "7DX2Lb-tGkt6",
        "outputId": "9a25832e-a6b4-4af0-a8e7-efa7fb48f69f"
      },
      "outputs": [
        {
          "data": {
            "text/html": [
              "\n",
              "  <div id=\"df-41fdfb4f-7a2d-46b0-90ef-f35f34096dc8\">\n",
              "    <div class=\"colab-df-container\">\n",
              "      <div>\n",
              "<style scoped>\n",
              "    .dataframe tbody tr th:only-of-type {\n",
              "        vertical-align: middle;\n",
              "    }\n",
              "\n",
              "    .dataframe tbody tr th {\n",
              "        vertical-align: top;\n",
              "    }\n",
              "\n",
              "    .dataframe thead th {\n",
              "        text-align: right;\n",
              "    }\n",
              "</style>\n",
              "<table border=\"1\" class=\"dataframe\">\n",
              "  <thead>\n",
              "    <tr style=\"text-align: right;\">\n",
              "      <th></th>\n",
              "      <th>source</th>\n",
              "      <th>target</th>\n",
              "      <th>predicted</th>\n",
              "      <th>bleu</th>\n",
              "    </tr>\n",
              "  </thead>\n",
              "  <tbody>\n",
              "    <tr>\n",
              "      <th>0</th>\n",
              "      <td>Mnamo Jumatatu, wanasayansi kutoka Shule ya Ti...</td>\n",
              "      <td>On Monday, scientists from the Stanford Univer...</td>\n",
              "      <td>We had hundreds of people from all over the wo...</td>\n",
              "      <td>0.0</td>\n",
              "    </tr>\n",
              "    <tr>\n",
              "      <th>1</th>\n",
              "      <td>Watafiti wakuu wanasema hili linaweza kuleta u...</td>\n",
              "      <td>Lead researchers say this may bring early dete...</td>\n",
              "      <td>The last thing I heard about my month was some...</td>\n",
              "      <td>0.0</td>\n",
              "    </tr>\n",
              "    <tr>\n",
              "      <th>2</th>\n",
              "      <td>JAS 39C Gripen ilianguka kwenye barabara kuu k...</td>\n",
              "      <td>The JAS 39C Gripen crashed onto a runway at ar...</td>\n",
              "      <td>JAS 39C The JAS 39C Gripen was caught on a sin...</td>\n",
              "      <td>0.101452</td>\n",
              "    </tr>\n",
              "    <tr>\n",
              "      <th>3</th>\n",
              "      <td>Rubani alitambuliwa kama Kiongozi wa Kikosi Di...</td>\n",
              "      <td>The pilot was identified as Squadron Leader Di...</td>\n",
              "      <td>Rubani is also found in the daytime fruits of ...</td>\n",
              "      <td>0.0</td>\n",
              "    </tr>\n",
              "    <tr>\n",
              "      <th>4</th>\n",
              "      <td>Vyombo vya habari vya ndani vinaripoti kwamba ...</td>\n",
              "      <td>Local media reports an airport fire vehicle ro...</td>\n",
              "      <td>Production and distribution of wines and spiri...</td>\n",
              "      <td>0</td>\n",
              "    </tr>\n",
              "  </tbody>\n",
              "</table>\n",
              "</div>\n",
              "      <button class=\"colab-df-convert\" onclick=\"convertToInteractive('df-41fdfb4f-7a2d-46b0-90ef-f35f34096dc8')\"\n",
              "              title=\"Convert this dataframe to an interactive table.\"\n",
              "              style=\"display:none;\">\n",
              "        \n",
              "  <svg xmlns=\"http://www.w3.org/2000/svg\" height=\"24px\"viewBox=\"0 0 24 24\"\n",
              "       width=\"24px\">\n",
              "    <path d=\"M0 0h24v24H0V0z\" fill=\"none\"/>\n",
              "    <path d=\"M18.56 5.44l.94 2.06.94-2.06 2.06-.94-2.06-.94-.94-2.06-.94 2.06-2.06.94zm-11 1L8.5 8.5l.94-2.06 2.06-.94-2.06-.94L8.5 2.5l-.94 2.06-2.06.94zm10 10l.94 2.06.94-2.06 2.06-.94-2.06-.94-.94-2.06-.94 2.06-2.06.94z\"/><path d=\"M17.41 7.96l-1.37-1.37c-.4-.4-.92-.59-1.43-.59-.52 0-1.04.2-1.43.59L10.3 9.45l-7.72 7.72c-.78.78-.78 2.05 0 2.83L4 21.41c.39.39.9.59 1.41.59.51 0 1.02-.2 1.41-.59l7.78-7.78 2.81-2.81c.8-.78.8-2.07 0-2.86zM5.41 20L4 18.59l7.72-7.72 1.47 1.35L5.41 20z\"/>\n",
              "  </svg>\n",
              "      </button>\n",
              "      \n",
              "  <style>\n",
              "    .colab-df-container {\n",
              "      display:flex;\n",
              "      flex-wrap:wrap;\n",
              "      gap: 12px;\n",
              "    }\n",
              "\n",
              "    .colab-df-convert {\n",
              "      background-color: #E8F0FE;\n",
              "      border: none;\n",
              "      border-radius: 50%;\n",
              "      cursor: pointer;\n",
              "      display: none;\n",
              "      fill: #1967D2;\n",
              "      height: 32px;\n",
              "      padding: 0 0 0 0;\n",
              "      width: 32px;\n",
              "    }\n",
              "\n",
              "    .colab-df-convert:hover {\n",
              "      background-color: #E2EBFA;\n",
              "      box-shadow: 0px 1px 2px rgba(60, 64, 67, 0.3), 0px 1px 3px 1px rgba(60, 64, 67, 0.15);\n",
              "      fill: #174EA6;\n",
              "    }\n",
              "\n",
              "    [theme=dark] .colab-df-convert {\n",
              "      background-color: #3B4455;\n",
              "      fill: #D2E3FC;\n",
              "    }\n",
              "\n",
              "    [theme=dark] .colab-df-convert:hover {\n",
              "      background-color: #434B5C;\n",
              "      box-shadow: 0px 1px 3px 1px rgba(0, 0, 0, 0.15);\n",
              "      filter: drop-shadow(0px 1px 2px rgba(0, 0, 0, 0.3));\n",
              "      fill: #FFFFFF;\n",
              "    }\n",
              "  </style>\n",
              "\n",
              "      <script>\n",
              "        const buttonEl =\n",
              "          document.querySelector('#df-41fdfb4f-7a2d-46b0-90ef-f35f34096dc8 button.colab-df-convert');\n",
              "        buttonEl.style.display =\n",
              "          google.colab.kernel.accessAllowed ? 'block' : 'none';\n",
              "\n",
              "        async function convertToInteractive(key) {\n",
              "          const element = document.querySelector('#df-41fdfb4f-7a2d-46b0-90ef-f35f34096dc8');\n",
              "          const dataTable =\n",
              "            await google.colab.kernel.invokeFunction('convertToInteractive',\n",
              "                                                     [key], {});\n",
              "          if (!dataTable) return;\n",
              "\n",
              "          const docLinkHtml = 'Like what you see? Visit the ' +\n",
              "            '<a target=\"_blank\" href=https://colab.research.google.com/notebooks/data_table.ipynb>data table notebook</a>'\n",
              "            + ' to learn more about interactive tables.';\n",
              "          element.innerHTML = '';\n",
              "          dataTable['output_type'] = 'display_data';\n",
              "          await google.colab.output.renderOutput(dataTable, element);\n",
              "          const docLink = document.createElement('div');\n",
              "          docLink.innerHTML = docLinkHtml;\n",
              "          element.appendChild(docLink);\n",
              "        }\n",
              "      </script>\n",
              "    </div>\n",
              "  </div>\n",
              "  "
            ],
            "text/plain": [
              "                                              source  \\\n",
              "0  Mnamo Jumatatu, wanasayansi kutoka Shule ya Ti...   \n",
              "1  Watafiti wakuu wanasema hili linaweza kuleta u...   \n",
              "2  JAS 39C Gripen ilianguka kwenye barabara kuu k...   \n",
              "3  Rubani alitambuliwa kama Kiongozi wa Kikosi Di...   \n",
              "4  Vyombo vya habari vya ndani vinaripoti kwamba ...   \n",
              "\n",
              "                                              target  \\\n",
              "0  On Monday, scientists from the Stanford Univer...   \n",
              "1  Lead researchers say this may bring early dete...   \n",
              "2  The JAS 39C Gripen crashed onto a runway at ar...   \n",
              "3  The pilot was identified as Squadron Leader Di...   \n",
              "4  Local media reports an airport fire vehicle ro...   \n",
              "\n",
              "                                           predicted      bleu  \n",
              "0  We had hundreds of people from all over the wo...       0.0  \n",
              "1  The last thing I heard about my month was some...       0.0  \n",
              "2  JAS 39C The JAS 39C Gripen was caught on a sin...  0.101452  \n",
              "3  Rubani is also found in the daytime fruits of ...       0.0  \n",
              "4  Production and distribution of wines and spiri...         0  "
            ]
          },
          "execution_count": 87,
          "metadata": {},
          "output_type": "execute_result"
        }
      ],
      "source": [
        "# previous results\n",
        "baseline_results.head()"
      ]
    },
    {
      "cell_type": "code",
      "execution_count": null,
      "metadata": {
        "colab": {
          "base_uri": "https://localhost:8080/",
          "height": 454
        },
        "id": "mAj_3QNYGkqF",
        "outputId": "8962ca04-86bd-41fd-e56e-5053aad10783"
      },
      "outputs": [
        {
          "data": {
            "text/html": [
              "\n",
              "  <div id=\"df-19f32c30-5fbc-4edf-8109-8853c7215914\">\n",
              "    <div class=\"colab-df-container\">\n",
              "      <div>\n",
              "<style scoped>\n",
              "    .dataframe tbody tr th:only-of-type {\n",
              "        vertical-align: middle;\n",
              "    }\n",
              "\n",
              "    .dataframe tbody tr th {\n",
              "        vertical-align: top;\n",
              "    }\n",
              "\n",
              "    .dataframe thead th {\n",
              "        text-align: right;\n",
              "    }\n",
              "</style>\n",
              "<table border=\"1\" class=\"dataframe\">\n",
              "  <thead>\n",
              "    <tr style=\"text-align: right;\">\n",
              "      <th></th>\n",
              "      <th>0</th>\n",
              "    </tr>\n",
              "  </thead>\n",
              "  <tbody>\n",
              "    <tr>\n",
              "      <th>0</th>\n",
              "      <td>6.136171</td>\n",
              "    </tr>\n",
              "    <tr>\n",
              "      <th>1</th>\n",
              "      <td>9.948806</td>\n",
              "    </tr>\n",
              "    <tr>\n",
              "      <th>2</th>\n",
              "      <td>9.170411</td>\n",
              "    </tr>\n",
              "    <tr>\n",
              "      <th>3</th>\n",
              "      <td>10.657701</td>\n",
              "    </tr>\n",
              "    <tr>\n",
              "      <th>4</th>\n",
              "      <td>10.382888</td>\n",
              "    </tr>\n",
              "  </tbody>\n",
              "</table>\n",
              "</div>\n",
              "      <button class=\"colab-df-convert\" onclick=\"convertToInteractive('df-19f32c30-5fbc-4edf-8109-8853c7215914')\"\n",
              "              title=\"Convert this dataframe to an interactive table.\"\n",
              "              style=\"display:none;\">\n",
              "        \n",
              "  <svg xmlns=\"http://www.w3.org/2000/svg\" height=\"24px\"viewBox=\"0 0 24 24\"\n",
              "       width=\"24px\">\n",
              "    <path d=\"M0 0h24v24H0V0z\" fill=\"none\"/>\n",
              "    <path d=\"M18.56 5.44l.94 2.06.94-2.06 2.06-.94-2.06-.94-.94-2.06-.94 2.06-2.06.94zm-11 1L8.5 8.5l.94-2.06 2.06-.94-2.06-.94L8.5 2.5l-.94 2.06-2.06.94zm10 10l.94 2.06.94-2.06 2.06-.94-2.06-.94-.94-2.06-.94 2.06-2.06.94z\"/><path d=\"M17.41 7.96l-1.37-1.37c-.4-.4-.92-.59-1.43-.59-.52 0-1.04.2-1.43.59L10.3 9.45l-7.72 7.72c-.78.78-.78 2.05 0 2.83L4 21.41c.39.39.9.59 1.41.59.51 0 1.02-.2 1.41-.59l7.78-7.78 2.81-2.81c.8-.78.8-2.07 0-2.86zM5.41 20L4 18.59l7.72-7.72 1.47 1.35L5.41 20z\"/>\n",
              "  </svg>\n",
              "      </button>\n",
              "      \n",
              "  <style>\n",
              "    .colab-df-container {\n",
              "      display:flex;\n",
              "      flex-wrap:wrap;\n",
              "      gap: 12px;\n",
              "    }\n",
              "\n",
              "    .colab-df-convert {\n",
              "      background-color: #E8F0FE;\n",
              "      border: none;\n",
              "      border-radius: 50%;\n",
              "      cursor: pointer;\n",
              "      display: none;\n",
              "      fill: #1967D2;\n",
              "      height: 32px;\n",
              "      padding: 0 0 0 0;\n",
              "      width: 32px;\n",
              "    }\n",
              "\n",
              "    .colab-df-convert:hover {\n",
              "      background-color: #E2EBFA;\n",
              "      box-shadow: 0px 1px 2px rgba(60, 64, 67, 0.3), 0px 1px 3px 1px rgba(60, 64, 67, 0.15);\n",
              "      fill: #174EA6;\n",
              "    }\n",
              "\n",
              "    [theme=dark] .colab-df-convert {\n",
              "      background-color: #3B4455;\n",
              "      fill: #D2E3FC;\n",
              "    }\n",
              "\n",
              "    [theme=dark] .colab-df-convert:hover {\n",
              "      background-color: #434B5C;\n",
              "      box-shadow: 0px 1px 3px 1px rgba(0, 0, 0, 0.15);\n",
              "      filter: drop-shadow(0px 1px 2px rgba(0, 0, 0, 0.3));\n",
              "      fill: #FFFFFF;\n",
              "    }\n",
              "  </style>\n",
              "\n",
              "      <script>\n",
              "        const buttonEl =\n",
              "          document.querySelector('#df-19f32c30-5fbc-4edf-8109-8853c7215914 button.colab-df-convert');\n",
              "        buttonEl.style.display =\n",
              "          google.colab.kernel.accessAllowed ? 'block' : 'none';\n",
              "\n",
              "        async function convertToInteractive(key) {\n",
              "          const element = document.querySelector('#df-19f32c30-5fbc-4edf-8109-8853c7215914');\n",
              "          const dataTable =\n",
              "            await google.colab.kernel.invokeFunction('convertToInteractive',\n",
              "                                                     [key], {});\n",
              "          if (!dataTable) return;\n",
              "\n",
              "          const docLinkHtml = 'Like what you see? Visit the ' +\n",
              "            '<a target=\"_blank\" href=https://colab.research.google.com/notebooks/data_table.ipynb>data table notebook</a>'\n",
              "            + ' to learn more about interactive tables.';\n",
              "          element.innerHTML = '';\n",
              "          dataTable['output_type'] = 'display_data';\n",
              "          await google.colab.output.renderOutput(dataTable, element);\n",
              "          const docLink = document.createElement('div');\n",
              "          docLink.innerHTML = docLinkHtml;\n",
              "          element.appendChild(docLink);\n",
              "        }\n",
              "      </script>\n",
              "    </div>\n",
              "  </div>\n",
              "  "
            ],
            "text/plain": [
              "           0\n",
              "0   6.136171\n",
              "1   9.948806\n",
              "2   9.170411\n",
              "3  10.657701\n",
              "4  10.382888"
            ]
          },
          "execution_count": 44,
          "metadata": {},
          "output_type": "execute_result"
        },
        {
          "data": {
            "image/png": "[encoded data removed]",
            "text/plain": [
              "<Figure size 432x288 with 1 Axes>"
            ]
          },
          "metadata": {},
          "output_type": "display_data"
        }
      ],
      "source": [
        "losses = pd.read_csv('/content/drive/MyDrive/W266 Final Project/google_translate_5k_losses.csv').T.iloc[1:]\n",
        "losses.plot()\n",
        "losses.head()"
      ]
    },
    {
      "cell_type": "markdown",
      "source": [
        "## Google Translate"
      ],
      "metadata": {
        "id": "CpOXf3rvaDeS"
      }
    },
    {
      "cell_type": "code",
      "source": [
        "# export evaluation data to csv then to google sheets\n",
        "# use google translate in sheets to translate 2000 swahili sentences\n",
        "# evaluate bleu scores and save results to drive\n",
        "\n",
        "\n",
        "evaluation_df = pd.DataFrame([src_eval_texts, tgt_eval_texts]).T\n",
        "evaluation_df.columns = ['src_eval_text', 'tgt_eval_text']\n",
        "evaluation_df.to_csv('/content/drive/MyDrive/W266 Final Project/evaluation_dataset.csv')"
      ],
      "metadata": {
        "id": "relqwv-caCFK"
      },
      "execution_count": 6,
      "outputs": []
    },
    {
      "cell_type": "code",
      "source": [
        "gt_baseline_results = pd.read_csv('/content/drive/MyDrive/W266 Final Project/gt_baseline_results.csv')\n",
        "gt_bleu_scores = []\n",
        "for i in range(len(gt_baseline_results)):\n",
        "    reference = gt_baseline_results['tgt_eval_text'][i]\n",
        "    candidate = gt_baseline_results['google_translate'][i]\n",
        "    reference_tokens = reference.split()\n",
        "    candidate_tokens = candidate.split()\n",
        "    bleu_score = nltk.translate.bleu_score.sentence_bleu([reference_tokens], candidate_tokens)\n",
        "    gt_bleu_scores.append(bleu_score)\n",
        "\n",
        "# Add the BLEU scores to the dataframe\n",
        "gt_baseline_results['bleu'] = gt_bleu_scores\n",
        "gt_baseline_results.to_csv('/content/drive/MyDrive/W266 Final Project/gt_baseline_results.csv')"
      ],
      "metadata": {
        "id": "ERih7KTjOOnr"
      },
      "execution_count": null,
      "outputs": []
    },
    {
      "cell_type": "code",
      "source": [
        "gt_baseline_results['bleu'].mean()"
      ],
      "metadata": {
        "colab": {
          "base_uri": "https://localhost:8080/"
        },
        "outputId": "9c3db396-2ed0-4ac6-ea4a-2b266e542f5b",
        "id": "0grpRkml-SHc"
      },
      "execution_count": null,
      "outputs": [
        {
          "output_type": "execute_result",
          "data": {
            "text/plain": [
              "0.34630482361753534"
            ]
          },
          "metadata": {},
          "execution_count": 23
        }
      ]
    },
    {
      "cell_type": "markdown",
      "source": [],
      "metadata": {
        "id": "ItWOdGpMUUQQ"
      }
    },
    {
      "cell_type": "markdown",
      "source": [
        "## M2M-100"
      ],
      "metadata": {
        "id": "w5cd6mu9aF4e"
      }
    },
    {
      "cell_type": "code",
      "source": [
        "from transformers import M2M100ForConditionalGeneration, M2M100Tokenizer\n",
        "\n",
        "\n",
        "m2m_model = M2M100ForConditionalGeneration.from_pretrained(\"facebook/m2m100_418M\")\n",
        "m2m_tokenizer = M2M100Tokenizer.from_pretrained(\"facebook/m2m100_418M\")"
      ],
      "metadata": {
        "id": "7mW-tcXDaGPm"
      },
      "execution_count": null,
      "outputs": []
    },
    {
      "cell_type": "code",
      "source": [
        "m2m_predicted, m2m_nltk_bleu_scores = evaluate_model(src_eval_texts, tgt_eval_texts, 'sw', 'en', m2m_model, m2m_tokenizer)"
      ],
      "metadata": {
        "id": "fe_KC3qk_l9X"
      },
      "execution_count": null,
      "outputs": []
    },
    {
      "cell_type": "code",
      "source": [
        "m2m_results = pd.DataFrame([src_eval_texts, tgt_eval_texts, m2m_predicted, m2m_nltk_bleu_scores]).T\n",
        "m2m_results.columns = ['source', 'target', 'predicted', 'bleu']\n",
        "m2m_results.to_csv(f'/content/drive/MyDrive/W266 Final Project/m2m_baseline_results.csv')"
      ],
      "metadata": {
        "id": "VTVKyer-c3aD"
      },
      "execution_count": 13,
      "outputs": []
    },
    {
      "cell_type": "code",
      "source": [
        "m2m_results = pd.read_csv('/content/drive/MyDrive/W266 Final Project/m2m_baseline_results.csv')\n",
        "m2m_results['bleu'].mean()"
      ],
      "metadata": {
        "colab": {
          "base_uri": "https://localhost:8080/"
        },
        "id": "lMGGCzb2Akna",
        "outputId": "f15fd156-ad99-4844-806a-2b9114af0d20"
      },
      "execution_count": 9,
      "outputs": [
        {
          "output_type": "execute_result",
          "data": {
            "text/plain": [
              "0.13528901161572715"
            ]
          },
          "metadata": {},
          "execution_count": 9
        }
      ]
    },
    {
      "cell_type": "markdown",
      "source": [
        "## ChatGPT"
      ],
      "metadata": {
        "id": "BpQVn8qNaNna"
      }
    },
    {
      "cell_type": "code",
      "source": [
        "# use the google sheets from above, use ChatGPT api to translate the 2000 swahili sentences\n",
        "# evaluate bleu scores and save results to drive\n",
        "\n",
        "gpt_baseline_results = pd.read_csv('/content/drive/MyDrive/W266 Final Project/gpt_baseline_results.csv')\n",
        "gpt_bleu_scores = []\n",
        "for i in range(len(gpt_baseline_results)):\n",
        "    reference = gpt_baseline_results['tgt_eval_text'][i]\n",
        "    candidate = gpt_baseline_results['chatgpt'][i]\n",
        "    reference_tokens = reference.split()\n",
        "    candidate_tokens = candidate.split()\n",
        "    bleu_score = nltk.translate.bleu_score.sentence_bleu([reference_tokens], candidate_tokens)\n",
        "    gpt_bleu_scores.append(bleu_score)\n",
        "\n",
        "# Add the BLEU scores to the dataframe\n",
        "gpt_baseline_results['bleu'] = gpt_bleu_scores\n",
        "gpt_baseline_results.to_csv('/content/drive/MyDrive/W266 Final Project/gpt_baseline_results.csv')\n"
      ],
      "metadata": {
        "id": "T98z9ZoFaMk-"
      },
      "execution_count": null,
      "outputs": []
    },
    {
      "cell_type": "code",
      "source": [
        "gpt_baseline_results['bleu'].mean()"
      ],
      "metadata": {
        "colab": {
          "base_uri": "https://localhost:8080/"
        },
        "id": "RwKKDx7tPjoV",
        "outputId": "154d4e5e-b5f4-4f11-d98b-8ad76723e7e4"
      },
      "execution_count": null,
      "outputs": [
        {
          "output_type": "execute_result",
          "data": {
            "text/plain": [
              "0.2528689870955184"
            ]
          },
          "metadata": {},
          "execution_count": 11
        }
      ]
    },
    {
      "cell_type": "markdown",
      "metadata": {
        "id": "6TTWTW1EhFc0"
      },
      "source": [
        "# Google Translate Models"
      ]
    },
    {
      "cell_type": "markdown",
      "metadata": {
        "id": "6cl58em9B1Vq"
      },
      "source": [
        "## 10K Model"
      ]
    },
    {
      "cell_type": "code",
      "execution_count": null,
      "metadata": {
        "id": "h-xcFuzJB3WB"
      },
      "outputs": [],
      "source": [
        "model_path_10k = \"/content/drive/MyDrive/W266 Final Project/google_translate_mbart_sw_en_10k_model\"\n",
        "results_10k = evaluate_pipeline(src_eval_texts, tgt_eval_texts, model_path_10k, tokenizer)"
      ]
    },
    {
      "cell_type": "code",
      "execution_count": null,
      "metadata": {
        "colab": {
          "base_uri": "https://localhost:8080/"
        },
        "id": "5x5R2KXtB3R3",
        "outputId": "24f6b0ba-b3c3-4610-a6be-ffc357f4fc20"
      },
      "outputs": [
        {
          "output_type": "execute_result",
          "data": {
            "text/plain": [
              "0.0038130563513374995"
            ]
          },
          "metadata": {},
          "execution_count": 15
        }
      ],
      "source": [
        "results_10k['bleu'].mean()"
      ]
    },
    {
      "cell_type": "markdown",
      "source": [
        "##20K Model"
      ],
      "metadata": {
        "id": "fLACSSwFivvs"
      }
    },
    {
      "cell_type": "code",
      "source": [
        "model_path_20k = \"/content/drive/MyDrive/W266 Final Project/google_translate_mbart_sw_en_20k_model\"\n",
        "results_20k = evaluate_pipeline(src_eval_texts, tgt_eval_texts, model_path_20k, tokenizer)"
      ],
      "metadata": {
        "id": "DqmLpI9VixFh"
      },
      "execution_count": null,
      "outputs": []
    },
    {
      "cell_type": "code",
      "source": [
        "results_20k['bleu'].mean()"
      ],
      "metadata": {
        "colab": {
          "base_uri": "https://localhost:8080/"
        },
        "id": "JPyG186_ixDI",
        "outputId": "eafd5828-40e1-472b-b4b9-de0a27e06d96"
      },
      "execution_count": null,
      "outputs": [
        {
          "output_type": "execute_result",
          "data": {
            "text/plain": [
              "0.017087657111397196"
            ]
          },
          "metadata": {},
          "execution_count": 13
        }
      ]
    },
    {
      "cell_type": "markdown",
      "metadata": {
        "id": "hpLtvF9mNxaQ"
      },
      "source": [
        "## 50K Model"
      ]
    },
    {
      "cell_type": "code",
      "execution_count": null,
      "metadata": {
        "id": "AXoMWxlsNyob"
      },
      "outputs": [],
      "source": [
        "model_path_50k = \"/content/drive/MyDrive/W266 Final Project/google_translate_mbart_sw_en_50k_model\"\n",
        "results_50k = evaluate_pipeline(src_eval_texts, tgt_eval_texts, model_path_50k, tokenizer)"
      ]
    },
    {
      "cell_type": "code",
      "execution_count": null,
      "metadata": {
        "colab": {
          "base_uri": "https://localhost:8080/",
          "height": 424
        },
        "id": "9vUr6zPaU7Am",
        "outputId": "4ef4360d-56a8-4dae-ef5a-11d55fee2e61"
      },
      "outputs": [
        {
          "data": {
            "text/html": [
              "\n",
              "  <div id=\"df-80f511df-3c4c-44ad-bb44-ec2939789895\">\n",
              "    <div class=\"colab-df-container\">\n",
              "      <div>\n",
              "<style scoped>\n",
              "    .dataframe tbody tr th:only-of-type {\n",
              "        vertical-align: middle;\n",
              "    }\n",
              "\n",
              "    .dataframe tbody tr th {\n",
              "        vertical-align: top;\n",
              "    }\n",
              "\n",
              "    .dataframe thead th {\n",
              "        text-align: right;\n",
              "    }\n",
              "</style>\n",
              "<table border=\"1\" class=\"dataframe\">\n",
              "  <thead>\n",
              "    <tr style=\"text-align: right;\">\n",
              "      <th></th>\n",
              "      <th>Unnamed: 0</th>\n",
              "      <th>source</th>\n",
              "      <th>target</th>\n",
              "      <th>predicted</th>\n",
              "      <th>bleu</th>\n",
              "    </tr>\n",
              "  </thead>\n",
              "  <tbody>\n",
              "    <tr>\n",
              "      <th>0</th>\n",
              "      <td>0</td>\n",
              "      <td>Mnamo Jumatatu, wanasayansi kutoka Shule ya Ti...</td>\n",
              "      <td>On Monday, scientists from the Stanford Univer...</td>\n",
              "      <td>Earlier on Monday, scientists from the Univers...</td>\n",
              "      <td>8.735951e-02</td>\n",
              "    </tr>\n",
              "    <tr>\n",
              "      <th>1</th>\n",
              "      <td>1</td>\n",
              "      <td>Watafiti wakuu wanasema hili linaweza kuleta u...</td>\n",
              "      <td>Lead researchers say this may bring early dete...</td>\n",
              "      <td>Heads of researchers say this could bring abou...</td>\n",
              "      <td>1.445541e-78</td>\n",
              "    </tr>\n",
              "    <tr>\n",
              "      <th>2</th>\n",
              "      <td>2</td>\n",
              "      <td>JAS 39C Gripen ilianguka kwenye barabara kuu k...</td>\n",
              "      <td>The JAS 39C Gripen crashed onto a runway at ar...</td>\n",
              "      <td>JASras 39C Grip collapsed on the main road nea...</td>\n",
              "      <td>4.271302e-155</td>\n",
              "    </tr>\n",
              "    <tr>\n",
              "      <th>3</th>\n",
              "      <td>3</td>\n",
              "      <td>Rubani alitambuliwa kama Kiongozi wa Kikosi Di...</td>\n",
              "      <td>The pilot was identified as Squadron Leader Di...</td>\n",
              "      <td>Rubani was recognized as a military leader Dil...</td>\n",
              "      <td>7.241926e-155</td>\n",
              "    </tr>\n",
              "    <tr>\n",
              "      <th>4</th>\n",
              "      <td>4</td>\n",
              "      <td>Vyombo vya habari vya ndani vinaripoti kwamba ...</td>\n",
              "      <td>Local media reports an airport fire vehicle ro...</td>\n",
              "      <td>Internal information reports reports reports t...</td>\n",
              "      <td>1.024491e-231</td>\n",
              "    </tr>\n",
              "    <tr>\n",
              "      <th>...</th>\n",
              "      <td>...</td>\n",
              "      <td>...</td>\n",
              "      <td>...</td>\n",
              "      <td>...</td>\n",
              "      <td>...</td>\n",
              "    </tr>\n",
              "    <tr>\n",
              "      <th>2004</th>\n",
              "      <td>2004</td>\n",
              "      <td>Kwa kuwa maeneo hayo hayana idadi kubwa ya wat...</td>\n",
              "      <td>As the areas are sparsely populated, and light...</td>\n",
              "      <td>Since these areas do not have a large number o...</td>\n",
              "      <td>3.127937e-01</td>\n",
              "    </tr>\n",
              "    <tr>\n",
              "      <th>2005</th>\n",
              "      <td>2005</td>\n",
              "      <td>Desturi ya kazi ya Kijapani ni ya kimfumo na r...</td>\n",
              "      <td>Japanese work culture is more hierarchical and...</td>\n",
              "      <td>Deutsche Welle Privacy Policy Legal Communicat...</td>\n",
              "      <td>0.000000e+00</td>\n",
              "    </tr>\n",
              "    <tr>\n",
              "      <th>2006</th>\n",
              "      <td>2006</td>\n",
              "      <td>Suti ni mavazi ya kawaida ya kibiashara, na wa...</td>\n",
              "      <td>Suits are standard business attire, and cowork...</td>\n",
              "      <td>Suti is usually a businessman, and workers of ...</td>\n",
              "      <td>5.186904e-155</td>\n",
              "    </tr>\n",
              "    <tr>\n",
              "      <th>2007</th>\n",
              "      <td>2007</td>\n",
              "      <td>Ulinganifu katika mahali pa kazi ni muhimu, ku...</td>\n",
              "      <td>Workplace harmony is crucial, emphasizing grou...</td>\n",
              "      <td>Comparison of qualifications in work place is ...</td>\n",
              "      <td>1.100888e-231</td>\n",
              "    </tr>\n",
              "    <tr>\n",
              "      <th>2008</th>\n",
              "      <td>2008</td>\n",
              "      <td>Mara kwa mara wafanyakazi hupata kibali cha ma...</td>\n",
              "      <td>Workers must often get their superiors' approv...</td>\n",
              "      <td>Improvement usually gets a approval of any dec...</td>\n",
              "      <td>3.118429e-78</td>\n",
              "    </tr>\n",
              "  </tbody>\n",
              "</table>\n",
              "<p>2009 rows × 5 columns</p>\n",
              "</div>\n",
              "      <button class=\"colab-df-convert\" onclick=\"convertToInteractive('df-80f511df-3c4c-44ad-bb44-ec2939789895')\"\n",
              "              title=\"Convert this dataframe to an interactive table.\"\n",
              "              style=\"display:none;\">\n",
              "        \n",
              "  <svg xmlns=\"http://www.w3.org/2000/svg\" height=\"24px\"viewBox=\"0 0 24 24\"\n",
              "       width=\"24px\">\n",
              "    <path d=\"M0 0h24v24H0V0z\" fill=\"none\"/>\n",
              "    <path d=\"M18.56 5.44l.94 2.06.94-2.06 2.06-.94-2.06-.94-.94-2.06-.94 2.06-2.06.94zm-11 1L8.5 8.5l.94-2.06 2.06-.94-2.06-.94L8.5 2.5l-.94 2.06-2.06.94zm10 10l.94 2.06.94-2.06 2.06-.94-2.06-.94-.94-2.06-.94 2.06-2.06.94z\"/><path d=\"M17.41 7.96l-1.37-1.37c-.4-.4-.92-.59-1.43-.59-.52 0-1.04.2-1.43.59L10.3 9.45l-7.72 7.72c-.78.78-.78 2.05 0 2.83L4 21.41c.39.39.9.59 1.41.59.51 0 1.02-.2 1.41-.59l7.78-7.78 2.81-2.81c.8-.78.8-2.07 0-2.86zM5.41 20L4 18.59l7.72-7.72 1.47 1.35L5.41 20z\"/>\n",
              "  </svg>\n",
              "      </button>\n",
              "      \n",
              "  <style>\n",
              "    .colab-df-container {\n",
              "      display:flex;\n",
              "      flex-wrap:wrap;\n",
              "      gap: 12px;\n",
              "    }\n",
              "\n",
              "    .colab-df-convert {\n",
              "      background-color: #E8F0FE;\n",
              "      border: none;\n",
              "      border-radius: 50%;\n",
              "      cursor: pointer;\n",
              "      display: none;\n",
              "      fill: #1967D2;\n",
              "      height: 32px;\n",
              "      padding: 0 0 0 0;\n",
              "      width: 32px;\n",
              "    }\n",
              "\n",
              "    .colab-df-convert:hover {\n",
              "      background-color: #E2EBFA;\n",
              "      box-shadow: 0px 1px 2px rgba(60, 64, 67, 0.3), 0px 1px 3px 1px rgba(60, 64, 67, 0.15);\n",
              "      fill: #174EA6;\n",
              "    }\n",
              "\n",
              "    [theme=dark] .colab-df-convert {\n",
              "      background-color: #3B4455;\n",
              "      fill: #D2E3FC;\n",
              "    }\n",
              "\n",
              "    [theme=dark] .colab-df-convert:hover {\n",
              "      background-color: #434B5C;\n",
              "      box-shadow: 0px 1px 3px 1px rgba(0, 0, 0, 0.15);\n",
              "      filter: drop-shadow(0px 1px 2px rgba(0, 0, 0, 0.3));\n",
              "      fill: #FFFFFF;\n",
              "    }\n",
              "  </style>\n",
              "\n",
              "      <script>\n",
              "        const buttonEl =\n",
              "          document.querySelector('#df-80f511df-3c4c-44ad-bb44-ec2939789895 button.colab-df-convert');\n",
              "        buttonEl.style.display =\n",
              "          google.colab.kernel.accessAllowed ? 'block' : 'none';\n",
              "\n",
              "        async function convertToInteractive(key) {\n",
              "          const element = document.querySelector('#df-80f511df-3c4c-44ad-bb44-ec2939789895');\n",
              "          const dataTable =\n",
              "            await google.colab.kernel.invokeFunction('convertToInteractive',\n",
              "                                                     [key], {});\n",
              "          if (!dataTable) return;\n",
              "\n",
              "          const docLinkHtml = 'Like what you see? Visit the ' +\n",
              "            '<a target=\"_blank\" href=https://colab.research.google.com/notebooks/data_table.ipynb>data table notebook</a>'\n",
              "            + ' to learn more about interactive tables.';\n",
              "          element.innerHTML = '';\n",
              "          dataTable['output_type'] = 'display_data';\n",
              "          await google.colab.output.renderOutput(dataTable, element);\n",
              "          const docLink = document.createElement('div');\n",
              "          docLink.innerHTML = docLinkHtml;\n",
              "          element.appendChild(docLink);\n",
              "        }\n",
              "      </script>\n",
              "    </div>\n",
              "  </div>\n",
              "  "
            ],
            "text/plain": [
              "      Unnamed: 0                                             source  \\\n",
              "0              0  Mnamo Jumatatu, wanasayansi kutoka Shule ya Ti...   \n",
              "1              1  Watafiti wakuu wanasema hili linaweza kuleta u...   \n",
              "2              2  JAS 39C Gripen ilianguka kwenye barabara kuu k...   \n",
              "3              3  Rubani alitambuliwa kama Kiongozi wa Kikosi Di...   \n",
              "4              4  Vyombo vya habari vya ndani vinaripoti kwamba ...   \n",
              "...          ...                                                ...   \n",
              "2004        2004  Kwa kuwa maeneo hayo hayana idadi kubwa ya wat...   \n",
              "2005        2005  Desturi ya kazi ya Kijapani ni ya kimfumo na r...   \n",
              "2006        2006  Suti ni mavazi ya kawaida ya kibiashara, na wa...   \n",
              "2007        2007  Ulinganifu katika mahali pa kazi ni muhimu, ku...   \n",
              "2008        2008  Mara kwa mara wafanyakazi hupata kibali cha ma...   \n",
              "\n",
              "                                                 target  \\\n",
              "0     On Monday, scientists from the Stanford Univer...   \n",
              "1     Lead researchers say this may bring early dete...   \n",
              "2     The JAS 39C Gripen crashed onto a runway at ar...   \n",
              "3     The pilot was identified as Squadron Leader Di...   \n",
              "4     Local media reports an airport fire vehicle ro...   \n",
              "...                                                 ...   \n",
              "2004  As the areas are sparsely populated, and light...   \n",
              "2005  Japanese work culture is more hierarchical and...   \n",
              "2006  Suits are standard business attire, and cowork...   \n",
              "2007  Workplace harmony is crucial, emphasizing grou...   \n",
              "2008  Workers must often get their superiors' approv...   \n",
              "\n",
              "                                              predicted           bleu  \n",
              "0     Earlier on Monday, scientists from the Univers...   8.735951e-02  \n",
              "1     Heads of researchers say this could bring abou...   1.445541e-78  \n",
              "2     JASras 39C Grip collapsed on the main road nea...  4.271302e-155  \n",
              "3     Rubani was recognized as a military leader Dil...  7.241926e-155  \n",
              "4     Internal information reports reports reports t...  1.024491e-231  \n",
              "...                                                 ...            ...  \n",
              "2004  Since these areas do not have a large number o...   3.127937e-01  \n",
              "2005  Deutsche Welle Privacy Policy Legal Communicat...   0.000000e+00  \n",
              "2006  Suti is usually a businessman, and workers of ...  5.186904e-155  \n",
              "2007  Comparison of qualifications in work place is ...  1.100888e-231  \n",
              "2008  Improvement usually gets a approval of any dec...   3.118429e-78  \n",
              "\n",
              "[2009 rows x 5 columns]"
            ]
          },
          "execution_count": 11,
          "metadata": {},
          "output_type": "execute_result"
        }
      ],
      "source": [
        "results_50k = pd.read_csv('/content/drive/MyDrive/W266 Final Project/google_translate_results_50k.csv')\n",
        "results_50k"
      ]
    },
    {
      "cell_type": "code",
      "execution_count": null,
      "metadata": {
        "colab": {
          "base_uri": "https://localhost:8080/"
        },
        "id": "YNuMz5dUQPwC",
        "outputId": "c55aafbf-ad9d-49b2-b21a-acfeff16cc9b"
      },
      "outputs": [
        {
          "data": {
            "text/plain": [
              "0.0676905331389594"
            ]
          },
          "execution_count": 13,
          "metadata": {},
          "output_type": "execute_result"
        }
      ],
      "source": [
        "results_50k['bleu'].mean()"
      ]
    },
    {
      "cell_type": "markdown",
      "metadata": {
        "id": "pHpoupNTn0Vr"
      },
      "source": [
        "## 100k Model"
      ]
    },
    {
      "cell_type": "code",
      "execution_count": null,
      "metadata": {
        "colab": {
          "background_save": true
        },
        "id": "lxI3iqIXn1U3"
      },
      "outputs": [],
      "source": [
        "model_path_100k = \"/content/drive/MyDrive/W266 Final Project/google_translate_mbart_sw_en_100k_model\"\n",
        "results_100k = evaluate_pipeline(src_eval_texts, tgt_eval_texts, model_path_100k, tokenizer)"
      ]
    },
    {
      "cell_type": "code",
      "execution_count": null,
      "metadata": {
        "colab": {
          "background_save": true
        },
        "id": "h8bX9vVMn4p9",
        "outputId": "dac1fe91-9c1b-4c94-cd6c-68adec5458b9"
      },
      "outputs": [
        {
          "data": {
            "text/plain": [
              "0.11457064080741951"
            ]
          },
          "execution_count": 17,
          "metadata": {},
          "output_type": "execute_result"
        }
      ],
      "source": [
        "results_100k['bleu'].mean()"
      ]
    },
    {
      "cell_type": "markdown",
      "metadata": {
        "id": "eXAa20MxhOSX"
      },
      "source": [
        "## 200K Model"
      ]
    },
    {
      "cell_type": "code",
      "execution_count": null,
      "metadata": {
        "id": "zMn4yuorn4n5"
      },
      "outputs": [],
      "source": [
        "model_path_200k = \"/content/drive/MyDrive/W266 Final Project/google_translate_mbart_sw_en_200k_model\"\n",
        "results_200k = evaluate_pipeline(src_eval_texts, tgt_eval_texts, model_path_200k, tokenizer)"
      ]
    },
    {
      "cell_type": "code",
      "source": [
        "results_200k['bleu'].mean()"
      ],
      "metadata": {
        "colab": {
          "base_uri": "https://localhost:8080/"
        },
        "id": "_N1N7Zc7j_f2",
        "outputId": "a77cbc1e-47b9-474f-c5a5-cd085121c0e4"
      },
      "execution_count": null,
      "outputs": [
        {
          "output_type": "execute_result",
          "data": {
            "text/plain": [
              "0.14034984867804784"
            ]
          },
          "metadata": {},
          "execution_count": 15
        }
      ]
    },
    {
      "cell_type": "markdown",
      "metadata": {
        "id": "j8pvFFFWhIaI"
      },
      "source": [
        "# ChatGPT Models"
      ]
    },
    {
      "cell_type": "markdown",
      "metadata": {
        "id": "_whhszkqhKGQ"
      },
      "source": [
        "## 10K Model"
      ]
    },
    {
      "cell_type": "code",
      "execution_count": null,
      "metadata": {
        "id": "D1KZbph7hJ1O"
      },
      "outputs": [],
      "source": [
        "gpt_model_path_10k = \"/content/drive/MyDrive/W266 Final Project/gpt_mbart_sw_en_10k_model\"\n",
        "gpt_results_10k = evaluate_pipeline(src_eval_texts, tgt_eval_texts, gpt_model_path_10k, tokenizer, 'gpt')"
      ]
    },
    {
      "cell_type": "code",
      "execution_count": null,
      "metadata": {
        "id": "RCCdYKrPhJy8",
        "colab": {
          "base_uri": "https://localhost:8080/"
        },
        "outputId": "9fe130e7-25f7-4f74-eddb-e5ca59696188"
      },
      "outputs": [
        {
          "output_type": "execute_result",
          "data": {
            "text/plain": [
              "2.0924734389530143e-81"
            ]
          },
          "metadata": {},
          "execution_count": 13
        }
      ],
      "source": [
        "gpt_results_10k['bleu'].mean()"
      ]
    },
    {
      "cell_type": "markdown",
      "source": [
        "## 20K Model"
      ],
      "metadata": {
        "id": "RQMJHXNSlVvh"
      }
    },
    {
      "cell_type": "code",
      "execution_count": null,
      "metadata": {
        "id": "0XRq5pjOhJcW"
      },
      "outputs": [],
      "source": [
        "gpt_model_path_20k = \"/content/drive/MyDrive/W266 Final Project/gpt_mbart_sw_en_20k_model\"\n",
        "gpt_results_20k = evaluate_pipeline(src_eval_texts, tgt_eval_texts, gpt_model_path_20k, tokenizer, 'gpt')"
      ]
    },
    {
      "cell_type": "code",
      "source": [
        "gpt_results_20k['bleu'].mean()"
      ],
      "metadata": {
        "colab": {
          "base_uri": "https://localhost:8080/"
        },
        "id": "Dgg-qKhJkJMo",
        "outputId": "fc68df9d-544e-4080-bf70-f2cd27ca2a3c"
      },
      "execution_count": null,
      "outputs": [
        {
          "output_type": "execute_result",
          "data": {
            "text/plain": [
              "7.412291618668338e-05"
            ]
          },
          "metadata": {},
          "execution_count": 15
        }
      ]
    },
    {
      "cell_type": "markdown",
      "source": [
        "## 50K Model"
      ],
      "metadata": {
        "id": "TUXzY_YolYeF"
      }
    },
    {
      "cell_type": "code",
      "source": [
        "gpt_model_path_50k = \"/content/drive/MyDrive/W266 Final Project/gpt_mbart_sw_en_50k_model\"\n",
        "gpt_results_50k = evaluate_pipeline(src_eval_texts, tgt_eval_texts, gpt_model_path_50k, tokenizer, 'gpt')"
      ],
      "metadata": {
        "id": "SSOpNZCvlYwz"
      },
      "execution_count": null,
      "outputs": []
    },
    {
      "cell_type": "code",
      "source": [
        "gpt_results_50k['bleu'].mean()"
      ],
      "metadata": {
        "colab": {
          "base_uri": "https://localhost:8080/"
        },
        "id": "5fJWs7X3kJv0",
        "outputId": "a06c5be2-68a9-469f-e03f-e38dca002859"
      },
      "execution_count": null,
      "outputs": [
        {
          "output_type": "execute_result",
          "data": {
            "text/plain": [
              "0.06628730284297797"
            ]
          },
          "metadata": {},
          "execution_count": 17
        }
      ]
    },
    {
      "cell_type": "markdown",
      "source": [
        "## 100K Model"
      ],
      "metadata": {
        "id": "C3mRl89tlYV0"
      }
    },
    {
      "cell_type": "code",
      "source": [
        "gpt_model_path_100k = \"/content/drive/MyDrive/W266 Final Project/gpt_mbart_sw_en_100k_model\"\n",
        "gpt_results_100k = evaluate_pipeline(src_eval_texts, tgt_eval_texts, gpt_model_path_100k, tokenizer, 'gpt')"
      ],
      "metadata": {
        "id": "H4FSBx0cla8f"
      },
      "execution_count": null,
      "outputs": []
    },
    {
      "cell_type": "code",
      "source": [
        "gpt_results_100k['bleu'].mean()"
      ],
      "metadata": {
        "colab": {
          "base_uri": "https://localhost:8080/"
        },
        "id": "mEaSS2dakKFI",
        "outputId": "f2b1c5b3-47b0-4090-8462-ba9cb1fcddd0"
      },
      "execution_count": null,
      "outputs": [
        {
          "output_type": "stream",
          "name": "stdout",
          "text": [
            "0.09321313410895621\n"
          ]
        }
      ]
    },
    {
      "cell_type": "markdown",
      "source": [
        "## 2nd Half 50K Model"
      ],
      "metadata": {
        "id": "TNPhALEkgbEp"
      }
    },
    {
      "cell_type": "code",
      "source": [
        "gpt_model_path_last50k = \"/content/drive/MyDrive/W266 Final Project/gpt_last_50k_mbart_sw_en_last50k_model\"\n",
        "gpt_results_last_50k = evaluate_pipeline(src_eval_texts, tgt_eval_texts, gpt_model_path_last50k, tokenizer, 'gpt_last_50k')"
      ],
      "metadata": {
        "id": "P1jRqs-WgdIj"
      },
      "execution_count": null,
      "outputs": []
    },
    {
      "cell_type": "code",
      "source": [
        "gpt_results_last_50k['bleu'].mean()"
      ],
      "metadata": {
        "colab": {
          "base_uri": "https://localhost:8080/"
        },
        "id": "mfIXn8p3goRj",
        "outputId": "aa805312-605f-4408-8c27-52ff1d779c2f"
      },
      "execution_count": null,
      "outputs": [
        {
          "output_type": "execute_result",
          "data": {
            "text/plain": [
              "1.8261764678529735e-81"
            ]
          },
          "metadata": {},
          "execution_count": 9
        }
      ]
    },
    {
      "cell_type": "markdown",
      "metadata": {
        "id": "olf_58czp1SX"
      },
      "source": [
        "# Reworded ChatGPT Models"
      ]
    },
    {
      "cell_type": "markdown",
      "metadata": {
        "id": "1PJ1uqcQp1SY"
      },
      "source": [
        "## 10K Model"
      ]
    },
    {
      "cell_type": "code",
      "execution_count": null,
      "metadata": {
        "id": "oaB6oizKp1SY"
      },
      "outputs": [],
      "source": [
        "rw_gpt_model_path_10k = \"/content/drive/MyDrive/W266 Final Project/rw_mbart_sw_en_10k_model\"\n",
        "rw_gpt_results_10k = evaluate_pipeline(src_eval_texts, tgt_eval_texts, rw_gpt_model_path_10k, tokenizer, 'rw_gpt')"
      ]
    },
    {
      "cell_type": "code",
      "execution_count": 15,
      "metadata": {
        "colab": {
          "base_uri": "https://localhost:8080/"
        },
        "outputId": "07cdd548-d5be-4ea8-8320-279ff57734ea",
        "id": "uf-6nBlmp1SY"
      },
      "outputs": [
        {
          "output_type": "execute_result",
          "data": {
            "text/plain": [
              "1.9787715457557283e-81"
            ]
          },
          "metadata": {},
          "execution_count": 15
        }
      ],
      "source": [
        "rw_gpt_results_10k['bleu'].mean()"
      ]
    },
    {
      "cell_type": "markdown",
      "source": [
        "## 20K Model"
      ],
      "metadata": {
        "id": "8STFhqcbp1SY"
      }
    },
    {
      "cell_type": "code",
      "execution_count": null,
      "metadata": {
        "id": "JYBOriMxp1SY"
      },
      "outputs": [],
      "source": [
        "rw_gpt_model_path_20k = \"/content/drive/MyDrive/W266 Final Project/rw_mbart_sw_en_50k_model\"\n",
        "rw_gpt_results_20k = evaluate_pipeline(src_eval_texts, tgt_eval_texts, rw_gpt_model_path_20k, tokenizer, 'rw_gpt')"
      ]
    },
    {
      "cell_type": "code",
      "source": [
        "rw_gpt_results_20k['bleu'].mean()"
      ],
      "metadata": {
        "colab": {
          "base_uri": "https://localhost:8080/"
        },
        "outputId": "1b4c3e3d-76ff-4e78-8da6-d71ef97078da",
        "id": "BTrSQoffp1SY"
      },
      "execution_count": 17,
      "outputs": [
        {
          "output_type": "execute_result",
          "data": {
            "text/plain": [
              "0.00797290055600956"
            ]
          },
          "metadata": {},
          "execution_count": 17
        }
      ]
    },
    {
      "cell_type": "markdown",
      "source": [
        "## 50K Model"
      ],
      "metadata": {
        "id": "aABFcoqcp1SY"
      }
    },
    {
      "cell_type": "code",
      "source": [
        "rw_gpt_model_path_50k = \"/content/drive/MyDrive/W266 Final Project/rw_mbart_sw_en_20k_model\"\n",
        "rw_gpt_results_50k = evaluate_pipeline(src_eval_texts, tgt_eval_texts, rw_gpt_model_path_50k, tokenizer, 'rw_gpt')"
      ],
      "metadata": {
        "id": "-xl2TcUMp1SY"
      },
      "execution_count": null,
      "outputs": []
    },
    {
      "cell_type": "code",
      "source": [
        "rw_gpt_results_50k['bleu'].mean()"
      ],
      "metadata": {
        "colab": {
          "base_uri": "https://localhost:8080/"
        },
        "outputId": "b58c3da4-6ae4-4370-8c98-69a7959689a0",
        "id": "niT5KIpgp1SY"
      },
      "execution_count": 19,
      "outputs": [
        {
          "output_type": "execute_result",
          "data": {
            "text/plain": [
              "0.003574726672587716"
            ]
          },
          "metadata": {},
          "execution_count": 19
        }
      ]
    },
    {
      "cell_type": "markdown",
      "source": [
        "## 100K Model"
      ],
      "metadata": {
        "id": "G4pqBgwap1SY"
      }
    },
    {
      "cell_type": "code",
      "source": [
        "rw_gpt_model_path_100k = \"/content/drive/MyDrive/W266 Final Project/rw_mbart_sw_en_100k_model\"\n",
        "rw_gpt_results_100k = evaluate_pipeline(src_eval_texts, tgt_eval_texts, rw_gpt_model_path_100k, tokenizer, 'rw_gpt')"
      ],
      "metadata": {
        "id": "-rKiON4ap1SY"
      },
      "execution_count": null,
      "outputs": []
    },
    {
      "cell_type": "code",
      "source": [
        "rw_gpt_results_100k['bleu'].mean()"
      ],
      "metadata": {
        "colab": {
          "base_uri": "https://localhost:8080/"
        },
        "outputId": "a1795add-7c2f-4fd4-a920-86369a8eedc8",
        "id": "h5SL0M0lp1SY"
      },
      "execution_count": 21,
      "outputs": [
        {
          "output_type": "execute_result",
          "data": {
            "text/plain": [
              "0.009993819677246777"
            ]
          },
          "metadata": {},
          "execution_count": 21
        }
      ]
    },
    {
      "cell_type": "markdown",
      "source": [
        "# M2M-100 Models"
      ],
      "metadata": {
        "id": "xJG2e6gzlb-v"
      }
    },
    {
      "cell_type": "markdown",
      "metadata": {
        "id": "vS2z4nIllfPp"
      },
      "source": [
        "## 10K Model"
      ]
    },
    {
      "cell_type": "code",
      "execution_count": null,
      "metadata": {
        "id": "cH9c9Hd4lfPp"
      },
      "outputs": [],
      "source": [
        "m2m_model_path_10k = \"/content/drive/MyDrive/W266 Final Project/m2m_mbart_sw_en_10k_model\"\n",
        "\n",
        "m2m_results_10k = evaluate_pipeline(src_eval_texts, tgt_eval_texts, m2m_model_path_10k, tokenizer, 'm2m')"
      ]
    },
    {
      "cell_type": "code",
      "source": [
        "results_10k['bleu'].mean()"
      ],
      "metadata": {
        "colab": {
          "base_uri": "https://localhost:8080/"
        },
        "id": "aGFx71M4OUZy",
        "outputId": "0295ec3e-64a1-4f73-f6da-78f0afb72ef0"
      },
      "execution_count": null,
      "outputs": [
        {
          "output_type": "execute_result",
          "data": {
            "text/plain": [
              "2.1561104010862024e-81"
            ]
          },
          "metadata": {},
          "execution_count": 18
        }
      ]
    },
    {
      "cell_type": "markdown",
      "source": [
        "## 20K Model"
      ],
      "metadata": {
        "id": "2pHas4o2lfPp"
      }
    },
    {
      "cell_type": "code",
      "execution_count": null,
      "metadata": {
        "id": "SrEuzz2vlfPp"
      },
      "outputs": [],
      "source": [
        "m2m_model_path_20k = \"/content/drive/MyDrive/W266 Final Project/m2m_mbart_sw_en_20k_model\"\n",
        "m2m_results_20k = evaluate_pipeline(src_eval_texts, tgt_eval_texts, m2m_model_path_20k, tokenizer, 'm2m')"
      ]
    },
    {
      "cell_type": "code",
      "source": [
        "m2m_results_20k['bleu'].mean()"
      ],
      "metadata": {
        "colab": {
          "base_uri": "https://localhost:8080/"
        },
        "id": "HB8IYCmZOiMX",
        "outputId": "cbcfe9bb-9da1-461c-9afe-76befe737c2f"
      },
      "execution_count": null,
      "outputs": [
        {
          "output_type": "execute_result",
          "data": {
            "text/plain": [
              "3.0325209315335096e-05"
            ]
          },
          "metadata": {},
          "execution_count": 21
        }
      ]
    },
    {
      "cell_type": "markdown",
      "source": [
        "## 50K Model"
      ],
      "metadata": {
        "id": "M2pfG0b_lfPp"
      }
    },
    {
      "cell_type": "code",
      "source": [
        "m2m_model_path_50k = \"/content/drive/MyDrive/W266 Final Project/m2m_mbart_sw_en_50k_model\"\n",
        "m2m_results_50k = evaluate_pipeline(src_eval_texts, tgt_eval_texts, m2m_model_path_50k, tokenizer, 'm2m')"
      ],
      "metadata": {
        "id": "16bb3paMlfPp"
      },
      "execution_count": null,
      "outputs": []
    },
    {
      "cell_type": "code",
      "source": [
        "m2m_results_50k['bleu'].mean()"
      ],
      "metadata": {
        "colab": {
          "base_uri": "https://localhost:8080/"
        },
        "id": "nfwwy3T2OprF",
        "outputId": "8bfbfe83-20af-4394-cabf-12e2a48a04e1"
      },
      "execution_count": null,
      "outputs": [
        {
          "output_type": "execute_result",
          "data": {
            "text/plain": [
              "4.3246481865796334e-05"
            ]
          },
          "metadata": {},
          "execution_count": 27
        }
      ]
    },
    {
      "cell_type": "markdown",
      "source": [
        "## 100K Model"
      ],
      "metadata": {
        "id": "OlQGCOzJlfPp"
      }
    },
    {
      "cell_type": "code",
      "source": [
        "m2m_model_path_100k = \"/content/drive/MyDrive/W266 Final Project/m2m_mbart_sw_en_100k_model\"\n",
        "m2m_results_100k = evaluate_pipeline(src_eval_texts, tgt_eval_texts, m2m_model_path_100k, tokenizer, 'm2m')"
      ],
      "metadata": {
        "id": "9pezbwMOlfPp"
      },
      "execution_count": null,
      "outputs": []
    },
    {
      "cell_type": "code",
      "source": [
        "m2m_results_100k['bleu'].mean()"
      ],
      "metadata": {
        "colab": {
          "base_uri": "https://localhost:8080/"
        },
        "id": "i73aD7r6fRCY",
        "outputId": "02ebc507-8c37-4c7d-c943-152eac3ce18b"
      },
      "execution_count": null,
      "outputs": [
        {
          "output_type": "execute_result",
          "data": {
            "text/plain": [
              "0.070774173431499"
            ]
          },
          "metadata": {},
          "execution_count": 9
        }
      ]
    },
    {
      "cell_type": "markdown",
      "source": [
        "## 200K Model"
      ],
      "metadata": {
        "id": "fHxp5AeofJzQ"
      }
    },
    {
      "cell_type": "code",
      "source": [
        "m2m_model_path_200k = \"/content/drive/MyDrive/W266 Final Project/m2m_mbart_sw_en_200k_model\"\n",
        "m2m_results_200k = evaluate_pipeline(src_eval_texts, tgt_eval_texts, m2m_model_path_200k, tokenizer, 'm2m')"
      ],
      "metadata": {
        "id": "6KbVWlKLfJzR"
      },
      "execution_count": null,
      "outputs": []
    },
    {
      "cell_type": "code",
      "source": [
        "m2m_results_200k['bleu'].mean()"
      ],
      "metadata": {
        "colab": {
          "base_uri": "https://localhost:8080/"
        },
        "id": "fPxy6-PyfSH4",
        "outputId": "af651fa7-190d-4e68-83cf-a9be65fff120"
      },
      "execution_count": null,
      "outputs": [
        {
          "output_type": "execute_result",
          "data": {
            "text/plain": [
              "0.08554327098295447"
            ]
          },
          "metadata": {},
          "execution_count": 11
        }
      ]
    },
    {
      "cell_type": "markdown",
      "source": [
        "# mBART Models"
      ],
      "metadata": {
        "id": "ePqxqfkclhHG"
      }
    },
    {
      "cell_type": "markdown",
      "metadata": {
        "id": "PzuhjK0YlkOI"
      },
      "source": [
        "## 10K Model"
      ]
    },
    {
      "cell_type": "code",
      "execution_count": null,
      "metadata": {
        "id": "ge5JDqc1lkOJ"
      },
      "outputs": [],
      "source": [
        "mbart_model_path_10k = \"/content/drive/MyDrive/W266 Final Project/mbart_mbart_sw_en_10k_model\"\n",
        "mbart_results_10k = evaluate_pipeline(src_eval_texts, tgt_eval_texts, mbart_model_path_10k, tokenizer, 'mbart')"
      ]
    },
    {
      "cell_type": "code",
      "execution_count": null,
      "metadata": {
        "colab": {
          "base_uri": "https://localhost:8080/"
        },
        "id": "3GIl_w9ClkOJ",
        "outputId": "efe4e5ae-c080-416f-db9f-abf1dc8838eb"
      },
      "outputs": [
        {
          "output_type": "execute_result",
          "data": {
            "text/plain": [
              "0.001725864548462383"
            ]
          },
          "metadata": {},
          "execution_count": 22
        }
      ],
      "source": [
        "mbart_results_10k['bleu'].mean()"
      ]
    },
    {
      "cell_type": "markdown",
      "source": [
        "## 20K Model"
      ],
      "metadata": {
        "id": "BzQ2Q2ZdlkOJ"
      }
    },
    {
      "cell_type": "code",
      "execution_count": null,
      "metadata": {
        "id": "STIBwJullkOJ"
      },
      "outputs": [],
      "source": [
        "mbart_model_path_20k = \"/content/drive/MyDrive/W266 Final Project/mbart_mbart_sw_en_20k_model\"\n",
        "mbart_results_20k = evaluate_pipeline(src_eval_texts, tgt_eval_texts, mbart_model_path_20k, tokenizer, 'mbart')"
      ]
    },
    {
      "cell_type": "code",
      "source": [
        "mbart_results_20k['bleu'].mean()"
      ],
      "metadata": {
        "colab": {
          "base_uri": "https://localhost:8080/"
        },
        "id": "zDzhQmsek-aD",
        "outputId": "39ac48be-74e8-4d5e-ee0b-939ed327363b"
      },
      "execution_count": null,
      "outputs": [
        {
          "output_type": "execute_result",
          "data": {
            "text/plain": [
              "8.730156979570488e-157"
            ]
          },
          "metadata": {},
          "execution_count": 24
        }
      ]
    },
    {
      "cell_type": "markdown",
      "source": [
        "## 50K Model"
      ],
      "metadata": {
        "id": "wJNsIGiVlkOJ"
      }
    },
    {
      "cell_type": "code",
      "source": [
        "mbart_model_path_50k = \"/content/drive/MyDrive/W266 Final Project/mbart_mbart_sw_en_50k_model\"\n",
        "mbart_results_50k = evaluate_pipeline(src_eval_texts, tgt_eval_texts, mbart_model_path_50k, tokenizer, 'mbart')"
      ],
      "metadata": {
        "id": "D37EpBrQlkOJ"
      },
      "execution_count": null,
      "outputs": []
    },
    {
      "cell_type": "code",
      "source": [
        "mbart_results_50k['bleu'].mean()"
      ],
      "metadata": {
        "id": "V-h298Tik-uC",
        "colab": {
          "base_uri": "https://localhost:8080/"
        },
        "outputId": "33f3e06e-dcce-466b-d86a-93337b33bf1e"
      },
      "execution_count": null,
      "outputs": [
        {
          "output_type": "execute_result",
          "data": {
            "text/plain": [
              "0.00037149514649936717"
            ]
          },
          "metadata": {},
          "execution_count": 9
        }
      ]
    },
    {
      "cell_type": "markdown",
      "source": [
        "## 100K Model"
      ],
      "metadata": {
        "id": "FHUCskEdlkOJ"
      }
    },
    {
      "cell_type": "code",
      "source": [
        "mbart_model_path_100k = \"/content/drive/MyDrive/W266 Final Project/mbart_mbart_sw_en_100k_model\"\n",
        "mbart_results_100k = evaluate_pipeline(src_eval_texts, tgt_eval_texts, mbart_model_path_100k, tokenizer, 'mbart')"
      ],
      "metadata": {
        "id": "3SYDIu24lkOJ"
      },
      "execution_count": null,
      "outputs": []
    },
    {
      "cell_type": "code",
      "source": [
        "mbart_results_100k['bleu'].mean()"
      ],
      "metadata": {
        "id": "_iMANY4ck_Ea",
        "colab": {
          "base_uri": "https://localhost:8080/"
        },
        "outputId": "2737304f-b526-474a-ce9a-c49c400a87bd"
      },
      "execution_count": null,
      "outputs": [
        {
          "output_type": "execute_result",
          "data": {
            "text/plain": [
              "0.000920760754856886"
            ]
          },
          "metadata": {},
          "execution_count": 11
        }
      ]
    },
    {
      "cell_type": "code",
      "source": [
        "mbart_results_100k = pd.read_csv('/content/drive/MyDrive/W266 Final Project/mbart_results_100k.csv')\n",
        "mbart_results_100k"
      ],
      "metadata": {
        "colab": {
          "base_uri": "https://localhost:8080/",
          "height": 424
        },
        "id": "mG15Y8MduWMb",
        "outputId": "12346c0c-7213-4bbc-e192-c3e230b29a49"
      },
      "execution_count": null,
      "outputs": [
        {
          "output_type": "execute_result",
          "data": {
            "text/plain": [
              "      Unnamed: 0                                             source  \\\n",
              "0              0  Mnamo Jumatatu, wanasayansi kutoka Shule ya Ti...   \n",
              "1              1  Watafiti wakuu wanasema hili linaweza kuleta u...   \n",
              "2              2  JAS 39C Gripen ilianguka kwenye barabara kuu k...   \n",
              "3              3  Rubani alitambuliwa kama Kiongozi wa Kikosi Di...   \n",
              "4              4  Vyombo vya habari vya ndani vinaripoti kwamba ...   \n",
              "...          ...                                                ...   \n",
              "2004        2004  Kwa kuwa maeneo hayo hayana idadi kubwa ya wat...   \n",
              "2005        2005  Desturi ya kazi ya Kijapani ni ya kimfumo na r...   \n",
              "2006        2006  Suti ni mavazi ya kawaida ya kibiashara, na wa...   \n",
              "2007        2007  Ulinganifu katika mahali pa kazi ni muhimu, ku...   \n",
              "2008        2008  Mara kwa mara wafanyakazi hupata kibali cha ma...   \n",
              "\n",
              "                                                 target  \\\n",
              "0     On Monday, scientists from the Stanford Univer...   \n",
              "1     Lead researchers say this may bring early dete...   \n",
              "2     The JAS 39C Gripen crashed onto a runway at ar...   \n",
              "3     The pilot was identified as Squadron Leader Di...   \n",
              "4     Local media reports an airport fire vehicle ro...   \n",
              "...                                                 ...   \n",
              "2004  As the areas are sparsely populated, and light...   \n",
              "2005  Japanese work culture is more hierarchical and...   \n",
              "2006  Suits are standard business attire, and cowork...   \n",
              "2007  Workplace harmony is crucial, emphasizing grou...   \n",
              "2008  Workers must often get their superiors' approv...   \n",
              "\n",
              "                                              predicted           bleu  \n",
              "0     We're the world's largest emitter of greenhous...  2.749135e-232  \n",
              "1     You're going to hear about the latest news fro...  6.905801e-232  \n",
              "2     JAS 39C – The JAS 39C – The JAS 39C – The JAS ...   1.720882e-78  \n",
              "3     Rubani is the world's largest exporter of dilo...  1.051835e-231  \n",
              "4     You can see all of the world's wines from all ...  8.231055e-232  \n",
              "...                                                 ...            ...  \n",
              "2004  And you can see that every single day of your ...  7.992219e-232  \n",
              "2005  The vast majority of the world's online casino...  8.412066e-232  \n",
              "2006  We're not just talking about the kibiashara, b...  8.614912e-232  \n",
              "2007  I was able to match every single aspect of you...   0.000000e+00  \n",
              "2008  Now, I'm going to use the World Wide Web for m...  1.083268e-231  \n",
              "\n",
              "[2009 rows x 5 columns]"
            ],
            "text/html": [
              "\n",
              "  <div id=\"df-ac5c25ca-3ddb-4385-8a4b-19f0f87d5899\">\n",
              "    <div class=\"colab-df-container\">\n",
              "      <div>\n",
              "<style scoped>\n",
              "    .dataframe tbody tr th:only-of-type {\n",
              "        vertical-align: middle;\n",
              "    }\n",
              "\n",
              "    .dataframe tbody tr th {\n",
              "        vertical-align: top;\n",
              "    }\n",
              "\n",
              "    .dataframe thead th {\n",
              "        text-align: right;\n",
              "    }\n",
              "</style>\n",
              "<table border=\"1\" class=\"dataframe\">\n",
              "  <thead>\n",
              "    <tr style=\"text-align: right;\">\n",
              "      <th></th>\n",
              "      <th>Unnamed: 0</th>\n",
              "      <th>source</th>\n",
              "      <th>target</th>\n",
              "      <th>predicted</th>\n",
              "      <th>bleu</th>\n",
              "    </tr>\n",
              "  </thead>\n",
              "  <tbody>\n",
              "    <tr>\n",
              "      <th>0</th>\n",
              "      <td>0</td>\n",
              "      <td>Mnamo Jumatatu, wanasayansi kutoka Shule ya Ti...</td>\n",
              "      <td>On Monday, scientists from the Stanford Univer...</td>\n",
              "      <td>We're the world's largest emitter of greenhous...</td>\n",
              "      <td>2.749135e-232</td>\n",
              "    </tr>\n",
              "    <tr>\n",
              "      <th>1</th>\n",
              "      <td>1</td>\n",
              "      <td>Watafiti wakuu wanasema hili linaweza kuleta u...</td>\n",
              "      <td>Lead researchers say this may bring early dete...</td>\n",
              "      <td>You're going to hear about the latest news fro...</td>\n",
              "      <td>6.905801e-232</td>\n",
              "    </tr>\n",
              "    <tr>\n",
              "      <th>2</th>\n",
              "      <td>2</td>\n",
              "      <td>JAS 39C Gripen ilianguka kwenye barabara kuu k...</td>\n",
              "      <td>The JAS 39C Gripen crashed onto a runway at ar...</td>\n",
              "      <td>JAS 39C – The JAS 39C – The JAS 39C – The JAS ...</td>\n",
              "      <td>1.720882e-78</td>\n",
              "    </tr>\n",
              "    <tr>\n",
              "      <th>3</th>\n",
              "      <td>3</td>\n",
              "      <td>Rubani alitambuliwa kama Kiongozi wa Kikosi Di...</td>\n",
              "      <td>The pilot was identified as Squadron Leader Di...</td>\n",
              "      <td>Rubani is the world's largest exporter of dilo...</td>\n",
              "      <td>1.051835e-231</td>\n",
              "    </tr>\n",
              "    <tr>\n",
              "      <th>4</th>\n",
              "      <td>4</td>\n",
              "      <td>Vyombo vya habari vya ndani vinaripoti kwamba ...</td>\n",
              "      <td>Local media reports an airport fire vehicle ro...</td>\n",
              "      <td>You can see all of the world's wines from all ...</td>\n",
              "      <td>8.231055e-232</td>\n",
              "    </tr>\n",
              "    <tr>\n",
              "      <th>...</th>\n",
              "      <td>...</td>\n",
              "      <td>...</td>\n",
              "      <td>...</td>\n",
              "      <td>...</td>\n",
              "      <td>...</td>\n",
              "    </tr>\n",
              "    <tr>\n",
              "      <th>2004</th>\n",
              "      <td>2004</td>\n",
              "      <td>Kwa kuwa maeneo hayo hayana idadi kubwa ya wat...</td>\n",
              "      <td>As the areas are sparsely populated, and light...</td>\n",
              "      <td>And you can see that every single day of your ...</td>\n",
              "      <td>7.992219e-232</td>\n",
              "    </tr>\n",
              "    <tr>\n",
              "      <th>2005</th>\n",
              "      <td>2005</td>\n",
              "      <td>Desturi ya kazi ya Kijapani ni ya kimfumo na r...</td>\n",
              "      <td>Japanese work culture is more hierarchical and...</td>\n",
              "      <td>The vast majority of the world's online casino...</td>\n",
              "      <td>8.412066e-232</td>\n",
              "    </tr>\n",
              "    <tr>\n",
              "      <th>2006</th>\n",
              "      <td>2006</td>\n",
              "      <td>Suti ni mavazi ya kawaida ya kibiashara, na wa...</td>\n",
              "      <td>Suits are standard business attire, and cowork...</td>\n",
              "      <td>We're not just talking about the kibiashara, b...</td>\n",
              "      <td>8.614912e-232</td>\n",
              "    </tr>\n",
              "    <tr>\n",
              "      <th>2007</th>\n",
              "      <td>2007</td>\n",
              "      <td>Ulinganifu katika mahali pa kazi ni muhimu, ku...</td>\n",
              "      <td>Workplace harmony is crucial, emphasizing grou...</td>\n",
              "      <td>I was able to match every single aspect of you...</td>\n",
              "      <td>0.000000e+00</td>\n",
              "    </tr>\n",
              "    <tr>\n",
              "      <th>2008</th>\n",
              "      <td>2008</td>\n",
              "      <td>Mara kwa mara wafanyakazi hupata kibali cha ma...</td>\n",
              "      <td>Workers must often get their superiors' approv...</td>\n",
              "      <td>Now, I'm going to use the World Wide Web for m...</td>\n",
              "      <td>1.083268e-231</td>\n",
              "    </tr>\n",
              "  </tbody>\n",
              "</table>\n",
              "<p>2009 rows × 5 columns</p>\n",
              "</div>\n",
              "      <button class=\"colab-df-convert\" onclick=\"convertToInteractive('df-ac5c25ca-3ddb-4385-8a4b-19f0f87d5899')\"\n",
              "              title=\"Convert this dataframe to an interactive table.\"\n",
              "              style=\"display:none;\">\n",
              "        \n",
              "  <svg xmlns=\"http://www.w3.org/2000/svg\" height=\"24px\"viewBox=\"0 0 24 24\"\n",
              "       width=\"24px\">\n",
              "    <path d=\"M0 0h24v24H0V0z\" fill=\"none\"/>\n",
              "    <path d=\"M18.56 5.44l.94 2.06.94-2.06 2.06-.94-2.06-.94-.94-2.06-.94 2.06-2.06.94zm-11 1L8.5 8.5l.94-2.06 2.06-.94-2.06-.94L8.5 2.5l-.94 2.06-2.06.94zm10 10l.94 2.06.94-2.06 2.06-.94-2.06-.94-.94-2.06-.94 2.06-2.06.94z\"/><path d=\"M17.41 7.96l-1.37-1.37c-.4-.4-.92-.59-1.43-.59-.52 0-1.04.2-1.43.59L10.3 9.45l-7.72 7.72c-.78.78-.78 2.05 0 2.83L4 21.41c.39.39.9.59 1.41.59.51 0 1.02-.2 1.41-.59l7.78-7.78 2.81-2.81c.8-.78.8-2.07 0-2.86zM5.41 20L4 18.59l7.72-7.72 1.47 1.35L5.41 20z\"/>\n",
              "  </svg>\n",
              "      </button>\n",
              "      \n",
              "  <style>\n",
              "    .colab-df-container {\n",
              "      display:flex;\n",
              "      flex-wrap:wrap;\n",
              "      gap: 12px;\n",
              "    }\n",
              "\n",
              "    .colab-df-convert {\n",
              "      background-color: #E8F0FE;\n",
              "      border: none;\n",
              "      border-radius: 50%;\n",
              "      cursor: pointer;\n",
              "      display: none;\n",
              "      fill: #1967D2;\n",
              "      height: 32px;\n",
              "      padding: 0 0 0 0;\n",
              "      width: 32px;\n",
              "    }\n",
              "\n",
              "    .colab-df-convert:hover {\n",
              "      background-color: #E2EBFA;\n",
              "      box-shadow: 0px 1px 2px rgba(60, 64, 67, 0.3), 0px 1px 3px 1px rgba(60, 64, 67, 0.15);\n",
              "      fill: #174EA6;\n",
              "    }\n",
              "\n",
              "    [theme=dark] .colab-df-convert {\n",
              "      background-color: #3B4455;\n",
              "      fill: #D2E3FC;\n",
              "    }\n",
              "\n",
              "    [theme=dark] .colab-df-convert:hover {\n",
              "      background-color: #434B5C;\n",
              "      box-shadow: 0px 1px 3px 1px rgba(0, 0, 0, 0.15);\n",
              "      filter: drop-shadow(0px 1px 2px rgba(0, 0, 0, 0.3));\n",
              "      fill: #FFFFFF;\n",
              "    }\n",
              "  </style>\n",
              "\n",
              "      <script>\n",
              "        const buttonEl =\n",
              "          document.querySelector('#df-ac5c25ca-3ddb-4385-8a4b-19f0f87d5899 button.colab-df-convert');\n",
              "        buttonEl.style.display =\n",
              "          google.colab.kernel.accessAllowed ? 'block' : 'none';\n",
              "\n",
              "        async function convertToInteractive(key) {\n",
              "          const element = document.querySelector('#df-ac5c25ca-3ddb-4385-8a4b-19f0f87d5899');\n",
              "          const dataTable =\n",
              "            await google.colab.kernel.invokeFunction('convertToInteractive',\n",
              "                                                     [key], {});\n",
              "          if (!dataTable) return;\n",
              "\n",
              "          const docLinkHtml = 'Like what you see? Visit the ' +\n",
              "            '<a target=\"_blank\" href=https://colab.research.google.com/notebooks/data_table.ipynb>data table notebook</a>'\n",
              "            + ' to learn more about interactive tables.';\n",
              "          element.innerHTML = '';\n",
              "          dataTable['output_type'] = 'display_data';\n",
              "          await google.colab.output.renderOutput(dataTable, element);\n",
              "          const docLink = document.createElement('div');\n",
              "          docLink.innerHTML = docLinkHtml;\n",
              "          element.appendChild(docLink);\n",
              "        }\n",
              "      </script>\n",
              "    </div>\n",
              "  </div>\n",
              "  "
            ]
          },
          "metadata": {},
          "execution_count": 20
        }
      ]
    },
    {
      "cell_type": "markdown",
      "source": [
        "## 200K Model"
      ],
      "metadata": {
        "id": "lfn3lell9o89"
      }
    },
    {
      "cell_type": "code",
      "source": [
        "mbart_model_path_200k = \"/content/drive/MyDrive/W266 Final Project/mbart_mbart_sw_en_200k_model\"\n",
        "mbart_results_200k = evaluate_pipeline(src_eval_texts, tgt_eval_texts, mbart_model_path_200k, tokenizer, 'mbart')"
      ],
      "metadata": {
        "id": "Gb8oGK_y9o9F"
      },
      "execution_count": null,
      "outputs": []
    },
    {
      "cell_type": "code",
      "source": [
        "mbart_results_200k['bleu'].mean()"
      ],
      "metadata": {
        "id": "SsVsO0OA9o9F",
        "colab": {
          "base_uri": "https://localhost:8080/"
        },
        "outputId": "f09b5282-c2ba-4ac3-cf20-2f0d6ca7b16a"
      },
      "execution_count": null,
      "outputs": [
        {
          "output_type": "execute_result",
          "data": {
            "text/plain": [
              "5.020190793008676e-05"
            ]
          },
          "metadata": {},
          "execution_count": 13
        }
      ]
    },
    {
      "cell_type": "code",
      "source": [
        "mbart_results_200k = pd.read_csv('/content/drive/MyDrive/W266 Final Project/mbart_results_200k.csv')\n",
        "mbart_results_200k"
      ],
      "metadata": {
        "colab": {
          "base_uri": "https://localhost:8080/",
          "height": 424
        },
        "id": "vT8adAzU9zNO",
        "outputId": "a5af7339-5bc2-450b-d812-92f6be5d3d7c"
      },
      "execution_count": null,
      "outputs": [
        {
          "output_type": "execute_result",
          "data": {
            "text/plain": [
              "      Unnamed: 0                                             source  \\\n",
              "0              0  Mnamo Jumatatu, wanasayansi kutoka Shule ya Ti...   \n",
              "1              1  Watafiti wakuu wanasema hili linaweza kuleta u...   \n",
              "2              2  JAS 39C Gripen ilianguka kwenye barabara kuu k...   \n",
              "3              3  Rubani alitambuliwa kama Kiongozi wa Kikosi Di...   \n",
              "4              4  Vyombo vya habari vya ndani vinaripoti kwamba ...   \n",
              "...          ...                                                ...   \n",
              "2004        2004  Kwa kuwa maeneo hayo hayana idadi kubwa ya wat...   \n",
              "2005        2005  Desturi ya kazi ya Kijapani ni ya kimfumo na r...   \n",
              "2006        2006  Suti ni mavazi ya kawaida ya kibiashara, na wa...   \n",
              "2007        2007  Ulinganifu katika mahali pa kazi ni muhimu, ku...   \n",
              "2008        2008  Mara kwa mara wafanyakazi hupata kibali cha ma...   \n",
              "\n",
              "                                                 target  \\\n",
              "0     On Monday, scientists from the Stanford Univer...   \n",
              "1     Lead researchers say this may bring early dete...   \n",
              "2     The JAS 39C Gripen crashed onto a runway at ar...   \n",
              "3     The pilot was identified as Squadron Leader Di...   \n",
              "4     Local media reports an airport fire vehicle ro...   \n",
              "...                                                 ...   \n",
              "2004  As the areas are sparsely populated, and light...   \n",
              "2005  Japanese work culture is more hierarchical and...   \n",
              "2006  Suits are standard business attire, and cowork...   \n",
              "2007  Workplace harmony is crucial, emphasizing grou...   \n",
              "2008  Workers must often get their superiors' approv...   \n",
              "\n",
              "                                              predicted           bleu  \n",
              "0     You're going to be spending a lot of money on ...  5.214006e-232  \n",
              "1     You're going to be spending a lot of money on ...  6.685295e-232  \n",
              "2     You're going to be spending a lot of money on ...  9.472214e-232  \n",
              "3     You'll be able to see all of the world's langu...   0.000000e+00  \n",
              "4     You're going to be spending a lot of money on ...   0.000000e+00  \n",
              "...                                                 ...            ...  \n",
              "2004  Now, the U.S. was the world's second-largest e...  6.517294e-232  \n",
              "2005  Now, the U.S. was the world's second-largest e...  8.769105e-232  \n",
              "2006  Now, I'm going to show you some of the world's...  8.614912e-232  \n",
              "2007  You're going to be spending a lot of money on ...   0.000000e+00  \n",
              "2008  You're going to be spending a lot of money on ...  8.319100e-232  \n",
              "\n",
              "[2009 rows x 5 columns]"
            ],
            "text/html": [
              "\n",
              "  <div id=\"df-52bcd903-d5ce-4335-b9a1-97e2f138581d\">\n",
              "    <div class=\"colab-df-container\">\n",
              "      <div>\n",
              "<style scoped>\n",
              "    .dataframe tbody tr th:only-of-type {\n",
              "        vertical-align: middle;\n",
              "    }\n",
              "\n",
              "    .dataframe tbody tr th {\n",
              "        vertical-align: top;\n",
              "    }\n",
              "\n",
              "    .dataframe thead th {\n",
              "        text-align: right;\n",
              "    }\n",
              "</style>\n",
              "<table border=\"1\" class=\"dataframe\">\n",
              "  <thead>\n",
              "    <tr style=\"text-align: right;\">\n",
              "      <th></th>\n",
              "      <th>Unnamed: 0</th>\n",
              "      <th>source</th>\n",
              "      <th>target</th>\n",
              "      <th>predicted</th>\n",
              "      <th>bleu</th>\n",
              "    </tr>\n",
              "  </thead>\n",
              "  <tbody>\n",
              "    <tr>\n",
              "      <th>0</th>\n",
              "      <td>0</td>\n",
              "      <td>Mnamo Jumatatu, wanasayansi kutoka Shule ya Ti...</td>\n",
              "      <td>On Monday, scientists from the Stanford Univer...</td>\n",
              "      <td>You're going to be spending a lot of money on ...</td>\n",
              "      <td>5.214006e-232</td>\n",
              "    </tr>\n",
              "    <tr>\n",
              "      <th>1</th>\n",
              "      <td>1</td>\n",
              "      <td>Watafiti wakuu wanasema hili linaweza kuleta u...</td>\n",
              "      <td>Lead researchers say this may bring early dete...</td>\n",
              "      <td>You're going to be spending a lot of money on ...</td>\n",
              "      <td>6.685295e-232</td>\n",
              "    </tr>\n",
              "    <tr>\n",
              "      <th>2</th>\n",
              "      <td>2</td>\n",
              "      <td>JAS 39C Gripen ilianguka kwenye barabara kuu k...</td>\n",
              "      <td>The JAS 39C Gripen crashed onto a runway at ar...</td>\n",
              "      <td>You're going to be spending a lot of money on ...</td>\n",
              "      <td>9.472214e-232</td>\n",
              "    </tr>\n",
              "    <tr>\n",
              "      <th>3</th>\n",
              "      <td>3</td>\n",
              "      <td>Rubani alitambuliwa kama Kiongozi wa Kikosi Di...</td>\n",
              "      <td>The pilot was identified as Squadron Leader Di...</td>\n",
              "      <td>You'll be able to see all of the world's langu...</td>\n",
              "      <td>0.000000e+00</td>\n",
              "    </tr>\n",
              "    <tr>\n",
              "      <th>4</th>\n",
              "      <td>4</td>\n",
              "      <td>Vyombo vya habari vya ndani vinaripoti kwamba ...</td>\n",
              "      <td>Local media reports an airport fire vehicle ro...</td>\n",
              "      <td>You're going to be spending a lot of money on ...</td>\n",
              "      <td>0.000000e+00</td>\n",
              "    </tr>\n",
              "    <tr>\n",
              "      <th>...</th>\n",
              "      <td>...</td>\n",
              "      <td>...</td>\n",
              "      <td>...</td>\n",
              "      <td>...</td>\n",
              "      <td>...</td>\n",
              "    </tr>\n",
              "    <tr>\n",
              "      <th>2004</th>\n",
              "      <td>2004</td>\n",
              "      <td>Kwa kuwa maeneo hayo hayana idadi kubwa ya wat...</td>\n",
              "      <td>As the areas are sparsely populated, and light...</td>\n",
              "      <td>Now, the U.S. was the world's second-largest e...</td>\n",
              "      <td>6.517294e-232</td>\n",
              "    </tr>\n",
              "    <tr>\n",
              "      <th>2005</th>\n",
              "      <td>2005</td>\n",
              "      <td>Desturi ya kazi ya Kijapani ni ya kimfumo na r...</td>\n",
              "      <td>Japanese work culture is more hierarchical and...</td>\n",
              "      <td>Now, the U.S. was the world's second-largest e...</td>\n",
              "      <td>8.769105e-232</td>\n",
              "    </tr>\n",
              "    <tr>\n",
              "      <th>2006</th>\n",
              "      <td>2006</td>\n",
              "      <td>Suti ni mavazi ya kawaida ya kibiashara, na wa...</td>\n",
              "      <td>Suits are standard business attire, and cowork...</td>\n",
              "      <td>Now, I'm going to show you some of the world's...</td>\n",
              "      <td>8.614912e-232</td>\n",
              "    </tr>\n",
              "    <tr>\n",
              "      <th>2007</th>\n",
              "      <td>2007</td>\n",
              "      <td>Ulinganifu katika mahali pa kazi ni muhimu, ku...</td>\n",
              "      <td>Workplace harmony is crucial, emphasizing grou...</td>\n",
              "      <td>You're going to be spending a lot of money on ...</td>\n",
              "      <td>0.000000e+00</td>\n",
              "    </tr>\n",
              "    <tr>\n",
              "      <th>2008</th>\n",
              "      <td>2008</td>\n",
              "      <td>Mara kwa mara wafanyakazi hupata kibali cha ma...</td>\n",
              "      <td>Workers must often get their superiors' approv...</td>\n",
              "      <td>You're going to be spending a lot of money on ...</td>\n",
              "      <td>8.319100e-232</td>\n",
              "    </tr>\n",
              "  </tbody>\n",
              "</table>\n",
              "<p>2009 rows × 5 columns</p>\n",
              "</div>\n",
              "      <button class=\"colab-df-convert\" onclick=\"convertToInteractive('df-52bcd903-d5ce-4335-b9a1-97e2f138581d')\"\n",
              "              title=\"Convert this dataframe to an interactive table.\"\n",
              "              style=\"display:none;\">\n",
              "        \n",
              "  <svg xmlns=\"http://www.w3.org/2000/svg\" height=\"24px\"viewBox=\"0 0 24 24\"\n",
              "       width=\"24px\">\n",
              "    <path d=\"M0 0h24v24H0V0z\" fill=\"none\"/>\n",
              "    <path d=\"M18.56 5.44l.94 2.06.94-2.06 2.06-.94-2.06-.94-.94-2.06-.94 2.06-2.06.94zm-11 1L8.5 8.5l.94-2.06 2.06-.94-2.06-.94L8.5 2.5l-.94 2.06-2.06.94zm10 10l.94 2.06.94-2.06 2.06-.94-2.06-.94-.94-2.06-.94 2.06-2.06.94z\"/><path d=\"M17.41 7.96l-1.37-1.37c-.4-.4-.92-.59-1.43-.59-.52 0-1.04.2-1.43.59L10.3 9.45l-7.72 7.72c-.78.78-.78 2.05 0 2.83L4 21.41c.39.39.9.59 1.41.59.51 0 1.02-.2 1.41-.59l7.78-7.78 2.81-2.81c.8-.78.8-2.07 0-2.86zM5.41 20L4 18.59l7.72-7.72 1.47 1.35L5.41 20z\"/>\n",
              "  </svg>\n",
              "      </button>\n",
              "      \n",
              "  <style>\n",
              "    .colab-df-container {\n",
              "      display:flex;\n",
              "      flex-wrap:wrap;\n",
              "      gap: 12px;\n",
              "    }\n",
              "\n",
              "    .colab-df-convert {\n",
              "      background-color: #E8F0FE;\n",
              "      border: none;\n",
              "      border-radius: 50%;\n",
              "      cursor: pointer;\n",
              "      display: none;\n",
              "      fill: #1967D2;\n",
              "      height: 32px;\n",
              "      padding: 0 0 0 0;\n",
              "      width: 32px;\n",
              "    }\n",
              "\n",
              "    .colab-df-convert:hover {\n",
              "      background-color: #E2EBFA;\n",
              "      box-shadow: 0px 1px 2px rgba(60, 64, 67, 0.3), 0px 1px 3px 1px rgba(60, 64, 67, 0.15);\n",
              "      fill: #174EA6;\n",
              "    }\n",
              "\n",
              "    [theme=dark] .colab-df-convert {\n",
              "      background-color: #3B4455;\n",
              "      fill: #D2E3FC;\n",
              "    }\n",
              "\n",
              "    [theme=dark] .colab-df-convert:hover {\n",
              "      background-color: #434B5C;\n",
              "      box-shadow: 0px 1px 3px 1px rgba(0, 0, 0, 0.15);\n",
              "      filter: drop-shadow(0px 1px 2px rgba(0, 0, 0, 0.3));\n",
              "      fill: #FFFFFF;\n",
              "    }\n",
              "  </style>\n",
              "\n",
              "      <script>\n",
              "        const buttonEl =\n",
              "          document.querySelector('#df-52bcd903-d5ce-4335-b9a1-97e2f138581d button.colab-df-convert');\n",
              "        buttonEl.style.display =\n",
              "          google.colab.kernel.accessAllowed ? 'block' : 'none';\n",
              "\n",
              "        async function convertToInteractive(key) {\n",
              "          const element = document.querySelector('#df-52bcd903-d5ce-4335-b9a1-97e2f138581d');\n",
              "          const dataTable =\n",
              "            await google.colab.kernel.invokeFunction('convertToInteractive',\n",
              "                                                     [key], {});\n",
              "          if (!dataTable) return;\n",
              "\n",
              "          const docLinkHtml = 'Like what you see? Visit the ' +\n",
              "            '<a target=\"_blank\" href=https://colab.research.google.com/notebooks/data_table.ipynb>data table notebook</a>'\n",
              "            + ' to learn more about interactive tables.';\n",
              "          element.innerHTML = '';\n",
              "          dataTable['output_type'] = 'display_data';\n",
              "          await google.colab.output.renderOutput(dataTable, element);\n",
              "          const docLink = document.createElement('div');\n",
              "          docLink.innerHTML = docLinkHtml;\n",
              "          element.appendChild(docLink);\n",
              "        }\n",
              "      </script>\n",
              "    </div>\n",
              "  </div>\n",
              "  "
            ]
          },
          "metadata": {},
          "execution_count": 19
        }
      ]
    },
    {
      "cell_type": "markdown",
      "source": [
        "## 2nd 10K Dataset"
      ],
      "metadata": {
        "id": "JnCSkUpfgtg9"
      }
    },
    {
      "cell_type": "code",
      "source": [
        "mbart_model_path_last_10k = \"/content/drive/MyDrive/W266 Final Project/mbart_last_10k_mbart_sw_en_last10k_model\"\n",
        "mbart_results_last_10k = evaluate_pipeline(src_eval_texts, tgt_eval_texts, mbart_model_path_last_10k, tokenizer, 'mbart_last_10k')"
      ],
      "metadata": {
        "id": "nJwwM6AAuI9S"
      },
      "execution_count": null,
      "outputs": []
    },
    {
      "cell_type": "code",
      "source": [
        "mbart_results_last_10k['bleu'].mean()"
      ],
      "metadata": {
        "colab": {
          "base_uri": "https://localhost:8080/"
        },
        "id": "LA_R9Z-rg1PN",
        "outputId": "299f0d58-d14e-43c2-faab-d647460870f8"
      },
      "execution_count": null,
      "outputs": [
        {
          "output_type": "execute_result",
          "data": {
            "text/plain": [
              "1.1152226474751814e-80"
            ]
          },
          "metadata": {},
          "execution_count": 14
        }
      ]
    },
    {
      "cell_type": "markdown",
      "source": [
        "## 2nd 100K Dataset"
      ],
      "metadata": {
        "id": "1lXeNirfg1by"
      }
    },
    {
      "cell_type": "code",
      "source": [
        "mbart_model_path_last_100k = \"/content/drive/MyDrive/W266 Final Project/mbart_last_100k_mbart_sw_en_last100k_model\"\n",
        "mbart_results_last_100k = evaluate_pipeline(src_eval_texts, tgt_eval_texts, mbart_model_path_last_100k, tokenizer, 'mbart_last_100k')"
      ],
      "metadata": {
        "id": "exQ9Sdfxg1bz"
      },
      "execution_count": null,
      "outputs": []
    },
    {
      "cell_type": "code",
      "source": [
        "mbart_results_last_100k = pd.read_csv(\"/content/drive/MyDrive/W266 Final Project/mbart_last_100k_results_last100k.csv\")"
      ],
      "metadata": {
        "id": "9AtxhmwGiMqi"
      },
      "execution_count": null,
      "outputs": []
    },
    {
      "cell_type": "code",
      "source": [
        "mbart_results_last_100k['bleu'].mean()"
      ],
      "metadata": {
        "colab": {
          "base_uri": "https://localhost:8080/"
        },
        "id": "Oq9tVeEZiKDL",
        "outputId": "a7ec5f0f-89eb-4364-f6c5-bebd10e6212a"
      },
      "execution_count": null,
      "outputs": [
        {
          "output_type": "execute_result",
          "data": {
            "text/plain": [
              "0.0012300777010507092"
            ]
          },
          "metadata": {},
          "execution_count": 6
        }
      ]
    },
    {
      "cell_type": "code",
      "source": [
        "mbart_results_last_100k"
      ],
      "metadata": {
        "colab": {
          "base_uri": "https://localhost:8080/",
          "height": 424
        },
        "id": "k_7uokkShNEB",
        "outputId": "eaad77e6-72a1-4b82-fac3-7b85bbbfadc5"
      },
      "execution_count": null,
      "outputs": [
        {
          "output_type": "execute_result",
          "data": {
            "text/plain": [
              "      Unnamed: 0                                             source  \\\n",
              "0              0  Mnamo Jumatatu, wanasayansi kutoka Shule ya Ti...   \n",
              "1              1  Watafiti wakuu wanasema hili linaweza kuleta u...   \n",
              "2              2  JAS 39C Gripen ilianguka kwenye barabara kuu k...   \n",
              "3              3  Rubani alitambuliwa kama Kiongozi wa Kikosi Di...   \n",
              "4              4  Vyombo vya habari vya ndani vinaripoti kwamba ...   \n",
              "...          ...                                                ...   \n",
              "2004        2004  Kwa kuwa maeneo hayo hayana idadi kubwa ya wat...   \n",
              "2005        2005  Desturi ya kazi ya Kijapani ni ya kimfumo na r...   \n",
              "2006        2006  Suti ni mavazi ya kawaida ya kibiashara, na wa...   \n",
              "2007        2007  Ulinganifu katika mahali pa kazi ni muhimu, ku...   \n",
              "2008        2008  Mara kwa mara wafanyakazi hupata kibali cha ma...   \n",
              "\n",
              "                                                 target  \\\n",
              "0     On Monday, scientists from the Stanford Univer...   \n",
              "1     Lead researchers say this may bring early dete...   \n",
              "2     The JAS 39C Gripen crashed onto a runway at ar...   \n",
              "3     The pilot was identified as Squadron Leader Di...   \n",
              "4     Local media reports an airport fire vehicle ro...   \n",
              "...                                                 ...   \n",
              "2004  As the areas are sparsely populated, and light...   \n",
              "2005  Japanese work culture is more hierarchical and...   \n",
              "2006  Suits are standard business attire, and cowork...   \n",
              "2007  Workplace harmony is crucial, emphasizing grou...   \n",
              "2008  Workers must often get their superiors' approv...   \n",
              "\n",
              "                                              predicted           bleu  \n",
              "0     We're the world's fastest growing nation, and ...  2.003844e-232  \n",
              "1     You're going to hear the entire language of th...  7.420766e-232  \n",
              "2     JAS 39C Gripen is a six-month-long, six-month-...   8.187981e-79  \n",
              "3     Rubani is an American who grew up in the Unite...   0.000000e+00  \n",
              "4     All of the world's wines are covered by the wa...   0.000000e+00  \n",
              "...                                                 ...            ...  \n",
              "2004  Now, I'm not the only person in the entire wor...  1.136781e-231  \n",
              "2005  The vast majority of the casinos in the United...  8.614912e-232  \n",
              "2006  You're not going to hear any of the world's la...   0.000000e+00  \n",
              "2007  You can find out more about the history of onl...   0.000000e+00  \n",
              "2008  It's the second-largest food in the world, and...  6.260628e-232  \n",
              "\n",
              "[2009 rows x 5 columns]"
            ],
            "text/html": [
              "\n",
              "  <div id=\"df-19e86bd9-4eb1-410c-ad81-e3d0e1a01d60\">\n",
              "    <div class=\"colab-df-container\">\n",
              "      <div>\n",
              "<style scoped>\n",
              "    .dataframe tbody tr th:only-of-type {\n",
              "        vertical-align: middle;\n",
              "    }\n",
              "\n",
              "    .dataframe tbody tr th {\n",
              "        vertical-align: top;\n",
              "    }\n",
              "\n",
              "    .dataframe thead th {\n",
              "        text-align: right;\n",
              "    }\n",
              "</style>\n",
              "<table border=\"1\" class=\"dataframe\">\n",
              "  <thead>\n",
              "    <tr style=\"text-align: right;\">\n",
              "      <th></th>\n",
              "      <th>Unnamed: 0</th>\n",
              "      <th>source</th>\n",
              "      <th>target</th>\n",
              "      <th>predicted</th>\n",
              "      <th>bleu</th>\n",
              "    </tr>\n",
              "  </thead>\n",
              "  <tbody>\n",
              "    <tr>\n",
              "      <th>0</th>\n",
              "      <td>0</td>\n",
              "      <td>Mnamo Jumatatu, wanasayansi kutoka Shule ya Ti...</td>\n",
              "      <td>On Monday, scientists from the Stanford Univer...</td>\n",
              "      <td>We're the world's fastest growing nation, and ...</td>\n",
              "      <td>2.003844e-232</td>\n",
              "    </tr>\n",
              "    <tr>\n",
              "      <th>1</th>\n",
              "      <td>1</td>\n",
              "      <td>Watafiti wakuu wanasema hili linaweza kuleta u...</td>\n",
              "      <td>Lead researchers say this may bring early dete...</td>\n",
              "      <td>You're going to hear the entire language of th...</td>\n",
              "      <td>7.420766e-232</td>\n",
              "    </tr>\n",
              "    <tr>\n",
              "      <th>2</th>\n",
              "      <td>2</td>\n",
              "      <td>JAS 39C Gripen ilianguka kwenye barabara kuu k...</td>\n",
              "      <td>The JAS 39C Gripen crashed onto a runway at ar...</td>\n",
              "      <td>JAS 39C Gripen is a six-month-long, six-month-...</td>\n",
              "      <td>8.187981e-79</td>\n",
              "    </tr>\n",
              "    <tr>\n",
              "      <th>3</th>\n",
              "      <td>3</td>\n",
              "      <td>Rubani alitambuliwa kama Kiongozi wa Kikosi Di...</td>\n",
              "      <td>The pilot was identified as Squadron Leader Di...</td>\n",
              "      <td>Rubani is an American who grew up in the Unite...</td>\n",
              "      <td>0.000000e+00</td>\n",
              "    </tr>\n",
              "    <tr>\n",
              "      <th>4</th>\n",
              "      <td>4</td>\n",
              "      <td>Vyombo vya habari vya ndani vinaripoti kwamba ...</td>\n",
              "      <td>Local media reports an airport fire vehicle ro...</td>\n",
              "      <td>All of the world's wines are covered by the wa...</td>\n",
              "      <td>0.000000e+00</td>\n",
              "    </tr>\n",
              "    <tr>\n",
              "      <th>...</th>\n",
              "      <td>...</td>\n",
              "      <td>...</td>\n",
              "      <td>...</td>\n",
              "      <td>...</td>\n",
              "      <td>...</td>\n",
              "    </tr>\n",
              "    <tr>\n",
              "      <th>2004</th>\n",
              "      <td>2004</td>\n",
              "      <td>Kwa kuwa maeneo hayo hayana idadi kubwa ya wat...</td>\n",
              "      <td>As the areas are sparsely populated, and light...</td>\n",
              "      <td>Now, I'm not the only person in the entire wor...</td>\n",
              "      <td>1.136781e-231</td>\n",
              "    </tr>\n",
              "    <tr>\n",
              "      <th>2005</th>\n",
              "      <td>2005</td>\n",
              "      <td>Desturi ya kazi ya Kijapani ni ya kimfumo na r...</td>\n",
              "      <td>Japanese work culture is more hierarchical and...</td>\n",
              "      <td>The vast majority of the casinos in the United...</td>\n",
              "      <td>8.614912e-232</td>\n",
              "    </tr>\n",
              "    <tr>\n",
              "      <th>2006</th>\n",
              "      <td>2006</td>\n",
              "      <td>Suti ni mavazi ya kawaida ya kibiashara, na wa...</td>\n",
              "      <td>Suits are standard business attire, and cowork...</td>\n",
              "      <td>You're not going to hear any of the world's la...</td>\n",
              "      <td>0.000000e+00</td>\n",
              "    </tr>\n",
              "    <tr>\n",
              "      <th>2007</th>\n",
              "      <td>2007</td>\n",
              "      <td>Ulinganifu katika mahali pa kazi ni muhimu, ku...</td>\n",
              "      <td>Workplace harmony is crucial, emphasizing grou...</td>\n",
              "      <td>You can find out more about the history of onl...</td>\n",
              "      <td>0.000000e+00</td>\n",
              "    </tr>\n",
              "    <tr>\n",
              "      <th>2008</th>\n",
              "      <td>2008</td>\n",
              "      <td>Mara kwa mara wafanyakazi hupata kibali cha ma...</td>\n",
              "      <td>Workers must often get their superiors' approv...</td>\n",
              "      <td>It's the second-largest food in the world, and...</td>\n",
              "      <td>6.260628e-232</td>\n",
              "    </tr>\n",
              "  </tbody>\n",
              "</table>\n",
              "<p>2009 rows × 5 columns</p>\n",
              "</div>\n",
              "      <button class=\"colab-df-convert\" onclick=\"convertToInteractive('df-19e86bd9-4eb1-410c-ad81-e3d0e1a01d60')\"\n",
              "              title=\"Convert this dataframe to an interactive table.\"\n",
              "              style=\"display:none;\">\n",
              "        \n",
              "  <svg xmlns=\"http://www.w3.org/2000/svg\" height=\"24px\"viewBox=\"0 0 24 24\"\n",
              "       width=\"24px\">\n",
              "    <path d=\"M0 0h24v24H0V0z\" fill=\"none\"/>\n",
              "    <path d=\"M18.56 5.44l.94 2.06.94-2.06 2.06-.94-2.06-.94-.94-2.06-.94 2.06-2.06.94zm-11 1L8.5 8.5l.94-2.06 2.06-.94-2.06-.94L8.5 2.5l-.94 2.06-2.06.94zm10 10l.94 2.06.94-2.06 2.06-.94-2.06-.94-.94-2.06-.94 2.06-2.06.94z\"/><path d=\"M17.41 7.96l-1.37-1.37c-.4-.4-.92-.59-1.43-.59-.52 0-1.04.2-1.43.59L10.3 9.45l-7.72 7.72c-.78.78-.78 2.05 0 2.83L4 21.41c.39.39.9.59 1.41.59.51 0 1.02-.2 1.41-.59l7.78-7.78 2.81-2.81c.8-.78.8-2.07 0-2.86zM5.41 20L4 18.59l7.72-7.72 1.47 1.35L5.41 20z\"/>\n",
              "  </svg>\n",
              "      </button>\n",
              "      \n",
              "  <style>\n",
              "    .colab-df-container {\n",
              "      display:flex;\n",
              "      flex-wrap:wrap;\n",
              "      gap: 12px;\n",
              "    }\n",
              "\n",
              "    .colab-df-convert {\n",
              "      background-color: #E8F0FE;\n",
              "      border: none;\n",
              "      border-radius: 50%;\n",
              "      cursor: pointer;\n",
              "      display: none;\n",
              "      fill: #1967D2;\n",
              "      height: 32px;\n",
              "      padding: 0 0 0 0;\n",
              "      width: 32px;\n",
              "    }\n",
              "\n",
              "    .colab-df-convert:hover {\n",
              "      background-color: #E2EBFA;\n",
              "      box-shadow: 0px 1px 2px rgba(60, 64, 67, 0.3), 0px 1px 3px 1px rgba(60, 64, 67, 0.15);\n",
              "      fill: #174EA6;\n",
              "    }\n",
              "\n",
              "    [theme=dark] .colab-df-convert {\n",
              "      background-color: #3B4455;\n",
              "      fill: #D2E3FC;\n",
              "    }\n",
              "\n",
              "    [theme=dark] .colab-df-convert:hover {\n",
              "      background-color: #434B5C;\n",
              "      box-shadow: 0px 1px 3px 1px rgba(0, 0, 0, 0.15);\n",
              "      filter: drop-shadow(0px 1px 2px rgba(0, 0, 0, 0.3));\n",
              "      fill: #FFFFFF;\n",
              "    }\n",
              "  </style>\n",
              "\n",
              "      <script>\n",
              "        const buttonEl =\n",
              "          document.querySelector('#df-19e86bd9-4eb1-410c-ad81-e3d0e1a01d60 button.colab-df-convert');\n",
              "        buttonEl.style.display =\n",
              "          google.colab.kernel.accessAllowed ? 'block' : 'none';\n",
              "\n",
              "        async function convertToInteractive(key) {\n",
              "          const element = document.querySelector('#df-19e86bd9-4eb1-410c-ad81-e3d0e1a01d60');\n",
              "          const dataTable =\n",
              "            await google.colab.kernel.invokeFunction('convertToInteractive',\n",
              "                                                     [key], {});\n",
              "          if (!dataTable) return;\n",
              "\n",
              "          const docLinkHtml = 'Like what you see? Visit the ' +\n",
              "            '<a target=\"_blank\" href=https://colab.research.google.com/notebooks/data_table.ipynb>data table notebook</a>'\n",
              "            + ' to learn more about interactive tables.';\n",
              "          element.innerHTML = '';\n",
              "          dataTable['output_type'] = 'display_data';\n",
              "          await google.colab.output.renderOutput(dataTable, element);\n",
              "          const docLink = document.createElement('div');\n",
              "          docLink.innerHTML = docLinkHtml;\n",
              "          element.appendChild(docLink);\n",
              "        }\n",
              "      </script>\n",
              "    </div>\n",
              "  </div>\n",
              "  "
            ]
          },
          "metadata": {},
          "execution_count": 7
        }
      ]
    }
  ],
  "metadata": {
    "accelerator": "GPU",
    "colab": {
      "machine_shape": "hm",
      "provenance": [],
      "collapsed_sections": [
        "jT7OAz1fQKPn",
        "6TTWTW1EhFc0",
        "j8pvFFFWhIaI",
        "ePqxqfkclhHG"
      ]
    },
    "gpuClass": "premium",
    "kernelspec": {
      "display_name": "Python 3",
      "name": "python3"
    },
    "language_info": {
      "name": "python"
    }
  },
  "nbformat": 4,
  "nbformat_minor": 0
}