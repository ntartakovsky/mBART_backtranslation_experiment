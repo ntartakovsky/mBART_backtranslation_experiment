{
 "cells": [
  {
   "cell_type": "code",
   "execution_count": 95,
   "id": "463e5ed6",
   "metadata": {},
   "outputs": [],
   "source": [
    "import os\n",
    "import openai\n",
    "import numpy as np\n",
    "import time\n",
    "#os.environ[\"OPENAI_API_KEY\"]\n",
    "openai.api_key = \"\""
   ]
  },
  {
   "cell_type": "code",
   "execution_count": 81,
   "id": "80dd6e38",
   "metadata": {},
   "outputs": [],
   "source": [
    "import pandas as pd\n",
    "\n",
    "df = pd.read_csv('df_100k.csv')\n",
    "df['chatgpt_english'] = np.nan\n",
    "df.head()\n",
    "\n",
    "swahili_sentences = df['swahili'].values"
   ]
  },
  {
   "cell_type": "code",
   "execution_count": 50,
   "id": "cb98c679",
   "metadata": {},
   "outputs": [
    {
     "data": {
      "text/html": [
       "<div>\n",
       "<style scoped>\n",
       "    .dataframe tbody tr th:only-of-type {\n",
       "        vertical-align: middle;\n",
       "    }\n",
       "\n",
       "    .dataframe tbody tr th {\n",
       "        vertical-align: top;\n",
       "    }\n",
       "\n",
       "    .dataframe thead th {\n",
       "        text-align: right;\n",
       "    }\n",
       "</style>\n",
       "<table border=\"1\" class=\"dataframe\">\n",
       "  <thead>\n",
       "    <tr style=\"text-align: right;\">\n",
       "      <th></th>\n",
       "      <th>Unnamed: 0</th>\n",
       "      <th>swahili</th>\n",
       "      <th>english</th>\n",
       "      <th>swahili_2</th>\n",
       "      <th>chatgpt_english</th>\n",
       "    </tr>\n",
       "  </thead>\n",
       "  <tbody>\n",
       "    <tr>\n",
       "      <th>0</th>\n",
       "      <td>0</td>\n",
       "      <td>MKUTANO WA BIASHARA Je Ungependa Kupata Mualik...</td>\n",
       "      <td>BUSINESS MEETING Would you like to receive a s...</td>\n",
       "      <td>MKUTANO WA BIASHARA Je, ungependa kupata mwali...</td>\n",
       "      <td>NaN</td>\n",
       "    </tr>\n",
       "    <tr>\n",
       "      <th>1</th>\n",
       "      <td>1</td>\n",
       "      <td>Nikupe Maelezo Zaidi Ya Namna Ya Ushiriki Wak...</td>\n",
       "      <td>Let me give you more information on how to par...</td>\n",
       "      <td>Ngoja nikupe maelezo zaidi jinsi ya kushiriki ...</td>\n",
       "      <td>NaN</td>\n",
       "    </tr>\n",
       "    <tr>\n",
       "      <th>2</th>\n",
       "      <td>2</td>\n",
       "      <td>Labels MKUTANO WA BIASHARALakini inakubaliwa h...</td>\n",
       "      <td>Labels BUSINESS MEETING However, the status of...</td>\n",
       "      <td>Labels BUSINESS MEETING Hata hivyo, hadhi ya d...</td>\n",
       "      <td>NaN</td>\n",
       "    </tr>\n",
       "    <tr>\n",
       "      <th>3</th>\n",
       "      <td>3</td>\n",
       "      <td>Kadiri ya hesabu yake hao mwaka  walikuwa mili...</td>\n",
       "      <td>According to his calculation, they were a mill...</td>\n",
       "      <td>Kulingana na hesabu yake, walikuwa milioni, la...</td>\n",
       "      <td>NaN</td>\n",
       "    </tr>\n",
       "    <tr>\n",
       "      <th>4</th>\n",
       "      <td>4</td>\n",
       "      <td>Makao makuu ya Scientology yako Marekani katik...</td>\n",
       "      <td>The headquarters of Scientology is located in ...</td>\n",
       "      <td>Makao makuu ya Scientology iko nchini Marekani...</td>\n",
       "      <td>NaN</td>\n",
       "    </tr>\n",
       "  </tbody>\n",
       "</table>\n",
       "</div>"
      ],
      "text/plain": [
       "   Unnamed: 0                                            swahili  \\\n",
       "0           0  MKUTANO WA BIASHARA Je Ungependa Kupata Mualik...   \n",
       "1           1   Nikupe Maelezo Zaidi Ya Namna Ya Ushiriki Wak...   \n",
       "2           2  Labels MKUTANO WA BIASHARALakini inakubaliwa h...   \n",
       "3           3  Kadiri ya hesabu yake hao mwaka  walikuwa mili...   \n",
       "4           4  Makao makuu ya Scientology yako Marekani katik...   \n",
       "\n",
       "                                             english  \\\n",
       "0  BUSINESS MEETING Would you like to receive a s...   \n",
       "1  Let me give you more information on how to par...   \n",
       "2  Labels BUSINESS MEETING However, the status of...   \n",
       "3  According to his calculation, they were a mill...   \n",
       "4  The headquarters of Scientology is located in ...   \n",
       "\n",
       "                                           swahili_2  chatgpt_english  \n",
       "0  MKUTANO WA BIASHARA Je, ungependa kupata mwali...              NaN  \n",
       "1  Ngoja nikupe maelezo zaidi jinsi ya kushiriki ...              NaN  \n",
       "2  Labels BUSINESS MEETING Hata hivyo, hadhi ya d...              NaN  \n",
       "3  Kulingana na hesabu yake, walikuwa milioni, la...              NaN  \n",
       "4  Makao makuu ya Scientology iko nchini Marekani...              NaN  "
      ]
     },
     "execution_count": 50,
     "metadata": {},
     "output_type": "execute_result"
    }
   ],
   "source": [
    "df.head()"
   ]
  },
  {
   "cell_type": "code",
   "execution_count": 90,
   "id": "eccf38f0",
   "metadata": {},
   "outputs": [
    {
     "name": "stdout",
     "output_type": "stream",
     "text": [
      "{\n",
      "  \"content\": \"MKUTANO WA BIASHARA: Would you like to receive a special invitation to attend these great entrepreneurship training sessions for free that will bring together big and small business owners and entrepreneurs? $ Let me give you more details on how you can participate in this event. $Labels: BUSINESS CONFERENCE\\n\\nHowever, the status of Scientology is recognized in countries such as the United States, Australia, and a few others because it has been associated with various criminal offenses, especially espionage, fraud, and affecting the mental state of its followers. \\n\\nAccording to its count, they had millions of followers in that year, but outsiders estimate that it is only half a million.\",\n",
      "  \"role\": \"assistant\"\n",
      "}\n"
     ]
    }
   ],
   "source": [
    "swahili = \"MKUTANO WA BIASHARA Je Ungependa Kupata Mualiko Maalum Kuhudhuria Kwenye Mafunzo Makubwa Ya Ujasiriamali Kama Haya Bureee Yatakayo Kukutanisha Na Wafanyabiashara Na Wamiliki Wa Biashara Kubwa Na Wadogo\"\n",
    "\n",
    "test2 = \"$\".join(df['swahili'].values[:4])\n",
    "completion = openai.ChatCompletion.create(\n",
    "  model=\"gpt-3.5-turbo\",\n",
    "  messages=[\n",
    "    {\"role\": \"user\", \"content\": f\"Translate swahili sentences between $ into English,separate by $: {test2}\"}\n",
    "  ],\n",
    "    temperature=0.2,\n",
    ")\n",
    "\n",
    "print(completion.choices[0].message)"
   ]
  },
  {
   "cell_type": "code",
   "execution_count": 66,
   "id": "8661c373",
   "metadata": {},
   "outputs": [
    {
     "data": {
      "text/plain": [
       "'MKUTANO WA BIASHARA Je Ungependa Kupata Mualiko Maalum Kuhudhuria Kwenye Mafunzo Makubwa Ya Ujasiriamali Kama Haya Bureee Yatakayo Kukutanisha Na Wafanyabiashara Na Wamiliki Wa Biashara Kubwa Na Wadogo$ Nikupe Maelezo Zaidi Ya Namna Ya Ushiriki Wako Wa Event Hii$Labels MKUTANO WA BIASHARALakini inakubaliwa hadhi ya dini katika nchi ya Marekani Australia na nyingine chache kwa sababu toka mwanzo imehusishwa na makosa mbalimbali ya jinai hususan ujasusi utapeli na kuathiri hali ya nafsi ya wafuasi wake$Kadiri ya hesabu yake hao mwaka  walikuwa milioni  lakini watu wa nje wanakadiria kuwa ni nusu milioni tu'"
      ]
     },
     "execution_count": 66,
     "metadata": {},
     "output_type": "execute_result"
    }
   ],
   "source": [
    "test2"
   ]
  },
  {
   "cell_type": "code",
   "execution_count": 65,
   "id": "bc547f4b",
   "metadata": {},
   "outputs": [
    {
     "data": {
      "text/plain": [
       "['MKUTANO WA BIASHARA: Would you like to receive a special invitation to attend big entrepreneurship training like this one for free that will connect you with big and small business owners? ',\n",
       " ' Let me give you more details on how you can participate in this event. ',\n",
       " 'Labels: MKUTANO WA BIASHARA\\n\\nHowever, the status of religion is accepted in countries such as the United States, Australia, and a few others because it has been associated with various criminal offenses from the beginning, especially espionage, fraud, and affecting the mental state of its followers. ',\n",
       " '\\n\\nAccording to its count, they were millions in the year, but outsiders estimate that it is only half a million.']"
      ]
     },
     "execution_count": 65,
     "metadata": {},
     "output_type": "execute_result"
    }
   ],
   "source": [
    "completion.choices[0].message.content.split('$')"
   ]
  },
  {
   "cell_type": "code",
   "execution_count": 84,
   "id": "3ca8f9c3",
   "metadata": {},
   "outputs": [
    {
     "data": {
      "text/html": [
       "<div>\n",
       "<style scoped>\n",
       "    .dataframe tbody tr th:only-of-type {\n",
       "        vertical-align: middle;\n",
       "    }\n",
       "\n",
       "    .dataframe tbody tr th {\n",
       "        vertical-align: top;\n",
       "    }\n",
       "\n",
       "    .dataframe thead th {\n",
       "        text-align: right;\n",
       "    }\n",
       "</style>\n",
       "<table border=\"1\" class=\"dataframe\">\n",
       "  <thead>\n",
       "    <tr style=\"text-align: right;\">\n",
       "      <th></th>\n",
       "      <th>Unnamed: 0</th>\n",
       "      <th>swahili</th>\n",
       "      <th>english</th>\n",
       "      <th>swahili_2</th>\n",
       "      <th>chatgpt_english</th>\n",
       "    </tr>\n",
       "  </thead>\n",
       "  <tbody>\n",
       "    <tr>\n",
       "      <th>0</th>\n",
       "      <td>0</td>\n",
       "      <td>MKUTANO WA BIASHARA Je Ungependa Kupata Mualik...</td>\n",
       "      <td>BUSINESS MEETING Would you like to receive a s...</td>\n",
       "      <td>MKUTANO WA BIASHARA Je, ungependa kupata mwali...</td>\n",
       "      <td>hi</td>\n",
       "    </tr>\n",
       "    <tr>\n",
       "      <th>1</th>\n",
       "      <td>1</td>\n",
       "      <td>Nikupe Maelezo Zaidi Ya Namna Ya Ushiriki Wak...</td>\n",
       "      <td>Let me give you more information on how to par...</td>\n",
       "      <td>Ngoja nikupe maelezo zaidi jinsi ya kushiriki ...</td>\n",
       "      <td>hi</td>\n",
       "    </tr>\n",
       "    <tr>\n",
       "      <th>2</th>\n",
       "      <td>2</td>\n",
       "      <td>Labels MKUTANO WA BIASHARALakini inakubaliwa h...</td>\n",
       "      <td>Labels BUSINESS MEETING However, the status of...</td>\n",
       "      <td>Labels BUSINESS MEETING Hata hivyo, hadhi ya d...</td>\n",
       "      <td>NaN</td>\n",
       "    </tr>\n",
       "    <tr>\n",
       "      <th>3</th>\n",
       "      <td>3</td>\n",
       "      <td>Kadiri ya hesabu yake hao mwaka  walikuwa mili...</td>\n",
       "      <td>According to his calculation, they were a mill...</td>\n",
       "      <td>Kulingana na hesabu yake, walikuwa milioni, la...</td>\n",
       "      <td>NaN</td>\n",
       "    </tr>\n",
       "    <tr>\n",
       "      <th>4</th>\n",
       "      <td>4</td>\n",
       "      <td>Makao makuu ya Scientology yako Marekani katik...</td>\n",
       "      <td>The headquarters of Scientology is located in ...</td>\n",
       "      <td>Makao makuu ya Scientology iko nchini Marekani...</td>\n",
       "      <td>NaN</td>\n",
       "    </tr>\n",
       "  </tbody>\n",
       "</table>\n",
       "</div>"
      ],
      "text/plain": [
       "   Unnamed: 0                                            swahili  \\\n",
       "0           0  MKUTANO WA BIASHARA Je Ungependa Kupata Mualik...   \n",
       "1           1   Nikupe Maelezo Zaidi Ya Namna Ya Ushiriki Wak...   \n",
       "2           2  Labels MKUTANO WA BIASHARALakini inakubaliwa h...   \n",
       "3           3  Kadiri ya hesabu yake hao mwaka  walikuwa mili...   \n",
       "4           4  Makao makuu ya Scientology yako Marekani katik...   \n",
       "\n",
       "                                             english  \\\n",
       "0  BUSINESS MEETING Would you like to receive a s...   \n",
       "1  Let me give you more information on how to par...   \n",
       "2  Labels BUSINESS MEETING However, the status of...   \n",
       "3  According to his calculation, they were a mill...   \n",
       "4  The headquarters of Scientology is located in ...   \n",
       "\n",
       "                                           swahili_2 chatgpt_english  \n",
       "0  MKUTANO WA BIASHARA Je, ungependa kupata mwali...              hi  \n",
       "1  Ngoja nikupe maelezo zaidi jinsi ya kushiriki ...              hi  \n",
       "2  Labels BUSINESS MEETING Hata hivyo, hadhi ya d...             NaN  \n",
       "3  Kulingana na hesabu yake, walikuwa milioni, la...             NaN  \n",
       "4  Makao makuu ya Scientology iko nchini Marekani...             NaN  "
      ]
     },
     "execution_count": 84,
     "metadata": {},
     "output_type": "execute_result"
    }
   ],
   "source": [
    "df['chatgpt_english'].iloc[0:2] = ['hi', 'hi']\n",
    "df.head()"
   ]
  },
  {
   "cell_type": "code",
   "execution_count": 165,
   "id": "3e579abc",
   "metadata": {},
   "outputs": [],
   "source": [
    "swahili_sentences = df['swahili'].values[:50000]"
   ]
  },
  {
   "cell_type": "code",
   "execution_count": 166,
   "id": "18ede546",
   "metadata": {
    "scrolled": true
   },
   "outputs": [
    {
     "name": "stdout",
     "output_type": "stream",
     "text": [
      "sentence 49992 took 1.1757638454437256 seconds\n",
      "sentence 49993 took 0.9731850624084473 seconds\n",
      "sentence 49994 took 1.154029130935669 seconds\n",
      "sentence 49995 took 3.3514888286590576 seconds\n",
      "sentence 49996 took 1.6330409049987793 seconds\n",
      "sentence 49997 took 3.6423890590667725 seconds\n",
      "sentence 49998 took 1.7254538536071777 seconds\n",
      "sentence 49999 took 1.6808381080627441 seconds\n",
      "CPU times: user 99.4 ms, sys: 19.7 ms, total: 119 ms\n",
      "Wall time: 15.3 s\n"
     ]
    }
   ],
   "source": [
    "%%time\n",
    "# Split the sentences into batches of 100 for faster processing\n",
    "# sentence_batches = [swahili_sentences[i:i+1] for i in range(0, len(swahili_sentences), 1)]\n",
    "\n",
    "all_sentences = []\n",
    "# Translate each batch using the OpenAI API\n",
    "for i in range(49992, len(swahili_sentences)):\n",
    "    # Concatenate the sentences into a single string\n",
    "    input_text = swahili_sentences[i]\n",
    "#     print(input_text)\n",
    "    start_time = time.time()\n",
    "    # Call the OpenAI API to translate the input text\n",
    "    try:\n",
    "        completion = openai.ChatCompletion.create(\n",
    "            model=\"gpt-3.5-turbo\",\n",
    "            max_tokens=300,\n",
    "            temperature=0.2,\n",
    "            messages=[\n",
    "                {\"role\": \"user\", \n",
    "                 \"content\": f\"\"\"Translate swahili sentence into English,only translation and no other words: {input_text}\"\"\"}\n",
    "              ]\n",
    "        )\n",
    "    except:\n",
    "        time.sleep(3)\n",
    "        completion = openai.ChatCompletion.create(\n",
    "        model=\"gpt-3.5-turbo\",\n",
    "        max_tokens=300,\n",
    "        temperature=0.2,\n",
    "        messages=[\n",
    "            {\"role\": \"user\", \n",
    "             \"content\": f\"\"\"Translate swahili sentence into English,only translation and no other words: {input_text}\"\"\"}\n",
    "          ]\n",
    "        )\n",
    "\n",
    "    # Extract the translated sentences from the response\n",
    "    english_sentences = completion.choices[0].message.content.strip()\n",
    "    all_sentences += english_sentences\n",
    "#     print(completion.choices[0].message.content)\n",
    "#     print(english_sentences)\n",
    "    try:\n",
    "        df['chatgpt_english'].iloc[i] = english_sentences\n",
    "    except:\n",
    "        print('error')\n",
    "        continue\n",
    "    end_time = time.time()\n",
    "    total_time = end_time - start_time\n",
    "    print(f'sentence {i} took {total_time} seconds')"
   ]
  },
  {
   "cell_type": "code",
   "execution_count": 167,
   "id": "a2c853e6",
   "metadata": {},
   "outputs": [
    {
     "data": {
      "text/plain": [
       "49999"
      ]
     },
     "execution_count": 167,
     "metadata": {},
     "output_type": "execute_result"
    }
   ],
   "source": [
    "df['chatgpt_english'].last_valid_index()"
   ]
  },
  {
   "cell_type": "code",
   "execution_count": 168,
   "id": "8fd3235e",
   "metadata": {},
   "outputs": [],
   "source": [
    "df.to_csv('chatgpt.csv')"
   ]
  },
  {
   "cell_type": "code",
   "execution_count": 108,
   "id": "366040fd",
   "metadata": {},
   "outputs": [],
   "source": [
    "# post processing\n",
    "\n",
    "# remove all \\n\n",
    "# redo translations that had error"
   ]
  },
  {
   "cell_type": "code",
   "execution_count": 163,
   "id": "e817f3e1",
   "metadata": {},
   "outputs": [
    {
     "data": {
      "text/plain": [
       "49991    \"But I remember the first one was saying that ...\n",
       "49992                                                  NaN\n",
       "49993                                                  NaN\n",
       "49994                                                  NaN\n",
       "49995                                                  NaN\n",
       "49996                                                  NaN\n",
       "49997                                                  NaN\n",
       "49998                                                  NaN\n",
       "49999                                                  NaN\n",
       "Name: chatgpt_english, dtype: object"
      ]
     },
     "execution_count": 163,
     "metadata": {},
     "output_type": "execute_result"
    }
   ],
   "source": [
    "s = df['chatgpt_english']\n",
    "s.iloc[49991:50000]"
   ]
  },
  {
   "cell_type": "code",
   "execution_count": null,
   "id": "cebc180e",
   "metadata": {},
   "outputs": [],
   "source": [
    "# Translate swahili sentences into English.\n",
    "#              Return 4 sentences separated by ONLY 3 ##, with only translations and no other words. \n",
    "#              Treat one sentence as whole until you hit ##. "
   ]
  },
  {
   "cell_type": "code",
   "execution_count": 180,
   "id": "fa734764",
   "metadata": {},
   "outputs": [],
   "source": [
    "english_chatgpt_sentences = df['chatgpt_english'].values[:50000]\n",
    "english_chatgpt_sentences = [x.lstrip('\"').rstrip('\"') for x in english_chatgpt_sentences]"
   ]
  },
  {
   "cell_type": "code",
   "execution_count": 184,
   "id": "13c15bb7",
   "metadata": {},
   "outputs": [],
   "source": [
    "df['chatgpt_swahili'] = np.nan"
   ]
  },
  {
   "cell_type": "code",
   "execution_count": 181,
   "id": "c14ded2a",
   "metadata": {},
   "outputs": [
    {
     "data": {
      "text/plain": [
       "50000"
      ]
     },
     "execution_count": 181,
     "metadata": {},
     "output_type": "execute_result"
    }
   ],
   "source": [
    "len(english_chatgpt_sentences)"
   ]
  },
  {
   "cell_type": "code",
   "execution_count": 202,
   "id": "9d16ca91",
   "metadata": {},
   "outputs": [
    {
     "name": "stdout",
     "output_type": "stream",
     "text": [
      "sentence 29992 took 1.5094478130340576 seconds\n",
      "sentence 29993 took 1.9140229225158691 seconds\n",
      "sentence 29994 took 2.4424428939819336 seconds\n",
      "sentence 29995 took 1.565950870513916 seconds\n",
      "sentence 29996 took 2.3117570877075195 seconds\n",
      "sentence 29997 took 2.033017873764038 seconds\n",
      "sentence 29998 took 1.7357230186462402 seconds\n",
      "sentence 29999 took 4.827600002288818 seconds\n",
      "CPU times: user 124 ms, sys: 29.2 ms, total: 154 ms\n",
      "Wall time: 18.3 s\n"
     ]
    }
   ],
   "source": [
    "\n",
    "\n",
    "%%time\n",
    "# Split the sentences into batches of 100 for faster processing\n",
    "# sentence_batches = [swahili_sentences[i:i+1] for i in range(0, len(swahili_sentences), 1)]\n",
    "\n",
    "all_english_sentences = []\n",
    "# Translate each batch using the OpenAI API\n",
    "for i in range(29992, 30000):\n",
    "    # Concatenate the sentences into a single string\n",
    "    input_text = english_chatgpt_sentences[i]\n",
    "#     print(input_text)\n",
    "    start_time = time.time()\n",
    "    # Call the OpenAI API to translate the input text\n",
    "    try:\n",
    "        completion = openai.ChatCompletion.create(\n",
    "            model=\"gpt-3.5-turbo\",\n",
    "            max_tokens=300,\n",
    "            temperature=0.2,\n",
    "            messages=[\n",
    "                {\"role\": \"user\", \n",
    "                 \"content\": f\"\"\"Translate English sentence into Swahili,only translation and no other words: {input_text}\"\"\"}\n",
    "              ]\n",
    "        )\n",
    "    except:\n",
    "        time.sleep(3)\n",
    "        completion = openai.ChatCompletion.create(\n",
    "        model=\"gpt-3.5-turbo\",\n",
    "        max_tokens=300,\n",
    "        temperature=0.2,\n",
    "        messages=[\n",
    "            {\"role\": \"user\", \n",
    "             \"content\": f\"\"\"Translate English sentence into Swahili,only translation and no other words: {input_text}\"\"\"}\n",
    "          ]\n",
    "        )\n",
    "\n",
    "    # Extract the translated sentences from the response\n",
    "    swahili_sentences = completion.choices[0].message.content.strip()\n",
    "    all_english_sentences += swahili_sentences\n",
    "    try:\n",
    "        df['chatgpt_swahili'].iloc[i] = swahili_sentences\n",
    "    except:\n",
    "        print('error')\n",
    "        continue\n",
    "    end_time = time.time()\n",
    "    total_time = end_time - start_time\n",
    "    print(f'sentence {i} took {total_time} seconds')"
   ]
  },
  {
   "cell_type": "raw",
   "id": "71147149",
   "metadata": {},
   "source": [
    "df['chatgpt_swahili'].last_valid_index()"
   ]
  },
  {
   "cell_type": "code",
   "execution_count": 193,
   "id": "6ea43b3f",
   "metadata": {},
   "outputs": [
    {
     "data": {
      "text/html": [
       "<div>\n",
       "<style scoped>\n",
       "    .dataframe tbody tr th:only-of-type {\n",
       "        vertical-align: middle;\n",
       "    }\n",
       "\n",
       "    .dataframe tbody tr th {\n",
       "        vertical-align: top;\n",
       "    }\n",
       "\n",
       "    .dataframe thead th {\n",
       "        text-align: right;\n",
       "    }\n",
       "</style>\n",
       "<table border=\"1\" class=\"dataframe\">\n",
       "  <thead>\n",
       "    <tr style=\"text-align: right;\">\n",
       "      <th></th>\n",
       "      <th>Unnamed: 0</th>\n",
       "      <th>swahili</th>\n",
       "      <th>english</th>\n",
       "      <th>swahili_2</th>\n",
       "      <th>chatgpt_english</th>\n",
       "      <th>chatgpt_swahili</th>\n",
       "    </tr>\n",
       "  </thead>\n",
       "  <tbody>\n",
       "    <tr>\n",
       "      <th>0</th>\n",
       "      <td>0</td>\n",
       "      <td>MKUTANO WA BIASHARA Je Ungependa Kupata Mualik...</td>\n",
       "      <td>BUSINESS MEETING Would you like to receive a s...</td>\n",
       "      <td>MKUTANO WA BIASHARA Je, ungependa kupata mwali...</td>\n",
       "      <td>From his early years, he was expelled from var...</td>\n",
       "      <td>Tangu utotoni mwake, alifukuzwa katika nchi mb...</td>\n",
       "    </tr>\n",
       "    <tr>\n",
       "      <th>1</th>\n",
       "      <td>1</td>\n",
       "      <td>Nikupe Maelezo Zaidi Ya Namna Ya Ushiriki Wak...</td>\n",
       "      <td>Let me give you more information on how to par...</td>\n",
       "      <td>Ngoja nikupe maelezo zaidi jinsi ya kushiriki ...</td>\n",
       "      <td>Scientology has been called the most expensive...</td>\n",
       "      <td>Scientology imeitwa dini ghali zaidi duniani.</td>\n",
       "    </tr>\n",
       "    <tr>\n",
       "      <th>2</th>\n",
       "      <td>2</td>\n",
       "      <td>Labels MKUTANO WA BIASHARALakini inakubaliwa h...</td>\n",
       "      <td>Labels BUSINESS MEETING However, the status of...</td>\n",
       "      <td>Labels BUSINESS MEETING Hata hivyo, hadhi ya d...</td>\n",
       "      <td>Every service is provided at a predetermined p...</td>\n",
       "      <td>Kila huduma inatolewa kwa bei iliyopangwa na u...</td>\n",
       "    </tr>\n",
       "    <tr>\n",
       "      <th>3</th>\n",
       "      <td>3</td>\n",
       "      <td>Kadiri ya hesabu yake hao mwaka  walikuwa mili...</td>\n",
       "      <td>According to his calculation, they were a mill...</td>\n",
       "      <td>Kulingana na hesabu yake, walikuwa milioni, la...</td>\n",
       "      <td>There is something you know more about, TODAY'...</td>\n",
       "      <td>Kuna kitu ambacho unajua zaidi, MAGAZETI YA LE...</td>\n",
       "    </tr>\n",
       "    <tr>\n",
       "      <th>4</th>\n",
       "      <td>4</td>\n",
       "      <td>Makao makuu ya Scientology yako Marekani katik...</td>\n",
       "      <td>The headquarters of Scientology is located in ...</td>\n",
       "      <td>Makao makuu ya Scientology iko nchini Marekani...</td>\n",
       "      <td>\"You have said that you have received a respon...</td>\n",
       "      <td>Umeeleza kwamba umepokea jibu la barua yao kut...</td>\n",
       "    </tr>\n",
       "    <tr>\n",
       "      <th>...</th>\n",
       "      <td>...</td>\n",
       "      <td>...</td>\n",
       "      <td>...</td>\n",
       "      <td>...</td>\n",
       "      <td>...</td>\n",
       "      <td>...</td>\n",
       "    </tr>\n",
       "    <tr>\n",
       "      <th>99995</th>\n",
       "      <td>100010</td>\n",
       "      <td>KUTEKELEZA MIRADI YA MAJI ILEJEMAJALIWA  HABA...</td>\n",
       "      <td>IMPLEMENTATION OF WATER PROJECTS IS PROVIDED C...</td>\n",
       "      <td>UTEKELEZAJI WA MIRADI YA MAJI YATOLEWA HABARI ...</td>\n",
       "      <td>NaN</td>\n",
       "      <td>NaN</td>\n",
       "    </tr>\n",
       "    <tr>\n",
       "      <th>99996</th>\n",
       "      <td>100011</td>\n",
       "      <td>bilioni moja zimetengwa kwa ajili ya ujenzi wa...</td>\n",
       "      <td>One billion have been allocated for the constr...</td>\n",
       "      <td>Bilioni moja zimetengwa kwa ajili ya ujenzi wa...</td>\n",
       "      <td>NaN</td>\n",
       "      <td>NaN</td>\n",
       "    </tr>\n",
       "    <tr>\n",
       "      <th>99997</th>\n",
       "      <td>100012</td>\n",
       "      <td>milioni  kimetengwa kwa ajili ya maji katika v...</td>\n",
       "      <td>million has been allocated for water in variou...</td>\n",
       "      <td>milioni zimetengwa kwa ajili ya maji katika vi...</td>\n",
       "      <td>NaN</td>\n",
       "      <td>NaN</td>\n",
       "    </tr>\n",
       "    <tr>\n",
       "      <th>99998</th>\n",
       "      <td>100013</td>\n",
       "      <td>Hata hivyo amesema Serikali inaendelea na utek...</td>\n",
       "      <td>However, he said the Government is continuing ...</td>\n",
       "      <td>Hata hivyo, alisema Serikali inaendelea na ute...</td>\n",
       "      <td>NaN</td>\n",
       "      <td>NaN</td>\n",
       "    </tr>\n",
       "    <tr>\n",
       "      <th>99999</th>\n",
       "      <td>100014</td>\n",
       "      <td>Magufuli ya kumtua mama ndoo kichwani kwa kuso...</td>\n",
       "      <td>Magufuli to land a bucket on the mother's head...</td>\n",
       "      <td>Magufuli kumtua mama ndoo kichwani kwa kusogez...</td>\n",
       "      <td>NaN</td>\n",
       "      <td>NaN</td>\n",
       "    </tr>\n",
       "  </tbody>\n",
       "</table>\n",
       "<p>100000 rows × 6 columns</p>\n",
       "</div>"
      ],
      "text/plain": [
       "       Unnamed: 0                                            swahili  \\\n",
       "0               0  MKUTANO WA BIASHARA Je Ungependa Kupata Mualik...   \n",
       "1               1   Nikupe Maelezo Zaidi Ya Namna Ya Ushiriki Wak...   \n",
       "2               2  Labels MKUTANO WA BIASHARALakini inakubaliwa h...   \n",
       "3               3  Kadiri ya hesabu yake hao mwaka  walikuwa mili...   \n",
       "4               4  Makao makuu ya Scientology yako Marekani katik...   \n",
       "...           ...                                                ...   \n",
       "99995      100010   KUTEKELEZA MIRADI YA MAJI ILEJEMAJALIWA  HABA...   \n",
       "99996      100011  bilioni moja zimetengwa kwa ajili ya ujenzi wa...   \n",
       "99997      100012  milioni  kimetengwa kwa ajili ya maji katika v...   \n",
       "99998      100013  Hata hivyo amesema Serikali inaendelea na utek...   \n",
       "99999      100014  Magufuli ya kumtua mama ndoo kichwani kwa kuso...   \n",
       "\n",
       "                                                 english  \\\n",
       "0      BUSINESS MEETING Would you like to receive a s...   \n",
       "1      Let me give you more information on how to par...   \n",
       "2      Labels BUSINESS MEETING However, the status of...   \n",
       "3      According to his calculation, they were a mill...   \n",
       "4      The headquarters of Scientology is located in ...   \n",
       "...                                                  ...   \n",
       "99995  IMPLEMENTATION OF WATER PROJECTS IS PROVIDED C...   \n",
       "99996  One billion have been allocated for the constr...   \n",
       "99997  million has been allocated for water in variou...   \n",
       "99998  However, he said the Government is continuing ...   \n",
       "99999  Magufuli to land a bucket on the mother's head...   \n",
       "\n",
       "                                               swahili_2  \\\n",
       "0      MKUTANO WA BIASHARA Je, ungependa kupata mwali...   \n",
       "1      Ngoja nikupe maelezo zaidi jinsi ya kushiriki ...   \n",
       "2      Labels BUSINESS MEETING Hata hivyo, hadhi ya d...   \n",
       "3      Kulingana na hesabu yake, walikuwa milioni, la...   \n",
       "4      Makao makuu ya Scientology iko nchini Marekani...   \n",
       "...                                                  ...   \n",
       "99995  UTEKELEZAJI WA MIRADI YA MAJI YATOLEWA HABARI ...   \n",
       "99996  Bilioni moja zimetengwa kwa ajili ya ujenzi wa...   \n",
       "99997  milioni zimetengwa kwa ajili ya maji katika vi...   \n",
       "99998  Hata hivyo, alisema Serikali inaendelea na ute...   \n",
       "99999  Magufuli kumtua mama ndoo kichwani kwa kusogez...   \n",
       "\n",
       "                                         chatgpt_english  \\\n",
       "0      From his early years, he was expelled from var...   \n",
       "1      Scientology has been called the most expensive...   \n",
       "2      Every service is provided at a predetermined p...   \n",
       "3      There is something you know more about, TODAY'...   \n",
       "4      \"You have said that you have received a respon...   \n",
       "...                                                  ...   \n",
       "99995                                                NaN   \n",
       "99996                                                NaN   \n",
       "99997                                                NaN   \n",
       "99998                                                NaN   \n",
       "99999                                                NaN   \n",
       "\n",
       "                                         chatgpt_swahili  \n",
       "0      Tangu utotoni mwake, alifukuzwa katika nchi mb...  \n",
       "1          Scientology imeitwa dini ghali zaidi duniani.  \n",
       "2      Kila huduma inatolewa kwa bei iliyopangwa na u...  \n",
       "3      Kuna kitu ambacho unajua zaidi, MAGAZETI YA LE...  \n",
       "4      Umeeleza kwamba umepokea jibu la barua yao kut...  \n",
       "...                                                  ...  \n",
       "99995                                                NaN  \n",
       "99996                                                NaN  \n",
       "99997                                                NaN  \n",
       "99998                                                NaN  \n",
       "99999                                                NaN  \n",
       "\n",
       "[100000 rows x 6 columns]"
      ]
     },
     "execution_count": 193,
     "metadata": {},
     "output_type": "execute_result"
    }
   ],
   "source": [
    "df"
   ]
  },
  {
   "cell_type": "code",
   "execution_count": 203,
   "id": "bfbd696f",
   "metadata": {},
   "outputs": [],
   "source": [
    "df.to_csv('chatgpt_swahili_first_half.csv')\n"
   ]
  },
  {
   "cell_type": "code",
   "execution_count": null,
   "id": "4a373f20",
   "metadata": {},
   "outputs": [],
   "source": []
  }
 ],
 "metadata": {
  "kernelspec": {
   "display_name": "Python 3",
   "language": "python",
   "name": "python3"
  },
  "language_info": {
   "codemirror_mode": {
    "name": "ipython",
    "version": 3
   },
   "file_extension": ".py",
   "mimetype": "text/x-python",
   "name": "python",
   "nbconvert_exporter": "python",
   "pygments_lexer": "ipython3",
   "version": "3.8.8"
  }
 },
 "nbformat": 4,
 "nbformat_minor": 5
}
