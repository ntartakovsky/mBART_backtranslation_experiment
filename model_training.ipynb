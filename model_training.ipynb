{
  "cells": [
    {
      "cell_type": "markdown",
      "source": [
        "# Model Training\n",
        "\n",
        "Sections:\n",
        "- Google Translate Models\n",
        "- M2M-100 Models\n",
        "- ChatGPT Models\n",
        "- ChatGPT Reworded Models\n",
        "- mBART Models"
      ],
      "metadata": {
        "id": "G1kVEOutUAJ6"
      },
      "id": "G1kVEOutUAJ6"
    },
    {
      "cell_type": "code",
      "execution_count": 1,
      "metadata": {
        "id": "e46626f4-0974-41e0-8707-89498788d1e5",
        "colab": {
          "base_uri": "https://localhost:8080/"
        },
        "outputId": "ca712f71-912b-496e-8173-7f240863d0e8"
      },
      "outputs": [
        {
          "output_type": "stream",
          "name": "stdout",
          "text": [
            "\u001b[2K     \u001b[90m━━━━━━━━━━━━━━━━━━━━━━━━━━━━━━━━━━━━━━━━\u001b[0m \u001b[32m6.8/6.8 MB\u001b[0m \u001b[31m92.5 MB/s\u001b[0m eta \u001b[36m0:00:00\u001b[0m\n",
            "\u001b[2K     \u001b[90m━━━━━━━━━━━━━━━━━━━━━━━━━━━━━━━━━━━━━━\u001b[0m \u001b[32m200.1/200.1 kB\u001b[0m \u001b[31m26.6 MB/s\u001b[0m eta \u001b[36m0:00:00\u001b[0m\n",
            "\u001b[2K     \u001b[90m━━━━━━━━━━━━━━━━━━━━━━━━━━━━━━━━━━━━━━━━\u001b[0m \u001b[32m7.8/7.8 MB\u001b[0m \u001b[31m106.8 MB/s\u001b[0m eta \u001b[36m0:00:00\u001b[0m\n",
            "\u001b[2K     \u001b[90m━━━━━━━━━━━━━━━━━━━━━━━━━━━━━━━━━━━━━━\u001b[0m \u001b[32m468.7/468.7 kB\u001b[0m \u001b[31m28.0 MB/s\u001b[0m eta \u001b[36m0:00:00\u001b[0m\n",
            "\u001b[2K     \u001b[90m━━━━━━━━━━━━━━━━━━━━━━━━━━━━━━━━━━━━━━\u001b[0m \u001b[32m132.9/132.9 kB\u001b[0m \u001b[31m21.4 MB/s\u001b[0m eta \u001b[36m0:00:00\u001b[0m\n",
            "\u001b[2K     \u001b[90m━━━━━━━━━━━━━━━━━━━━━━━━━━━━━━━━━━━━━━━━\u001b[0m \u001b[32m1.0/1.0 MB\u001b[0m \u001b[31m72.1 MB/s\u001b[0m eta \u001b[36m0:00:00\u001b[0m\n",
            "\u001b[2K     \u001b[90m━━━━━━━━━━━━━━━━━━━━━━━━━━━━━━━━━━━━━━\u001b[0m \u001b[32m212.2/212.2 kB\u001b[0m \u001b[31m30.6 MB/s\u001b[0m eta \u001b[36m0:00:00\u001b[0m\n",
            "\u001b[2K     \u001b[90m━━━━━━━━━━━━━━━━━━━━━━━━━━━━━━━━━━━━━━\u001b[0m \u001b[32m110.5/110.5 kB\u001b[0m \u001b[31m11.8 MB/s\u001b[0m eta \u001b[36m0:00:00\u001b[0m\n",
            "\u001b[2K     \u001b[90m━━━━━━━━━━━━━━━━━━━━━━━━━━━━━━━━━━━━━━━\u001b[0m \u001b[32m264.6/264.6 kB\u001b[0m \u001b[31m2.5 MB/s\u001b[0m eta \u001b[36m0:00:00\u001b[0m\n",
            "\u001b[2K     \u001b[90m━━━━━━━━━━━━━━━━━━━━━━━━━━━━━━━━━━━━━━\u001b[0m \u001b[32m158.8/158.8 kB\u001b[0m \u001b[31m24.9 MB/s\u001b[0m eta \u001b[36m0:00:00\u001b[0m\n",
            "\u001b[2K     \u001b[90m━━━━━━━━━━━━━━━━━━━━━━━━━━━━━━━━━━━━━━\u001b[0m \u001b[32m114.2/114.2 kB\u001b[0m \u001b[31m16.6 MB/s\u001b[0m eta \u001b[36m0:00:00\u001b[0m\n",
            "\u001b[2K     \u001b[90m━━━━━━━━━━━━━━━━━━━━━━━━━━━━━━━━━━━━━━━━\u001b[0m \u001b[32m1.3/1.3 MB\u001b[0m \u001b[31m57.6 MB/s\u001b[0m eta \u001b[36m0:00:00\u001b[0m\n",
            "\u001b[?25h"
          ]
        }
      ],
      "source": [
        "!pip install transformers --quiet\n",
        "!pip install datasets --quiet\n",
        "!pip install sentencepiece --quiet\n",
        "!pip install torch --quiet"
      ],
      "id": "e46626f4-0974-41e0-8707-89498788d1e5"
    },
    {
      "cell_type": "code",
      "execution_count": 2,
      "metadata": {
        "colab": {
          "base_uri": "https://localhost:8080/"
        },
        "id": "Kn3gArHqRX6x",
        "outputId": "b07ceac1-9fd2-424d-f3e3-2e1f05b8a1b9"
      },
      "outputs": [
        {
          "output_type": "stream",
          "name": "stdout",
          "text": [
            "Mounted at /content/drive\n"
          ]
        }
      ],
      "source": [
        "from google.colab import drive\n",
        "drive.mount('/content/drive')"
      ],
      "id": "Kn3gArHqRX6x"
    },
    {
      "cell_type": "markdown",
      "source": [
        "## Testing"
      ],
      "metadata": {
        "id": "0LjnvJI2zzhi"
      },
      "id": "0LjnvJI2zzhi"
    },
    {
      "cell_type": "code",
      "execution_count": null,
      "metadata": {
        "colab": {
          "base_uri": "https://localhost:8080/"
        },
        "id": "v4yT15PuZWW3",
        "outputId": "860b719a-e24f-41bf-fbd1-574a6ed03e7c"
      },
      "outputs": [
        {
          "output_type": "stream",
          "name": "stdout",
          "text": [
            "Sun Mar 26 06:26:01 2023       \n",
            "+-----------------------------------------------------------------------------+\n",
            "| NVIDIA-SMI 525.85.12    Driver Version: 525.85.12    CUDA Version: 12.0     |\n",
            "|-------------------------------+----------------------+----------------------+\n",
            "| GPU  Name        Persistence-M| Bus-Id        Disp.A | Volatile Uncorr. ECC |\n",
            "| Fan  Temp  Perf  Pwr:Usage/Cap|         Memory-Usage | GPU-Util  Compute M. |\n",
            "|                               |                      |               MIG M. |\n",
            "|===============================+======================+======================|\n",
            "|   0  Tesla T4            Off  | 00000000:00:04.0 Off |                    0 |\n",
            "| N/A   43C    P8     9W /  70W |      0MiB / 15360MiB |      0%      Default |\n",
            "|                               |                      |                  N/A |\n",
            "+-------------------------------+----------------------+----------------------+\n",
            "                                                                               \n",
            "+-----------------------------------------------------------------------------+\n",
            "| Processes:                                                                  |\n",
            "|  GPU   GI   CI        PID   Type   Process name                  GPU Memory |\n",
            "|        ID   ID                                                   Usage      |\n",
            "|=============================================================================|\n",
            "|  No running processes found                                                 |\n",
            "+-----------------------------------------------------------------------------+\n",
            "Your runtime has 54.8 gigabytes of available RAM\n",
            "\n",
            "You are using a high-RAM runtime!\n"
          ]
        }
      ],
      "source": [
        "gpu_info = !nvidia-smi\n",
        "gpu_info = '\\n'.join(gpu_info)\n",
        "if gpu_info.find('failed') >= 0:\n",
        "  print('Not connected to a GPU')\n",
        "else:\n",
        "  print(gpu_info)\n",
        "\n",
        "\n",
        "from psutil import virtual_memory\n",
        "ram_gb = virtual_memory().total / 1e9\n",
        "print('Your runtime has {:.1f} gigabytes of available RAM\\n'.format(ram_gb))\n",
        "\n",
        "if ram_gb < 20:\n",
        "  print('Not using a high-RAM runtime')\n",
        "else:\n",
        "  print('You are using a high-RAM runtime!')"
      ],
      "id": "v4yT15PuZWW3"
    },
    {
      "cell_type": "code",
      "source": [
        "import torch\n",
        "\n",
        "device = torch.device('cuda')\n",
        "\n",
        "tensor = torch.tensor([1, 2, 3])\n",
        "\n",
        "print(\"Before moving to GPU:\", tensor)\n",
        "\n",
        "tensor = tensor.to(device)\n",
        "\n",
        "print(\"After moving to GPU:\", tensor)"
      ],
      "metadata": {
        "id": "AIyZzb83NAx_",
        "outputId": "b6601472-0b13-4674-b616-e0f0d869a73d",
        "colab": {
          "base_uri": "https://localhost:8080/"
        }
      },
      "id": "AIyZzb83NAx_",
      "execution_count": null,
      "outputs": [
        {
          "output_type": "stream",
          "name": "stdout",
          "text": [
            "Before moving to GPU: tensor([1, 2, 3])\n",
            "After moving to GPU: tensor([1, 2, 3], device='cuda:0')\n"
          ]
        }
      ]
    },
    {
      "cell_type": "code",
      "source": [
        "!pip uninstall torch\n",
        "!pip install torch torchvision -f https://download.pytorch.org/whl/cu118/torch_stable.html\n",
        "import torch\n",
        "torch.__version__"
      ],
      "metadata": {
        "id": "m0gwYghtSX4e"
      },
      "id": "m0gwYghtSX4e",
      "execution_count": null,
      "outputs": []
    },
    {
      "cell_type": "markdown",
      "metadata": {
        "id": "d2fa2ea5-8786-4290-a068-87adf228c3e6"
      },
      "source": [
        "## Imports"
      ],
      "id": "d2fa2ea5-8786-4290-a068-87adf228c3e6"
    },
    {
      "cell_type": "code",
      "execution_count": 3,
      "metadata": {
        "id": "d5a85591-1716-436c-9e38-3494d461832c"
      },
      "outputs": [],
      "source": [
        "from transformers import AutoTokenizer, AutoModelForSeq2SeqLM\n",
        "from transformers import MBartForConditionalGeneration, MBartTokenizer, MBart50TokenizerFast\n",
        "from transformers import M2M100ForConditionalGeneration, M2M100Tokenizer\n",
        "from datasets import load_dataset\n",
        "import pandas as pd\n",
        "import nltk\n",
        "import copy"
      ],
      "id": "d5a85591-1716-436c-9e38-3494d461832c"
    },
    {
      "cell_type": "code",
      "execution_count": 4,
      "metadata": {
        "id": "8a69aec6-4af8-4cf8-86b3-f72f2a75098f",
        "scrolled": true
      },
      "outputs": [],
      "source": [
        "%%capture\n",
        "# swahili to english tokenizer\n",
        "train_model = MBartForConditionalGeneration.from_pretrained(\"facebook/mbart-large-50-many-to-many-mmt\")"
      ],
      "id": "8a69aec6-4af8-4cf8-86b3-f72f2a75098f"
    },
    {
      "cell_type": "code",
      "source": [
        "%%capture\n",
        "tokenizer = MBart50TokenizerFast.from_pretrained(\"facebook/mbart-large-50-many-to-many-mmt\", src_lang=\"sw_KE\", tgt_lang=\"en_XX\")"
      ],
      "metadata": {
        "id": "wFSxWF1UWavO"
      },
      "id": "wFSxWF1UWavO",
      "execution_count": 5,
      "outputs": []
    },
    {
      "cell_type": "code",
      "source": [
        "%%capture\n",
        "sw_test_flores = load_dataset(\"facebook/flores\", 'swh_Latn')\n",
        "en_test_flores = load_dataset(\"facebook/flores\", 'eng_Latn')\n",
        "\n",
        "src_eval_texts = sw_test_flores['dev']['sentence'] + sw_test_flores['devtest']['sentence']\n",
        "tgt_eval_texts = en_test_flores['dev']['sentence'] + en_test_flores['devtest']['sentence']\n",
        "\n",
        "src_lang, tgt_lang = 'sw_KE', 'en_XX'\n",
        "\n",
        "val_src_texts, val_tgt_texts = src_eval_texts[:256], tgt_eval_texts[:256]"
      ],
      "metadata": {
        "id": "ksmk7cZpOM9E"
      },
      "id": "ksmk7cZpOM9E",
      "execution_count": 6,
      "outputs": []
    },
    {
      "cell_type": "markdown",
      "source": [
        "## Testing"
      ],
      "metadata": {
        "id": "3pefbjInKMyu"
      },
      "id": "3pefbjInKMyu"
    },
    {
      "cell_type": "code",
      "source": [
        "! nvcc --version"
      ],
      "metadata": {
        "colab": {
          "base_uri": "https://localhost:8080/"
        },
        "id": "AFNvGgWODWqW",
        "outputId": "b66fa59c-6e8c-4d50-c3f4-52d64c376945"
      },
      "id": "AFNvGgWODWqW",
      "execution_count": null,
      "outputs": [
        {
          "output_type": "stream",
          "name": "stdout",
          "text": [
            "nvcc: NVIDIA (R) Cuda compiler driver\n",
            "Copyright (c) 2005-2022 NVIDIA Corporation\n",
            "Built on Wed_Sep_21_10:33:58_PDT_2022\n",
            "Cuda compilation tools, release 11.8, V11.8.89\n",
            "Build cuda_11.8.r11.8/compiler.31833905_0\n"
          ]
        }
      ]
    },
    {
      "cell_type": "code",
      "source": [
        "torch.cuda.device_count()"
      ],
      "metadata": {
        "colab": {
          "base_uri": "https://localhost:8080/"
        },
        "id": "DThg6RKhEMfT",
        "outputId": "07ebd445-84dc-4240-adfc-ac8ee35f6ac6"
      },
      "id": "DThg6RKhEMfT",
      "execution_count": null,
      "outputs": [
        {
          "output_type": "execute_result",
          "data": {
            "text/plain": [
              "1"
            ]
          },
          "metadata": {},
          "execution_count": 91
        }
      ]
    },
    {
      "cell_type": "code",
      "source": [
        "import torch\n",
        "\n",
        "device = torch.device('cuda')\n",
        "\n",
        "tensor = torch.tensor([1, 2, 3])\n",
        "\n",
        "print(\"Before moving to GPU:\", tensor)\n",
        "\n",
        "tensor = tensor.to(device)\n",
        "\n",
        "print(\"After moving to GPU:\", tensor)\n"
      ],
      "metadata": {
        "colab": {
          "base_uri": "https://localhost:8080/"
        },
        "id": "kXk7OAUeDob3",
        "outputId": "2633b8a8-84b2-423c-e6ee-a45ce15d7482"
      },
      "id": "kXk7OAUeDob3",
      "execution_count": null,
      "outputs": [
        {
          "output_type": "stream",
          "name": "stdout",
          "text": [
            "Before moving to GPU: tensor([1, 2, 3])\n",
            "After moving to GPU: tensor([1, 2, 3], device='cuda:0')\n"
          ]
        }
      ]
    },
    {
      "cell_type": "code",
      "source": [
        "train_model = MBartForConditionalGeneration.from_pretrained(\"facebook/mbart-large-50-many-to-many-mmt\")"
      ],
      "metadata": {
        "id": "BmJJmIj6WKVn"
      },
      "id": "BmJJmIj6WKVn",
      "execution_count": null,
      "outputs": []
    },
    {
      "cell_type": "code",
      "source": [
        "device = torch.device('cpu')\n",
        "\n",
        "swahili_phrase = \"MKUTANO WA BIASHARA Je Ungependa Kupata Mualiko Maalum Kuhudhuria Kwenye Mafunzo Makubwa Ya Ujasiriamali Kama Haya Bureee Yatakayo Kukutanisha Na Wafanyabiashara Na Wamiliki Wa Biashara Kubwa Na Wadogo\"\n",
        "english_phrase = \"BUSINESS MEETING Would you like to get a special invitation to attend large entrepreneurship trainings like this one that will bring you together with businessmen and owners of large and small businesses\"\n",
        "\n",
        "inputs = tokenizer(swahili_phrase, text_target=english_phrase, return_tensors=\"pt\")\n",
        "# print(inputs)\n",
        "# print('----')\n",
        "# print(inputs.to(device))\n",
        "# inputs = {key: tensor.to(device) for key, tensor in inputs.items()}\n",
        "# print('-----')\n",
        "# print(inputs)\n",
        "# train_model = train_model.to(device)\n",
        "outputs = train_model(**inputs)\n",
        "loss = outputs.loss\n",
        "print(outputs, loss)"
      ],
      "metadata": {
        "id": "hS9gZIzV-01D"
      },
      "id": "hS9gZIzV-01D",
      "execution_count": null,
      "outputs": []
    },
    {
      "cell_type": "code",
      "source": [
        "inputs"
      ],
      "metadata": {
        "id": "FsVG_GDA_4y3"
      },
      "id": "FsVG_GDA_4y3",
      "execution_count": null,
      "outputs": []
    },
    {
      "cell_type": "code",
      "source": [
        "loss"
      ],
      "metadata": {
        "id": "BxgA5SYQ_M8g"
      },
      "id": "BxgA5SYQ_M8g",
      "execution_count": null,
      "outputs": []
    },
    {
      "cell_type": "markdown",
      "metadata": {
        "id": "f018ed6d-81ea-403e-bd8a-8f9e776d79b7"
      },
      "source": [
        "## Model Training"
      ],
      "id": "f018ed6d-81ea-403e-bd8a-8f9e776d79b7"
    },
    {
      "cell_type": "code",
      "execution_count": 7,
      "metadata": {
        "id": "Z0sxiS1-myWM"
      },
      "outputs": [],
      "source": [
        "import torch\n",
        "from torch.utils.data import Dataset, DataLoader\n",
        "from torch.optim import Adam\n",
        "\n",
        "class CustomDataset(Dataset):\n",
        "    def __init__(self, src_texts, tgt_texts, tokenizer):\n",
        "        self.src_texts = src_texts\n",
        "        self.tgt_texts = tgt_texts\n",
        "        self.tokenizer = tokenizer\n",
        "        # self.device = device\n",
        "\n",
        "    def __len__(self):\n",
        "        return len(self.src_texts)\n",
        "\n",
        "    def __getitem__(self, idx):\n",
        "        src_text = self.src_texts[idx] \n",
        "        tgt_text = self.tgt_texts[idx]\n",
        "\n",
        "        return src_text, tgt_text\n",
        "\n",
        "def train(src_texts, tgt_texts, val_src_texts, val_tgt_texts, to_train_model, tokenizer, batch_size=64, epochs=4, learning_rate=5e-4, device='cuda'):\n",
        "    model_copy = copy.deepcopy(to_train_model)\n",
        "    if torch.cuda.is_available() and device == 'cuda':\n",
        "        device = torch.device('cuda')\n",
        "        model_copy.to(device)\n",
        "        print('on gpu')\n",
        "    else:\n",
        "        print('on cpu')\n",
        "        device = torch.device('cpu')\n",
        "\n",
        "    optimizer = Adam(model_copy.parameters(), lr=learning_rate)\n",
        "\n",
        "    train_dataset = CustomDataset(src_texts, tgt_texts, tokenizer)\n",
        "    train_dataloader = DataLoader(train_dataset, batch_size=batch_size, shuffle=True)\n",
        "\n",
        "    val_dataset = CustomDataset(val_src_texts, val_tgt_texts, tokenizer)\n",
        "    val_dataloader = DataLoader(val_dataset, batch_size=batch_size, shuffle=False)\n",
        "\n",
        "    def compute_validation_loss(model, dataloader, device):\n",
        "      model.eval()\n",
        "      total_loss = 0\n",
        "      with torch.no_grad():\n",
        "          for src_text, tgt_text in dataloader:\n",
        "              model_inputs = tokenizer(src_text, text_target=tgt_text, padding=\"max_length\", max_length=32, truncation=True, return_tensors=\"pt\")\n",
        "              model_inputs = {k: v.to(device) for k, v in model_inputs.items()}\n",
        "              outputs = model(**model_inputs)\n",
        "              loss = outputs.loss\n",
        "              total_loss += loss.item()\n",
        "      return total_loss / len(dataloader) # avg loss per epoch\n",
        "\n",
        "    batch_losses = []\n",
        "    train_epoch_losses, val_epoch_losses = [], []\n",
        "    for epoch in range(epochs):\n",
        "        print(f\"Epoch {epoch+1}/{epochs}\")\n",
        "        model_copy.train()\n",
        "        total_loss = 0\n",
        "\n",
        "        for i, (src_text, tgt_text) in enumerate(train_dataloader):\n",
        "\n",
        "            model_inputs = tokenizer(src_text, text_target=tgt_text, padding=\"max_length\", max_length=32, truncation=True, return_tensors=\"pt\")\n",
        "\n",
        "            model_inputs = {k: v.to(device) for k, v in model_inputs.items()}\n",
        "\n",
        "            optimizer.zero_grad()  # reset gradients\n",
        "            print('here')\n",
        "            outputs = model_copy(**model_inputs)\n",
        "            print('after forward pass')\n",
        "            loss = outputs.loss\n",
        "            loss.backward()  # backward pass\n",
        "            print('after backward pass')\n",
        "            optimizer.step()  # update model parameters\n",
        "            print('after step update')\n",
        "            batch_losses.append(loss.item())\n",
        "            print('loss: ', loss.item())\n",
        "            total_loss += loss.item()\n",
        "            print(f\"  Batch {i+1}, Loss: {total_loss/(i+1):.4f}\")\n",
        "\n",
        "        print('length of train_dataloader: ', len(train_dataloader))\n",
        "        train_loss = total_loss/len(train_dataloader)\n",
        "        train_epoch_losses.append(train_loss)\n",
        "        print(f\"Epoch {epoch+1} Loss: {train_loss:.4f}\")\n",
        "\n",
        "        val_loss = compute_validation_loss(model_copy, val_dataloader, device)\n",
        "        val_epoch_losses.append(val_loss)\n",
        "        print(f\"Validation Loss after Epoch {epoch+1}: {val_loss:.4f}\")\n",
        "      \n",
        "    return model_copy, batch_losses, train_epoch_losses, val_epoch_losses"
      ],
      "id": "Z0sxiS1-myWM"
    },
    {
      "cell_type": "code",
      "execution_count": 8,
      "metadata": {
        "id": "d7e9d07c-5826-4bbd-bdcd-49a031f7ee99"
      },
      "outputs": [],
      "source": [
        "def preprocess_data(data):\n",
        "    if 'gpt' in data.columns[-1]:\n",
        "      data.columns = ['index', 'swahili', 'english', 'swahili_2']\n",
        "    \n",
        "    if 'reworded' in data.columns[-1]:\n",
        "      data = data[['swahili', 'reworded_english', 'reworded_swahili']]\n",
        "      data.columns = ['swahili', 'english', 'swahili_2']\n",
        "\n",
        "    to_concat = data[['english', 'swahili_2']]\n",
        "    to_concat.columns = ['english', 'swahili']\n",
        "    base = data[['english', 'swahili']]\n",
        "    \n",
        "    concated = pd.concat([base, to_concat])\n",
        "    return concated"
      ],
      "id": "d7e9d07c-5826-4bbd-bdcd-49a031f7ee99"
    },
    {
      "cell_type": "code",
      "source": [
        "def train_pipeline(data_path, \n",
        "             to_train_model, tokenizer, model_type):\n",
        "    \n",
        "    datasize = data_path.split('_')[-2]\n",
        "    print(datasize)\n",
        "    data = pd.read_csv(data_path)\n",
        "    data = preprocess_data(data)\n",
        "    print('data loaded')\n",
        "    \n",
        "    src_texts = data['swahili'].values\n",
        "    tgt_texts = data['english'].values\n",
        "    \n",
        "    trained_model, batch_losses, train_epoch_losses, val_epoch_losses = train(src_texts, tgt_texts, val_src_texts, val_tgt_texts, to_train_model, tokenizer)\n",
        "    print('model finished training')\n",
        "\n",
        "    trained_model.save_pretrained(f'/content/drive/MyDrive/W266 Final Project/{model_type}_mbart_sw_en_{datasize}_model')\n",
        "    print('model saved')\n",
        "\n",
        "    loss_df = pd.DataFrame([batch_losses]).T\n",
        "    loss_df.to_csv(f'/content/drive/MyDrive/W266 Final Project/{model_type}_{datasize}_batch_losses.csv')\n",
        "\n",
        "    train_val_loss_df = pd.DataFrame([train_epoch_losses, val_epoch_losses]).T\n",
        "    train_val_loss_df.to_csv(f'/content/drive/MyDrive/W266 Final Project/{model_type}_{datasize}_train_val_losses.csv')\n",
        "    print('lossed saved')\n",
        "        \n",
        "    return trained_model, batch_losses, train_epoch_losses, val_epoch_losses"
      ],
      "metadata": {
        "id": "_GYqZg-byhq2"
      },
      "id": "_GYqZg-byhq2",
      "execution_count": 9,
      "outputs": []
    },
    {
      "cell_type": "markdown",
      "source": [
        "# Google Translate Models"
      ],
      "metadata": {
        "id": "fEVRe2Nom2eF"
      },
      "id": "fEVRe2Nom2eF"
    },
    {
      "cell_type": "markdown",
      "source": [
        "## 10K Model"
      ],
      "metadata": {
        "id": "x4BurouayiHy"
      },
      "id": "x4BurouayiHy"
    },
    {
      "cell_type": "code",
      "source": [
        "data_path_10k = '/content/drive/MyDrive/W266 Final Project/google_translated_data/gt_10k_dataset.csv'\n",
        "\n",
        "trained_model_10k, losses_10k = train_pipeline(data_path_10k, train_model, tokenizer)"
      ],
      "metadata": {
        "id": "ftqCvjMmyhbW"
      },
      "id": "ftqCvjMmyhbW",
      "execution_count": null,
      "outputs": []
    },
    {
      "cell_type": "code",
      "source": [
        "pd.DataFrame(losses_10k).plot()"
      ],
      "metadata": {
        "colab": {
          "base_uri": "https://localhost:8080/",
          "height": 448
        },
        "id": "HXlkrtuClO-9",
        "outputId": "84ddd7ff-528c-4a83-9785-a88748202cd3"
      },
      "id": "HXlkrtuClO-9",
      "execution_count": null,
      "outputs": [
        {
          "output_type": "execute_result",
          "data": {
            "text/plain": [
              "<Axes: >"
            ]
          },
          "metadata": {},
          "execution_count": 18
        },
        {
          "output_type": "display_data",
          "data": {
            "text/plain": [
              "<Figure size 640x480 with 1 Axes>"
            ],
            "image/png": "[encoded data removed]"
          },
          "metadata": {}
        }
      ]
    },
    {
      "cell_type": "code",
      "source": [
        "pd.DataFrame(losses_10k).plot()"
      ],
      "metadata": {
        "colab": {
          "base_uri": "https://localhost:8080/",
          "height": 284
        },
        "id": "21q5mFOghkk2",
        "outputId": "de9e8b49-1617-4a8e-8ba0-86fc21a39ddf"
      },
      "id": "21q5mFOghkk2",
      "execution_count": null,
      "outputs": [
        {
          "output_type": "execute_result",
          "data": {
            "text/plain": [
              "<Axes: >"
            ]
          },
          "metadata": {},
          "execution_count": 10
        },
        {
          "output_type": "display_data",
          "data": {
            "text/plain": [
              "<Figure size 432x288 with 1 Axes>"
            ],
            "image/png": "[encoded data removed]"
          },
          "metadata": {
            "needs_background": "light"
          }
        }
      ]
    },
    {
      "cell_type": "markdown",
      "source": [
        "## 20K Model"
      ],
      "metadata": {
        "id": "qpi5bEBQ1Phg"
      },
      "id": "qpi5bEBQ1Phg"
    },
    {
      "cell_type": "code",
      "source": [
        "data_path_20k = '/content/drive/MyDrive/W266 Final Project/google_translated_data/gt_20k_dataset.csv'\n",
        "trained_model_20k, losses_20k = train_pipeline(data_path_20k, train_model, tokenizer)"
      ],
      "metadata": {
        "id": "DUKG3UHB1RvV"
      },
      "id": "DUKG3UHB1RvV",
      "execution_count": null,
      "outputs": []
    },
    {
      "cell_type": "markdown",
      "metadata": {
        "id": "w5gyIykFRy7K"
      },
      "source": [
        "## 50K Model"
      ],
      "id": "w5gyIykFRy7K"
    },
    {
      "cell_type": "code",
      "source": [
        "# 50k model took 6 minutes to train\n",
        "data_path_50k = '/content/drive/MyDrive/W266 Final Project/df_25k.csv'\n",
        "trained_model_50k, losses_50k = train_pipeline(data_path_50k, train_model, tokenizer)"
      ],
      "metadata": {
        "id": "4JYzNxxw5RE0"
      },
      "id": "4JYzNxxw5RE0",
      "execution_count": null,
      "outputs": []
    },
    {
      "cell_type": "code",
      "source": [],
      "metadata": {
        "id": "XQ-b9xixNm0m"
      },
      "id": "XQ-b9xixNm0m",
      "execution_count": null,
      "outputs": []
    },
    {
      "cell_type": "markdown",
      "source": [
        "## 100k model"
      ],
      "metadata": {
        "id": "FZCs7g-hTLwR"
      },
      "id": "FZCs7g-hTLwR"
    },
    {
      "cell_type": "code",
      "source": [
        "# 100k model took 14 minutes\n",
        "data_path_100k = '/content/drive/MyDrive/W266 Final Project/df_50k.csv'\n",
        "trained_model_100k, losses_100k = train_pipeline(data_path_100k, train_model, tokenizer)"
      ],
      "metadata": {
        "id": "EWCDPSNLTNVU"
      },
      "id": "EWCDPSNLTNVU",
      "execution_count": null,
      "outputs": []
    },
    {
      "cell_type": "markdown",
      "source": [
        "## 200K Model"
      ],
      "metadata": {
        "id": "OuodMQcDXhkp"
      },
      "id": "OuodMQcDXhkp"
    },
    {
      "cell_type": "code",
      "source": [
        "losses_200k_df = pd.DataFrame(losses_200k)\n",
        "losses_200k_df.plot()"
      ],
      "metadata": {
        "colab": {
          "base_uri": "https://localhost:8080/",
          "height": 283
        },
        "id": "dq6UAsd-eb3F",
        "outputId": "d1875042-406f-4eba-e2a8-6adf2855bc0f"
      },
      "id": "dq6UAsd-eb3F",
      "execution_count": null,
      "outputs": [
        {
          "output_type": "execute_result",
          "data": {
            "text/plain": [
              "<Axes: >"
            ]
          },
          "metadata": {},
          "execution_count": 18
        },
        {
          "output_type": "display_data",
          "data": {
            "text/plain": [
              "<Figure size 432x288 with 1 Axes>"
            ],
            "image/png": "[encoded data removed]"
          },
          "metadata": {
            "needs_background": "light"
          }
        }
      ]
    },
    {
      "cell_type": "code",
      "source": [
        "## 200k model took 20 minutes\n",
        "data_path_200k = '/content/drive/MyDrive/W266 Final Project/df_100k.csv'\n",
        "trained_model_200k, losses_200k = train_pipeline(data_path_200k, train_model, tokenizer)"
      ],
      "metadata": {
        "id": "N81rfNuKXi91"
      },
      "id": "N81rfNuKXi91",
      "execution_count": null,
      "outputs": []
    },
    {
      "cell_type": "code",
      "source": [],
      "metadata": {
        "id": "WMtyaOAtm6Zq"
      },
      "id": "WMtyaOAtm6Zq",
      "execution_count": null,
      "outputs": []
    },
    {
      "cell_type": "markdown",
      "source": [
        "# M2M-100 Models"
      ],
      "metadata": {
        "id": "QkPfs2CFHGxx"
      },
      "id": "QkPfs2CFHGxx"
    },
    {
      "cell_type": "markdown",
      "source": [
        "## 10K Model"
      ],
      "metadata": {
        "id": "dUU3SDCFIrJD"
      },
      "id": "dUU3SDCFIrJD"
    },
    {
      "cell_type": "code",
      "source": [
        "m2m_data_path_10k = '/content/drive/MyDrive/W266 Final Project/m2m_translated_data/m2m_10k_dataset.csv'\n",
        "\n",
        "m2m_trained_model_10k, m2m_losses_10k = train_pipeline(m2m_data_path_10k, train_model, tokenizer, 'm2m')"
      ],
      "metadata": {
        "id": "7Mv0bv7OHIYE"
      },
      "id": "7Mv0bv7OHIYE",
      "execution_count": null,
      "outputs": []
    },
    {
      "cell_type": "code",
      "source": [],
      "metadata": {
        "id": "VlBA8egHHIWK"
      },
      "id": "VlBA8egHHIWK",
      "execution_count": null,
      "outputs": []
    },
    {
      "cell_type": "markdown",
      "source": [
        "## 20K Model"
      ],
      "metadata": {
        "id": "q_WsYvRLI4-U"
      },
      "id": "q_WsYvRLI4-U"
    },
    {
      "cell_type": "code",
      "source": [
        "m2m_data_path_20k = '/content/drive/MyDrive/W266 Final Project/m2m_translated_data/m2m_20k_dataset.csv'\n",
        "\n",
        "m2m_trained_model_20k, m2m_losses_20k = train_pipeline(m2m_data_path_20k, train_model, tokenizer, 'm2m')"
      ],
      "metadata": {
        "id": "DIGUqIdUHIT6"
      },
      "id": "DIGUqIdUHIT6",
      "execution_count": null,
      "outputs": []
    },
    {
      "cell_type": "markdown",
      "source": [
        "## 50K Model"
      ],
      "metadata": {
        "id": "aTHoNhQkI6kS"
      },
      "id": "aTHoNhQkI6kS"
    },
    {
      "cell_type": "code",
      "source": [
        "m2m_data_path_50k = '/content/drive/MyDrive/W266 Final Project/m2m_translated_data/m2m_50k_dataset.csv'\n",
        "\n",
        "m2m_trained_model_50k, m2m_losses_50k = train_pipeline(m2m_data_path_50k, train_model, tokenizer, 'm2m')"
      ],
      "metadata": {
        "id": "wXLCVUA0I-OE"
      },
      "id": "wXLCVUA0I-OE",
      "execution_count": null,
      "outputs": []
    },
    {
      "cell_type": "markdown",
      "source": [
        "## 100K Model"
      ],
      "metadata": {
        "id": "t7V-OE-pI6iH"
      },
      "id": "t7V-OE-pI6iH"
    },
    {
      "cell_type": "code",
      "source": [
        "m2m_data_path_100k = '/content/drive/MyDrive/W266 Final Project/m2m_translated_data/m2m_100k_dataset.csv'\n",
        "\n",
        "m2m_trained_model_100k, m2m_losses_100k = train_pipeline(m2m_data_path_100k, train_model, tokenizer, 'm2m')"
      ],
      "metadata": {
        "id": "ZSjLnJGSI-nT"
      },
      "id": "ZSjLnJGSI-nT",
      "execution_count": null,
      "outputs": []
    },
    {
      "cell_type": "markdown",
      "source": [
        "## 200K Model"
      ],
      "metadata": {
        "id": "iyCB41SFI-5L"
      },
      "id": "iyCB41SFI-5L"
    },
    {
      "cell_type": "code",
      "source": [
        "m2m_data_path_200k = '/content/drive/MyDrive/W266 Final Project/m2m_translated_data/m2m_200k_dataset.csv'\n",
        "\n",
        "m2m_trained_model_200k, m2m_losses_200k = train_pipeline(m2m_data_path_200k, train_model, tokenizer, 'm2m')"
      ],
      "metadata": {
        "id": "GSq4KAz_I_HC"
      },
      "id": "GSq4KAz_I_HC",
      "execution_count": null,
      "outputs": []
    },
    {
      "cell_type": "markdown",
      "source": [
        "# ChatGPT Models"
      ],
      "metadata": {
        "id": "8-EqyYQQm6-O"
      },
      "id": "8-EqyYQQm6-O"
    },
    {
      "cell_type": "markdown",
      "source": [
        "## 10K Model"
      ],
      "metadata": {
        "id": "6yqoIN5EnB6d"
      },
      "id": "6yqoIN5EnB6d"
    },
    {
      "cell_type": "code",
      "source": [
        "gpt_data_path_10k = '/content/drive/MyDrive/W266 Final Project/gpt_translated_data/gpt_10k_dataset.csv'\n",
        "gpt_trained_model_10k, gpt_losses_10k = train_pipeline(gpt_data_path_10k, train_model, tokenizer, 'gpt')"
      ],
      "metadata": {
        "id": "J7JHBwurnB6d"
      },
      "execution_count": null,
      "outputs": [],
      "id": "J7JHBwurnB6d"
    },
    {
      "cell_type": "markdown",
      "source": [
        "## 20K Model"
      ],
      "metadata": {
        "id": "FegXXXZ6nB6e"
      },
      "id": "FegXXXZ6nB6e"
    },
    {
      "cell_type": "code",
      "source": [
        "gpt_data_path_20k = '/content/drive/MyDrive/W266 Final Project/gpt_translated_data/gpt_20k_dataset.csv'\n",
        "gpt_trained_model_20k, gpt_losses_20k = train_pipeline(gpt_data_path_20k, train_model, tokenizer, 'gpt')"
      ],
      "metadata": {
        "id": "_W6V2f2AnB6e"
      },
      "execution_count": null,
      "outputs": [],
      "id": "_W6V2f2AnB6e"
    },
    {
      "cell_type": "markdown",
      "metadata": {
        "id": "xjXI6YRunB6e"
      },
      "source": [
        "## 50K Model"
      ],
      "id": "xjXI6YRunB6e"
    },
    {
      "cell_type": "code",
      "source": [
        "gpt_data_path_50k = '/content/drive/MyDrive/W266 Final Project/gpt_translated_data/gpt_50k_dataset.csv'\n",
        "gpt_trained_model_50k, gpt_losses_50k = train_pipeline(gpt_data_path_50k, train_model, tokenizer, 'gpt')"
      ],
      "metadata": {
        "id": "DO_ppCA7nB6e"
      },
      "execution_count": null,
      "outputs": [],
      "id": "DO_ppCA7nB6e"
    },
    {
      "cell_type": "markdown",
      "source": [
        "## 100k model"
      ],
      "metadata": {
        "id": "DmrBpL3GnB6e"
      },
      "id": "DmrBpL3GnB6e"
    },
    {
      "cell_type": "code",
      "source": [
        "gpt_data_path_100k = '/content/drive/MyDrive/W266 Final Project/gpt_translated_data/gpt_100k_dataset.csv'\n",
        "gpt_trained_model_100k, gpt_losses_100k = train_pipeline(gpt_data_path_100k, train_model, tokenizer, 'gpt')"
      ],
      "metadata": {
        "id": "AocRdRgInB6e"
      },
      "execution_count": null,
      "outputs": [],
      "id": "AocRdRgInB6e"
    },
    {
      "cell_type": "markdown",
      "source": [
        "## 2nd Half 50K Model"
      ],
      "metadata": {
        "id": "DZeucRgZZVLZ"
      },
      "id": "DZeucRgZZVLZ"
    },
    {
      "cell_type": "code",
      "source": [
        "# train model using last 25K rows of gpt_100k_dataset to create a 50K dataset, 50K model uses first 25K rows\n",
        "gpt_data_path_last_50k = '/content/drive/MyDrive/W266 Final Project/gpt_translated_data/gpt_last50k_dataset.csv'\n",
        "gpt_trained_model_last_50k, gpt_losses_last_50k = train_pipeline(gpt_data_path_last_50k, train_model, tokenizer, 'gpt_last_50k')"
      ],
      "metadata": {
        "id": "Ne23o3_ZniTV"
      },
      "id": "Ne23o3_ZniTV",
      "execution_count": null,
      "outputs": []
    },
    {
      "cell_type": "markdown",
      "source": [
        "# Reworded ChatGPT Models"
      ],
      "metadata": {
        "id": "3I9Y_ek9nlRq"
      },
      "id": "3I9Y_ek9nlRq"
    },
    {
      "cell_type": "markdown",
      "source": [
        "## 10K Model"
      ],
      "metadata": {
        "id": "Qpa3tgnOnlRq"
      },
      "id": "Qpa3tgnOnlRq"
    },
    {
      "cell_type": "code",
      "source": [
        "rw_data_path_10k = '/content/drive/MyDrive/W266 Final Project/gt_reworded_data/reword_10k_dataset.csv'\n",
        "rw_trained_model_10k, rw_losses_10k, rw_train_epoch_losses_10k, rw_val_epoch_losses_10k = train_pipeline(rw_data_path_10k, train_model, tokenizer, 'rw')"
      ],
      "metadata": {
        "id": "Of0O2uCJnlRr"
      },
      "execution_count": null,
      "outputs": [],
      "id": "Of0O2uCJnlRr"
    },
    {
      "cell_type": "markdown",
      "source": [
        "## 20K Model"
      ],
      "metadata": {
        "id": "Uy79HcoBnlRr"
      },
      "id": "Uy79HcoBnlRr"
    },
    {
      "cell_type": "code",
      "source": [
        "# 20k is 50k, 50k is 20k\n",
        "rw_data_path_20k = '/content/drive/MyDrive/W266 Final Project/gt_reworded_data/reword_50k_dataset.csv'\n",
        "rw_trained_model_20k, rw_losses_20k, rw_train_epoch_losses_20k, rw_val_epoch_losses_20k = train_pipeline(rw_data_path_20k, train_model, tokenizer, 'rw')"
      ],
      "metadata": {
        "id": "ExFNrMNwnlRr"
      },
      "execution_count": null,
      "outputs": [],
      "id": "ExFNrMNwnlRr"
    },
    {
      "cell_type": "markdown",
      "metadata": {
        "id": "YuBk-B4tnlRr"
      },
      "source": [
        "## 50K Model"
      ],
      "id": "YuBk-B4tnlRr"
    },
    {
      "cell_type": "code",
      "source": [
        "rw_data_path_50k = '/content/drive/MyDrive/W266 Final Project/gt_reworded_data/reword_20k_dataset.csv'\n",
        "rw_trained_model_50k, rw_losses_50k, rw_train_epoch_losses_50k, rw_val_epoch_losses_50k = train_pipeline(rw_data_path_50k, train_model, tokenizer, 'rw')"
      ],
      "metadata": {
        "id": "eNB9_8T6nlRr"
      },
      "execution_count": null,
      "outputs": [],
      "id": "eNB9_8T6nlRr"
    },
    {
      "cell_type": "markdown",
      "source": [
        "## 100k model"
      ],
      "metadata": {
        "id": "iuQwrNT1nlRr"
      },
      "id": "iuQwrNT1nlRr"
    },
    {
      "cell_type": "code",
      "source": [
        "rw_data_path_100k = '/content/drive/MyDrive/W266 Final Project/gt_reworded_data/reword_100k_dataset.csv'\n",
        "rw_trained_model_100k, rw_losses_100k, rw_train_epoch_losses_100k, rw_val_epoch_losses_100k = train_pipeline(rw_data_path_100k, train_model, tokenizer, 'rw')"
      ],
      "metadata": {
        "id": "4ei2vHIgnlRr"
      },
      "execution_count": null,
      "outputs": [],
      "id": "4ei2vHIgnlRr"
    },
    {
      "cell_type": "markdown",
      "source": [
        "# mBART Models"
      ],
      "metadata": {
        "id": "lCTMquHGLDay"
      },
      "id": "lCTMquHGLDay"
    },
    {
      "cell_type": "markdown",
      "source": [
        "## 10K Model"
      ],
      "metadata": {
        "id": "8HL96NkzLJzV"
      },
      "id": "8HL96NkzLJzV"
    },
    {
      "cell_type": "code",
      "source": [
        "mbart_data_path_10k = '/content/drive/MyDrive/W266 Final Project/mBART_translated_data/mBART_10k_dataset.csv'\n",
        "mbart_trained_model_10k, mbart_losses_10k = train_pipeline(mbart_data_path_10k, train_model, tokenizer, 'mbart')"
      ],
      "metadata": {
        "id": "EI3gHsOILJzV"
      },
      "execution_count": null,
      "outputs": [],
      "id": "EI3gHsOILJzV"
    },
    {
      "cell_type": "markdown",
      "source": [
        "## 20K Model"
      ],
      "metadata": {
        "id": "EnUPi1eALJzV"
      },
      "id": "EnUPi1eALJzV"
    },
    {
      "cell_type": "code",
      "source": [
        "mbart_data_path_20k = '/content/drive/MyDrive/W266 Final Project/mBART_translated_data/mBART_20k_dataset.csv'\n",
        "mbart_trained_model_20k, mbart_losses_20k = train_pipeline(mbart_data_path_20k, train_model, tokenizer, 'mbart')"
      ],
      "metadata": {
        "id": "viQIFwgqLJzV"
      },
      "execution_count": null,
      "outputs": [],
      "id": "viQIFwgqLJzV"
    },
    {
      "cell_type": "markdown",
      "source": [
        "## 50K Model"
      ],
      "metadata": {
        "id": "hvJts89bLJzV"
      },
      "id": "hvJts89bLJzV"
    },
    {
      "cell_type": "code",
      "source": [
        "mbart_data_path_50k = '/content/drive/MyDrive/W266 Final Project/mBART_translated_data/mBART_50k_dataset.csv'\n",
        "mbart_trained_model_50k, mbart_losses_50k = train_pipeline(mbart_data_path_50k, train_model, tokenizer, 'mbart')"
      ],
      "metadata": {
        "id": "NjsSzKw0LJzW"
      },
      "execution_count": null,
      "outputs": [],
      "id": "NjsSzKw0LJzW"
    },
    {
      "cell_type": "markdown",
      "source": [
        "## 100K Model"
      ],
      "metadata": {
        "id": "TD-aV_IlLJzW"
      },
      "id": "TD-aV_IlLJzW"
    },
    {
      "cell_type": "code",
      "source": [
        "mbart_data_path_100k = '/content/drive/MyDrive/W266 Final Project/mBART_translated_data/mBART_100k_dataset.csv'\n",
        "mbart_trained_model_100k, mbart_losses_100k = train_pipeline(mbart_data_path_100k, train_model, tokenizer, 'mbart')"
      ],
      "metadata": {
        "id": "DYpnNONrLJzW"
      },
      "execution_count": null,
      "outputs": [],
      "id": "DYpnNONrLJzW"
    },
    {
      "cell_type": "markdown",
      "source": [
        "## 200K Model"
      ],
      "metadata": {
        "id": "HA96vBq0LJzW"
      },
      "id": "HA96vBq0LJzW"
    },
    {
      "cell_type": "code",
      "source": [
        "mbart_data_path_200k = '/content/drive/MyDrive/W266 Final Project/mBART_translated_data/mBART_200k_dataset.csv'\n",
        "# mbart_trained_model_200k, mbart_losses_200k = train_pipeline(mbart_data_path_200k, train_model, tokenizer, 'mbart')"
      ],
      "metadata": {
        "id": "Ehiz0bk9LJzW"
      },
      "execution_count": null,
      "outputs": [],
      "id": "Ehiz0bk9LJzW"
    },
    {
      "cell_type": "code",
      "source": [
        "# 2nd time training with train/val epoch loss\n",
        "mbart_trained_model_200k, batch_losses_200k, train_epoch_losses_200k, val_epoch_losses_200k = train_pipeline(mbart_data_path_200k, train_model, tokenizer, 'mbart_train_val_epoch')"
      ],
      "metadata": {
        "id": "Ev53hRqxPcru"
      },
      "id": "Ev53hRqxPcru",
      "execution_count": null,
      "outputs": []
    },
    {
      "cell_type": "markdown",
      "source": [
        "## 2nd 10K dataset"
      ],
      "metadata": {
        "id": "YAsYzDv0cNqc"
      },
      "id": "YAsYzDv0cNqc"
    },
    {
      "cell_type": "code",
      "source": [
        "# train model using last 5K rows only to create 2nd half 10K dataset\n",
        "# 10K dataset uses first 5K rows to create 10K dataset\n",
        "mbart_data_path_last_10k = '/content/drive/MyDrive/W266 Final Project/mBART_translated_data/mBART_last10k_dataset.csv'\n",
        "mbart_trained_model_last_10k, mbart_losses_last_10k = train_pipeline(mbart_data_path_last_10k, train_model, tokenizer, 'mbart_last_10k')\n"
      ],
      "metadata": {
        "id": "nI0tZdLrtrUu"
      },
      "id": "nI0tZdLrtrUu",
      "execution_count": null,
      "outputs": []
    },
    {
      "cell_type": "markdown",
      "source": [
        "## 2nd 100K Dataset"
      ],
      "metadata": {
        "id": "l4IgsgmgcIz5"
      },
      "id": "l4IgsgmgcIz5"
    },
    {
      "cell_type": "code",
      "source": [
        "# then train model using last 50K rows to create the 2nd half 100K dataset\n",
        "# 100K model uses first 50K rows\n",
        "mbart_data_path_last_100k = '/content/drive/MyDrive/W266 Final Project/mBART_translated_data/mBART_last100k_dataset.csv'\n",
        "mbart_trained_model_last_100k, mbart_losses_last_100k = train_pipeline(mbart_data_path_last_100k, train_model, tokenizer, 'mbart_last_100k')"
      ],
      "metadata": {
        "id": "wGMElfzjcJKS"
      },
      "id": "wGMElfzjcJKS",
      "execution_count": null,
      "outputs": []
    },
    {
      "cell_type": "code",
      "source": [],
      "metadata": {
        "id": "Uo172R3vdxds"
      },
      "id": "Uo172R3vdxds",
      "execution_count": null,
      "outputs": []
    },
    {
      "cell_type": "markdown",
      "source": [
        "# Data Visualizations"
      ],
      "metadata": {
        "id": "vV3_DXkPqVm4"
      },
      "id": "vV3_DXkPqVm4"
    },
    {
      "cell_type": "code",
      "source": [
        "import pandas as pd\n",
        "\n",
        "mbart_losses = pd.read_csv('/content/drive/MyDrive/W266 Final Project/mbart_train_val_epoch_200k_train_val_losses.csv')\n",
        "mbart_losses.columns = ['index', 'training_loss', 'validation_loss']"
      ],
      "metadata": {
        "id": "Zb4puTvH-3EN"
      },
      "id": "Zb4puTvH-3EN",
      "execution_count": 5,
      "outputs": []
    },
    {
      "cell_type": "code",
      "source": [
        "# plot train/val loss curves for Google Translate and mBART models\n",
        "\n",
        "\n",
        "import matplotlib.pyplot as plt\n",
        "\n",
        "# training and validation loss values\n",
        "train_loss = mbart_losses['training_loss'].values\n",
        "val_loss = mbart_losses['validation_loss'].values\n",
        "\n",
        "# create a figure and axis\n",
        "fig, ax = plt.subplots()\n",
        "\n",
        "# set x and y axis labels and title\n",
        "ax.set_xlabel('Epochs')\n",
        "ax.set_ylabel('Loss')\n",
        "ax.set_title('Training and Validation Loss')\n",
        "\n",
        "# plot training and validation loss curves\n",
        "ax.plot(range(1, len(train_loss)+1), train_loss, label='Training Loss')\n",
        "ax.plot(range(1, len(val_loss)+1), val_loss, label='Validation Loss')\n",
        "\n",
        "# add a legend to the plot\n",
        "ax.legend()\n",
        "\n",
        "# display the plot\n",
        "plt.show()\n"
      ],
      "metadata": {
        "id": "6XpM9HuRqXUV",
        "colab": {
          "base_uri": "https://localhost:8080/",
          "height": 472
        },
        "outputId": "ba646499-8160-4e15-dd87-5c15f04bb733"
      },
      "id": "6XpM9HuRqXUV",
      "execution_count": 6,
      "outputs": [
        {
          "output_type": "display_data",
          "data": {
            "text/plain": [
              "<Figure size 640x480 with 1 Axes>"
            ],
            "image/png": "[encoded data removed]"
          },
          "metadata": {}
        }
      ]
    },
    {
      "cell_type": "code",
      "source": [
        "google_translate_losses = pd.read_csv('/content/drive/MyDrive/W266 Final Project/google_translate_train_val_epoch_200k_train_val_losses.csv')\n",
        "google_translate_losses.columns = ['index', 'training_loss', 'validation_loss']\n",
        "\n",
        "# training and validation loss values\n",
        "train_loss = google_translate_losses['training_loss'].values\n",
        "val_loss = google_translate_losses['validation_loss'].values\n",
        "\n",
        "# create a figure and axis\n",
        "fig, ax = plt.subplots()\n",
        "\n",
        "# set x and y axis labels and title\n",
        "ax.set_xlabel('Epochs')\n",
        "ax.set_ylabel('Loss')\n",
        "ax.set_title('Training and Validation Loss')\n",
        "\n",
        "# plot training and validation loss curves\n",
        "ax.plot(range(1, len(train_loss)+1), train_loss, label='Training Loss')\n",
        "ax.plot(range(1, len(val_loss)+1), val_loss, label='Validation Loss')\n",
        "\n",
        "# add a legend to the plot\n",
        "ax.legend()\n",
        "\n",
        "# display the plot\n",
        "plt.show()\n"
      ],
      "metadata": {
        "id": "xidOZcqZqXO-",
        "colab": {
          "base_uri": "https://localhost:8080/",
          "height": 472
        },
        "outputId": "538f96d9-815c-439f-eda3-ebb932689324"
      },
      "id": "xidOZcqZqXO-",
      "execution_count": 7,
      "outputs": [
        {
          "output_type": "display_data",
          "data": {
            "text/plain": [
              "<Figure size 640x480 with 1 Axes>"
            ],
            "image/png": "[encoded data removed]"
          },
          "metadata": {}
        }
      ]
    },
    {
      "cell_type": "code",
      "source": [],
      "metadata": {
        "id": "2-gsSMniqWrQ"
      },
      "id": "2-gsSMniqWrQ",
      "execution_count": null,
      "outputs": []
    }
  ],
  "metadata": {
    "colab": {
      "collapsed_sections": [
        "0LjnvJI2zzhi",
        "3pefbjInKMyu",
        "fEVRe2Nom2eF",
        "QkPfs2CFHGxx",
        "dUU3SDCFIrJD",
        "q_WsYvRLI4-U",
        "aTHoNhQkI6kS",
        "8-EqyYQQm6-O",
        "3I9Y_ek9nlRq"
      ],
      "machine_shape": "hm",
      "provenance": []
    },
    "gpuClass": "premium",
    "kernelspec": {
      "display_name": "Python 3",
      "language": "python",
      "name": "python3"
    },
    "language_info": {
      "codemirror_mode": {
        "name": "ipython",
        "version": 3
      },
      "file_extension": ".py",
      "mimetype": "text/x-python",
      "name": "python",
      "nbconvert_exporter": "python",
      "pygments_lexer": "ipython3",
      "version": "3.8.8"
    },
    "accelerator": "GPU"
  },
  "nbformat": 4,
  "nbformat_minor": 5
}